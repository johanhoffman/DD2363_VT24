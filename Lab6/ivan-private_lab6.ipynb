{
 "nbformat": 4,
 "nbformat_minor": 0,
 "metadata": {
  "colab": {
   "provenance": [],
   "include_colab_link": true
  },
  "kernelspec": {
   "name": "python3",
   "language": "python",
   "display_name": "Python 3 (ipykernel)"
  }
 },
 "cells": [
  {
   "cell_type": "markdown",
   "metadata": {
    "id": "view-in-github",
    "colab_type": "text"
   },
   "source": [
    "<a href=\"https://colab.research.google.com/github/johanhoffman/DD2363_VT24/blob/ivan-private-Lab6/Lab6/ivan-private_lab6.ipynb\" target=\"_parent\"><img src=\"https://colab.research.google.com/assets/colab-badge.svg\" alt=\"Open In Colab\"/></a>"
   ]
  },
  {
   "cell_type": "markdown",
   "metadata": {
    "id": "6RgtXlfYO_i7"
   },
   "source": [
    "# **Lab 6: Optimization and learning**\n",
    "**Ivan Zivkovic**"
   ]
  },
  {
   "cell_type": "markdown",
   "metadata": {
    "id": "9x_J5FVuPzbm"
   },
   "source": [
    "# **Abstract**\n",
    "\n",
    "In this lab the gradient descent method will be implemented to be able to solve a minimization problem of the type:\n",
    "$$\\min_{x \\in R^n} f(x)$$\n",
    "$$f : R^n \\rightarrow R$$ "
   ]
  },
  {
   "cell_type": "markdown",
   "metadata": {
    "id": "OkT8J7uOWpT3"
   },
   "source": [
    "# **About the code**"
   ]
  },
  {
   "cell_type": "markdown",
   "metadata": {
    "id": "HmB2noTr1Oyo"
   },
   "source": [
    "This report is written by Ivan Zivkovic (ivanzi@kth.se)"
   ]
  },
  {
   "cell_type": "code",
   "metadata": {
    "id": "Pdll1Xc9WP0e",
    "colab": {
     "base_uri": "https://localhost:8080/",
     "height": 35
    },
    "outputId": "a790b00c-cbec-47f1-9059-e0be7f88ff5d",
    "ExecuteTime": {
     "end_time": "2024-03-13T17:14:40.790221Z",
     "start_time": "2024-03-13T17:14:40.786344Z"
    }
   },
   "source": [
    "\"\"\"This program is a template for lab reports in the course\"\"\"\n",
    "\"\"\"DD2363 Methods in Scientific Computing, \"\"\"\n",
    "\"\"\"KTH Royal Institute of Technology, Stockholm, Sweden.\"\"\"\n",
    "\n",
    "# Copyright (C) 2020 Johan Hoffman (jhoffman@kth.se)\n",
    "\n",
    "# This file is part of the course DD2365 Advanced Computation in Fluid Mechanics\n",
    "# KTH Royal Institute of Technology, Stockholm, Sweden\n",
    "#\n",
    "# This is free software: you can redistribute it and/or modify\n",
    "# it under the terms of the GNU Lesser General Public License as published by\n",
    "# the Free Software Foundation, either version 3 of the License, or\n",
    "# (at your option) any later version.\n",
    "\n",
    "# This template is maintained by Johan Hoffman\n",
    "# Please report problems to jhoffman@kth.se"
   ],
   "execution_count": 16,
   "outputs": [
    {
     "data": {
      "text/plain": "'KTH Royal Institute of Technology, Stockholm, Sweden.'"
     },
     "execution_count": 16,
     "metadata": {},
     "output_type": "execute_result"
    }
   ]
  },
  {
   "cell_type": "markdown",
   "metadata": {
    "id": "28xLGz8JX3Hh"
   },
   "source": [
    "# **Set up environment**"
   ]
  },
  {
   "cell_type": "code",
   "outputs": [],
   "source": [
    "# Load neccessary modules.\n",
    "\n",
    "\n",
    "import numpy as np\n",
    "import matplotlib.pyplot as plt\n",
    "\n",
    "\n",
    "from typing import TypeAlias, Callable, Tuple\n",
    "NumpyVector_t: TypeAlias = np.ndarray\n",
    "NumpyMatrix_t: TypeAlias = np.ndarray"
   ],
   "metadata": {
    "collapsed": false,
    "ExecuteTime": {
     "end_time": "2024-03-13T17:14:40.800724Z",
     "start_time": "2024-03-13T17:14:40.789573Z"
    }
   },
   "execution_count": 17
  },
  {
   "cell_type": "markdown",
   "metadata": {
    "id": "gnO3lhAigLev"
   },
   "source": [
    "# **Introduction**\n",
    "\n",
    "When trying to find a minimum of a cost function $f : R^n \\rightarrow R$ there are several methods that can be used. One good method is the gradient descent method which updates the current point in the direction of the negative gradient. This iterative method keeps going until the gradient is zero (or close to it with a tolerance) which it will be when a local minimum has been found. If the cost function is convex, the local minimum is also a global minimum. "
   ]
  },
  {
   "cell_type": "markdown",
   "metadata": {
    "id": "jOQvukXZq5U5"
   },
   "source": [
    "# **Method**"
   ]
  },
  {
   "cell_type": "markdown",
   "source": [
    "## **Gradient descent method in $R^n$**\n",
    "\n",
    "The gradient descent method can be described with the update formula:\n",
    "$$x^{(k+1)} = x^{(k)} - \\alpha^{(k)} \\nabla f(x^{(k)})$$\n",
    "where $\\alpha$ is the step length. \n",
    "\n",
    "The iteration will keep on going until $\\nabla f < TOL$, or the maximum number of iterations is reached. In practice, this max number of iterations should not be the reason for the algorithm to terminate. \n",
    "\n"
   ],
   "metadata": {
    "id": "eONxFKymDTDt"
   }
  },
  {
   "cell_type": "code",
   "source": [
    "def grad(f: Callable[[NumpyVector_t], float], x: NumpyVector_t) -> NumpyVector_t:\n",
    "    grad_f = np.zeros(x.shape)\n",
    "    h = 10**-9\n",
    "    \n",
    "    for i in range(len(grad_f)):\n",
    "        dx = np.zeros(x.shape)\n",
    "        dx[i] = h\n",
    "        grad_f[i] = (f(x + dx) - f(x)) / h\n",
    "    \n",
    "    return grad_f\n",
    "\n",
    "\n",
    "def gradient_descent(f: Callable[[NumpyVector_t], float], x0: NumpyVector_t, max_iterations=10**6, TOL=10**-9) -> NumpyVector_t:\n",
    "    x = x0[:]\n",
    "    for i in range(max_iterations):\n",
    "        grad_f = grad(f, x)\n",
    "        \n",
    "        if np.linalg.norm(grad_f) < TOL:\n",
    "            break\n",
    "        alpha = 0.05\n",
    "        x = x - alpha * grad_f\n",
    "        \n",
    "    return x\n",
    "    "
   ],
   "metadata": {
    "id": "hwwxa7EqD7zu",
    "ExecuteTime": {
     "end_time": "2024-03-13T17:14:40.800923Z",
     "start_time": "2024-03-13T17:14:40.790748Z"
    }
   },
   "execution_count": 18,
   "outputs": []
  },
  {
   "cell_type": "markdown",
   "metadata": {
    "id": "SsQLT38gVbn_"
   },
   "source": [
    "# **Results**\n"
   ]
  },
  {
   "cell_type": "markdown",
   "source": [
    "## **Gradient descent method in $R^n$**\n",
    "\n",
    "To test the gradient descent method, the convex cost function $f(x) = x_1^2 + x_2^2 - 2x_1, \\quad x \\in R^2$ will be used. It has one minimum point found in $x=(1, 0)$. "
   ],
   "metadata": {
    "collapsed": false
   }
  },
  {
   "cell_type": "code",
   "source": [
    "def func(x: NumpyVector_t) -> float:\n",
    "    x1, x2 = x\n",
    "    return x1**2 + x2**2 - 2*x1\n",
    "    \n",
    "expected_min_point = np.array( [1, 0] )\n",
    "\n",
    "x0 = np.array( [0, 0] )\n",
    "\n",
    "approx_min_point = gradient_descent(func, x0)\n",
    "\n",
    "# Test accuracy \n",
    "print(f\"Expected minimum point: {expected_min_point}\")\n",
    "print(f\"Approximated minimum point with gradient descent: {approx_min_point}\")\n",
    "\n",
    "print(f\"Error: {np.abs(approx_min_point - expected_min_point)}\")\n",
    "\n",
    "\n",
    "# Test convergence\n",
    "iterations = np.linspace(1, 50, 10, dtype=int)\n",
    "result = np.empty((len(iterations), len(x0)))\n",
    "\n",
    "for i, iteration in enumerate(iterations):\n",
    "    result[i, :] = gradient_descent(func, x0, max_iterations=iteration)\n",
    "    \n",
    "error = np.empty(iterations.shape)\n",
    "for i in range(len(iterations)):\n",
    "    error[i] = np.linalg.norm(result[i] - expected_min_point)\n",
    "\n",
    "plt.title(\"Convergence of gradient descent method\")\n",
    "plt.plot(iterations, error, label=\"error\")\n",
    "plt.xlabel(\"iterations\")\n",
    "plt.ylabel(\"norm of error\")\n",
    "plt.legend()\n",
    "\n",
    "plt.show()"
   ],
   "metadata": {
    "colab": {
     "base_uri": "https://localhost:8080/"
    },
    "id": "rjOaGUtrFb01",
    "outputId": "8a8dccee-bd75-4524-a7f2-0891bd599c3a",
    "ExecuteTime": {
     "end_time": "2024-03-13T17:14:40.846004Z",
     "start_time": "2024-03-13T17:14:40.797851Z"
    }
   },
   "execution_count": 19,
   "outputs": [
    {
     "name": "stdout",
     "output_type": "stream",
     "text": [
      "Expected minimum point: [1 0]\n",
      "Approximated minimum point with gradient descent: [ 9.99999965e-01 -5.00000000e-11]\n",
      "Error: [3.52181898e-08 5.00000000e-11]\n"
     ]
    },
    {
     "data": {
      "text/plain": "<Figure size 640x480 with 1 Axes>",
      "image/png": "[encoded data removed]"
     },
     "metadata": {},
     "output_type": "display_data"
    }
   ]
  },
  {
   "cell_type": "markdown",
   "metadata": {
    "id": "_4GLBv0zWr7m"
   },
   "source": [
    "# **Discussion**\n",
    "\n",
    "As we can see from the results, the gradient descent method is able to find the minimum point of the convex cost function with a small error. One drawback of this gradient descent implementation is that if the function is not convex, it is possible that the function will return a point that is a local minimum but not a global one. \n",
    "\n",
    "One possible improvement for this implementation which will lead to a faster convergence is to not have a constant $\\alpha$, but to solve another minimizaiton problem to find the best possible $\\alpha$. \n",
    "\n",
    "The step length $\\alpha^{(k)}$ can be chosen by an iterative line search method, where the objective function is minimized along the search direction \n",
    "$$f(s) = f(x^{(k)} - s \\nabla f(x^{(k)}))$$"
   ]
  }
 ]
}
