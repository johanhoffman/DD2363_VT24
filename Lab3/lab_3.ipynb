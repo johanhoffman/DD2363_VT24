{
  "nbformat": 4,
  "nbformat_minor": 0,
  "metadata": {
    "colab": {
      "provenance": []
    },
    "kernelspec": {
      "name": "python3",
      "display_name": "Python 3"
    }
  },
  "cells": [
    {
      "cell_type": "markdown",
      "metadata": {
        "id": "6RgtXlfYO_i7"
      },
      "source": [
        "# **Lab 3: Approximation**\n",
        "**Matteus Berg**\n",
        "\n",
        "2024-02-06"
      ]
    },
    {
      "cell_type": "markdown",
      "metadata": {
        "id": "9x_J5FVuPzbm"
      },
      "source": [
        "# **Abstract**"
      ]
    },
    {
      "cell_type": "markdown",
      "metadata": {
        "id": "6UFTSzW7P8kL"
      },
      "source": [
        "In this lab report, the L2 projection method is implemented. Linear shape functions are used for the implemented projection method. The code is then tested for its accuracy and convergence rate.\n",
        "\n",
        "The results show that the projection method has quadratic convergence rate when approximating non-linear functions."
      ]
    },
    {
      "cell_type": "markdown",
      "metadata": {
        "id": "yJipbXtnjrJZ"
      },
      "source": []
    },
    {
      "cell_type": "markdown",
      "metadata": {
        "id": "OkT8J7uOWpT3"
      },
      "source": [
        "#**About the code**"
      ]
    },
    {
      "cell_type": "markdown",
      "metadata": {
        "id": "HmB2noTr1Oyo"
      },
      "source": [
        "A short statement on who is the author of the file, and if the code is distributed under a certain license."
      ]
    },
    {
      "cell_type": "code",
      "metadata": {
        "id": "Pdll1Xc9WP0e",
        "colab": {
          "base_uri": "https://localhost:8080/",
          "height": 37
        },
        "outputId": "9e782dc7-4ad0-48f9-d45c-2200e83dec4d"
      },
      "source": [
        "\"\"\"This program is a template for lab reports in the course\"\"\"\n",
        "\"\"\"DD2363 Methods in Scientific Computing, \"\"\"\n",
        "\"\"\"KTH Royal Institute of Technology, Stockholm, Sweden.\"\"\"\n",
        "\n",
        "# Copyright (C) 2020 Johan Hoffman (jhoffman@kth.se)\n",
        "\n",
        "# This file is part of the course DD2365 Advanced Computation in Fluid Mechanics\n",
        "# KTH Royal Institute of Technology, Stockholm, Sweden\n",
        "#\n",
        "# This is free software: you can redistribute it and/or modify\n",
        "# it under the terms of the GNU Lesser General Public License as published by\n",
        "# the Free Software Foundation, either version 3 of the License, or\n",
        "# (at your option) any later version.\n",
        "\n",
        "# This template is maintained by Johan Hoffman\n",
        "# Please report problems to jhoffman@kth.se"
      ],
      "execution_count": null,
      "outputs": [
        {
          "output_type": "execute_result",
          "data": {
            "application/vnd.google.colaboratory.intrinsic+json": {
              "type": "string"
            },
            "text/plain": [
              "'KTH Royal Institute of Technology, Stockholm, Sweden.'"
            ]
          },
          "metadata": {},
          "execution_count": 1
        }
      ]
    },
    {
      "cell_type": "markdown",
      "metadata": {
        "id": "28xLGz8JX3Hh"
      },
      "source": [
        "# **Set up environment**"
      ]
    },
    {
      "cell_type": "markdown",
      "metadata": {
        "id": "D2PYNusD08Wa"
      },
      "source": [
        "To have access to the neccessary modules you have to run this cell. If you need additional modules, this is where you add them."
      ]
    },
    {
      "cell_type": "code",
      "metadata": {
        "id": "Xw7VlErAX7NS"
      },
      "source": [
        "# Load neccessary modules.\n",
        "from google.colab import files\n",
        "\n",
        "import time\n",
        "import numpy as np\n",
        "\n",
        "#try:\n",
        "#    from dolfin import *; from mshr import *\n",
        "#except ImportError as e:\n",
        "#    !apt-get install -y -qq software-properties-common\n",
        "#    !add-apt-repository -y ppa:fenics-packages/fenics\n",
        "#    !apt-get update -qq\n",
        "#    !apt install -y --no-install-recommends fenics\n",
        "#    from dolfin import *; from mshr import *\n",
        "\n",
        "#import dolfin.common.plotting as fenicsplot\n",
        "\n",
        "from matplotlib import pyplot as plt\n",
        "from matplotlib import tri\n",
        "from matplotlib import axes\n",
        "from mpl_toolkits.mplot3d import Axes3D"
      ],
      "execution_count": 1,
      "outputs": []
    },
    {
      "cell_type": "markdown",
      "metadata": {
        "id": "gnO3lhAigLev"
      },
      "source": [
        "# **Introduction**"
      ]
    },
    {
      "cell_type": "markdown",
      "metadata": {
        "id": "l5zMzgPlRAF6"
      },
      "source": [
        "The objective of this lab report is to run and test the L2 projection method. The purpose of L2 projection is to approximate a function f in a set of nodes $\\{x_i\\}^N_{i=1}$. The approximation for f is denoted as $P_Nf(x)$. The L2 projection is defined in the course book on page 200 as\n",
        "\n",
        "$ P_Nf(x) = \\sum_{j=1}^N \\alpha_j\\phi_j(x) $\n",
        "\n",
        "Where $\\{ \\phi \\}_{i=1}^N$ is a collection of basis vectors that span $L^2([a,b])$, a hilbert space. And $\\{ \\alpha \\}_{i=1}^N$ a collection of coordinates in $V_N$. After a basis is chosen, the main task is to compute the coordinates $\\alpha \\in R^N$ by restating the above equation as a matrix equation\n",
        "\n",
        "$ \\sum_{j=1}^N \\alpha_j(\\phi_j,\\phi_i) = (f,\\phi_i) \\hspace{30pt} \\forall i = 1,...,N $\n",
        "\n",
        "In the above equation, $\\{\\alpha_j\\}_{j=1}^{N}$ is the vector of elements that we want to determine. The $L^2([a,b])$ inner product is defined as\n",
        "\n",
        "$(f,g) = (f,g)_{L^2([a,b])} = \\int_a^b f(x)g(x) dx$\n",
        "\n",
        "In order to solve the matrix equation we need to determine $A$ and $b$. For this we need to compute all the inner products that $A$ and $b$ is made up of. The so-called \"assembly algorithm\" is implemented for this. See page 203 in the book. Instead of iterating over each interval $I_k = [x_{k-1}, x_k]$ several times to get each value of the matrix and vector, we instead iterate over each interval once and calculate all integrals in that interval.\n",
        "\n",
        "To get a feel for the matrix equation it can help looking at its structure for N = 3:\n",
        "\n",
        "$\n",
        "A\\alpha = b <=>\n",
        "\\begin{bmatrix}\n",
        "\\phi_1(x_1) & \\phi_2(x_1) & \\phi_3(x_1) \\\\\n",
        "\\phi_1(x_2) & \\phi_2(x_2) & \\phi_3(x_2) \\\\\n",
        "\\phi_1(x_3) & \\phi_2(x_3) & \\phi_3(x_3) \\\\\n",
        "\\end{bmatrix}\n",
        "*\n",
        "\\begin{bmatrix}\n",
        "\\alpha_1 \\\\\n",
        "\\alpha_2 \\\\\n",
        "\\alpha_3 \\\\\n",
        "\\end{bmatrix}\n",
        "=\n",
        "\\begin{bmatrix}\n",
        "f(x_1) \\\\\n",
        "f(x_2) \\\\\n",
        "f(x_3) \\\\\n",
        "\\end{bmatrix}\n",
        "$\n",
        "\n",
        "With $\\phi$ being a nodal basis, we get that\n",
        "\n",
        "$\n",
        "A\\alpha = b <=>\n",
        "\\begin{bmatrix}\n",
        "1 & 0 & 0 \\\\\n",
        "0 & 1 & 0 \\\\\n",
        "0 & 0 & 1 \\\\\n",
        "\\end{bmatrix}\n",
        "*\n",
        "\\begin{bmatrix}\n",
        "\\alpha_1 \\\\\n",
        "\\alpha_2 \\\\\n",
        "\\alpha_3 \\\\\n",
        "\\end{bmatrix}\n",
        "=\n",
        "\\begin{bmatrix}\n",
        "f(x_1) \\\\\n",
        "f(x_2) \\\\\n",
        "f(x_3) \\\\\n",
        "\\end{bmatrix}\n",
        "=> \\alpha_j = f(x_j)\n",
        "$"
      ]
    },
    {
      "cell_type": "markdown",
      "metadata": {
        "id": "jOQvukXZq5U5"
      },
      "source": [
        "# **Method**"
      ]
    },
    {
      "cell_type": "markdown",
      "metadata": {
        "id": "zF4iBj5VURZx"
      },
      "source": [
        "The implemented solution can be seen below. The \"L_2_projection\" function calls the \"assemble_system\" function to determine $A$ and $b$. It then solves the equation and returns the resulting function values for the inputed node values.\n",
        "\n",
        "The main loop in \"assemble_system\" loops over every interval $I_k = [x_{k-1}, x_k]$ and calculates a local sub vector $b_k$ and a sub matrix $a_k$ and then adds them to their global counterparts $b$ and $A$. All sub matrices and sub vectors have the size 2x2 and 2 respectively, except for the two edge intervals where the sizes are 1x1 and 1.\n",
        "\n",
        "The function \"get_no_local_shape_functions\" is a helper function used by \"assembly_system\" to determine whether it is currently iterating over one of the two edge intervals. Those two intervals only have one shape function instead of two.\n",
        "\n",
        "\"lambda_function\" is a helper method used to determine which of the two lambda functions to use depending on the value of \"j\"."
      ]
    },
    {
      "cell_type": "code",
      "source": [
        "\n",
        "\n",
        "# number of integration steps to take for each integration done for\n",
        "# for each element of Ak matrix and bk vector\n",
        "steps = 100\n",
        "\n",
        "def L2_projection(fx, nodes: np.ndarray):\n",
        "  mplus1 = nodes.size+2\n",
        "  A = np.zeros((mplus1, mplus1))\n",
        "  b = np.zeros(mplus1)\n",
        "  (A, b) = assemble_system(fx, A, b, nodes)\n",
        "  x = np.linalg.solve(A, b)\n",
        "\n",
        "  # don't return the two edge values for x\n",
        "  remove_edges = [0, x.size - 1]\n",
        "\n",
        "  return np.delete(x, remove_edges)\n",
        "\n",
        "# page 203 in the book\n",
        "def assemble_system(f, A: np.ndarray, b: np.ndarray, nodes: np.ndarray):\n",
        "  numElements = b.size # add the two edge nodes\n",
        "  for k in range(1, numElements):\n",
        "    q = get_no_local_shape_functions(k, numElements)\n",
        "    loc2glob = get_local_to_global_map(k, numElements)\n",
        "    b_k = np.zeros(q)\n",
        "    a_k = np.zeros((q, q))\n",
        "    for i in range(0, q):\n",
        "      b_k[i] = integrate_vector(f, k, i, numElements, nodes)\n",
        "      for j in range(0, q):\n",
        "        a_k[i,j] = integrate_matrix(k, i, j, numElements, nodes)\n",
        "\n",
        "    # add_to_global_vector\n",
        "    for i in range(0, q):\n",
        "      #print(\"k: \", k, \"; loc2glob(i): \", loc2glob(i))\n",
        "      b[loc2glob(i)] += b_k[i]\n",
        "\n",
        "    # add_to_global_matrix\n",
        "    for i in range(0, q):\n",
        "      for j in range(0, q):\n",
        "        A[loc2glob(i), loc2glob(j)] += a_k[i, j]\n",
        "\n",
        "  return (A, b)\n",
        "\n",
        "def get_no_local_shape_functions(k, numElements):\n",
        "  if k == 1 or k == numElements-1:\n",
        "    return 1\n",
        "  else:\n",
        "    return 2\n",
        "\n",
        "def get_local_to_global_map(k, numElements):\n",
        "  if k != 1 and k != numElements-1:\n",
        "    loc2glob = lambda j : k-1+j\n",
        "  # special case for k = 0 and k = m+1\n",
        "  else:\n",
        "    if k == 1:\n",
        "      loc2glob = lambda j : 0\n",
        "    elif k == numElements-1:\n",
        "      loc2glob = lambda j : numElements-1\n",
        "  return loc2glob\n",
        "\n",
        "def integrate_vector(f, k: int, i: int, numElements: int, nodes: np.ndarray):\n",
        "  # special cases for edge nodes\n",
        "  if k == 1:\n",
        "    hk = nodes[1] - nodes[0]\n",
        "    xk = nodes[0]\n",
        "    shapeFunction = lambda x : (xk - x)/hk\n",
        "    currentX = xk - hk\n",
        "  elif k == numElements-1:\n",
        "    hk = nodes[numElements-3] - nodes[numElements-4]\n",
        "    xkminus1 = nodes[numElements-3]\n",
        "    shapeFunction = lambda x : (x - xkminus1)/hk\n",
        "    currentX = xkminus1\n",
        "  else: # case for internal noddes\n",
        "    xk = nodes[(k-1)]\n",
        "    xkminus1 = nodes[(k-1)-1]\n",
        "    hk = xk - xkminus1\n",
        "    shapeFunction = lambda_function(k, i, xk, xkminus1)\n",
        "    currentX = xkminus1\n",
        "\n",
        "  # store values from f(x)*lambda_{k,i}(x) product\n",
        "  values = np.zeros(steps)\n",
        "\n",
        "  # calculate values\n",
        "  for i in range(0, steps):\n",
        "    values[i] = f(currentX)*shapeFunction(currentX)\n",
        "    currentX = currentX + hk/steps\n",
        "\n",
        "  result = np.trapz(values, dx=hk/steps)\n",
        "\n",
        "  return result\n",
        "\n",
        "\n",
        "def integrate_matrix(k: int, i: int, j: int, numElements: int, nodes: np.ndarray):\n",
        "  if k == 1:\n",
        "    hk = nodes[1] - nodes[0]\n",
        "    xk = nodes[0]\n",
        "    shapeFunction1 = lambda x : (xk - x)/hk\n",
        "    shapeFunction2 = shapeFunction1\n",
        "    currentX = xk - hk\n",
        "  elif k == numElements-1:\n",
        "    hk = nodes[numElements-3] - nodes[numElements-4]\n",
        "    xkminus1 = nodes[numElements-3]\n",
        "    shapeFunction1 = lambda x : (x - xkminus1)/hk\n",
        "    shapeFunction2 = shapeFunction1\n",
        "    currentX = xkminus1\n",
        "  else:\n",
        "    xk = nodes[(k-1)]\n",
        "    xkminus1 = nodes[(k-1)-1]\n",
        "    hk = xk - xkminus1\n",
        "    shapeFunction1 = lambda_function(k, j, xk, xkminus1)\n",
        "    shapeFunction2 = lambda_function(k, i, xk, xkminus1)\n",
        "    currentX = xkminus1\n",
        "\n",
        "  # store values from f(x)*lambda_{k,i}(x) product\n",
        "  values = np.zeros(steps)\n",
        "\n",
        "  # calculate values\n",
        "  for i in range(0, steps):\n",
        "    values[i] = shapeFunction1(currentX)*shapeFunction2(currentX)\n",
        "    currentX = currentX + hk/steps\n",
        "\n",
        "  result = np.trapz(values, dx=hk/steps)\n",
        "\n",
        "  return result\n",
        "\n",
        "\n",
        "# create local shape function and return it\n",
        "def lambda_function(k: int, j: int, xk: int, xkminus1: int):\n",
        "  hk = xk - xkminus1\n",
        "  if j == 0:\n",
        "    return lambda x : (xk - x)/hk\n",
        "  elif j == 1:\n",
        "    return lambda x : (x - xkminus1)/hk\n",
        "\n",
        "f = lambda x : x*x\n",
        "x = np.array([0, 1])\n",
        "\n",
        "y = L2_projection(f, x)\n",
        "\n",
        "print(y)\n",
        "\n",
        "var = 2\n",
        "\n",
        "\n",
        "\n",
        "\n",
        "\n",
        "\n",
        "\n",
        "\n"
      ],
      "metadata": {
        "id": "v8Aj7qQ1BUT3",
        "colab": {
          "base_uri": "https://localhost:8080/"
        },
        "outputId": "90b4027f-ad20-4b5b-9111-a906456b1304"
      },
      "execution_count": 2,
      "outputs": [
        {
          "output_type": "stream",
          "name": "stdout",
          "text": [
            "[-0.16333333  0.82666667]\n"
          ]
        }
      ]
    },
    {
      "cell_type": "markdown",
      "metadata": {
        "id": "SsQLT38gVbn_"
      },
      "source": [
        "# **Results**"
      ]
    },
    {
      "cell_type": "markdown",
      "metadata": {
        "id": "RLwlnOzuV-Cd"
      },
      "source": [
        "The below results consist of testing the L2 projection method using different functions f, nodes x and integration step density\n",
        "\n",
        "Accuracy test 1:\n",
        "* function f = 2 * x + 1\n",
        "* steps = 100\n",
        "\n",
        "| nodes  | 1 | 2 | 3 | 4 | 5 | 6 | 7 | 8 | 9 | 10 |\n",
        "|---|---|---|---|---||---|---|---|---|---|\n",
        "| output | 3 | 5 | 7 | 9 | 11 | 13 | 15 | 17 | 19 | 21 |\n",
        "\n",
        "* nodes = [1, 2, 3, 4, 5, 6, 7, 8, 9, 10]\n",
        "* received output = [3, 5, 7, 9, 11, 13, 15, 17, 19, 21]\n",
        "\n",
        "Accuracy test 2:\n",
        "* function f = x*x\n",
        "* steps = 100\n",
        "\n",
        "| nodes  | 1 | 2 | 3 | 4 | 5 | 6 | 7 | 8 | 9 | 10 |\n",
        "|---|---|---|---|---||---|---|---|---|---|\n",
        "| output | 0.83 | 3.83 | 8.83 |15.83 | 24.83 | 35.83 | 48.83 | 63.83 | 80.83 | 99.82 |\n",
        "\n",
        "Convergance test 1:\n",
        "* function f = x*x\n",
        "* nodes [-1, 0, 1]\n",
        "\n",
        "| steps  | -1 | 0 | 1 |\n",
        "|---|---|---|---|\n",
        "| 2 | 0.916 | -0.083 | 0.583 |\n",
        "| 4 | 0.848 | -0.160 | 0.735 |\n",
        "| 8 | 0.840 | -0.175 | 0.785 |\n",
        "| 16 | 0.837 | -0.174 | 0.809 |\n",
        "\n",
        "Convergance test 2:\n",
        "* function f = x*x\n",
        "* steps = 100\n",
        "* domain [0, 1]\n",
        "\n",
        "| # nodes in domain | 0 | 1 |\n",
        "|---|---|---|\n",
        "| 2 | 0.1633 | 0.8267 |\n",
        "| 4 | -0.0180 | 0.9799 |\n",
        "| 8 | -0.0045 | 0.9946 |"
      ]
    },
    {
      "cell_type": "markdown",
      "metadata": {
        "id": "_4GLBv0zWr7m"
      },
      "source": [
        "# **Discussion**"
      ]
    },
    {
      "cell_type": "markdown",
      "metadata": {
        "id": "6bcsDSoRXHZe"
      },
      "source": [
        "The first accuracy test show that the L2_projection is 100\\% accurate for linear functions regardless of distance between nodes. This is to be expected.\n",
        "\n",
        "The first convergence test shows that after a certain point, increasing the amount of steps for the integration no longer has an effect on the convergence rate. If the distance between nodes is small enough it won't matter integrating with shorter step sizes.\n",
        "\n",
        "The second convergence test shows that the L2 projection seems to have quadratic convergence rate when shortening the distance between nodes: When the distance between nodes is halved, the approximated node function value is four times closer to the actual value."
      ]
    }
  ]
}