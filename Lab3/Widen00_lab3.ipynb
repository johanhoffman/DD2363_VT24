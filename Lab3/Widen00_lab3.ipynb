{
  "nbformat": 4,
  "nbformat_minor": 0,
  "metadata": {
    "colab": {
      "provenance": [],
      "include_colab_link": true
    },
    "kernelspec": {
      "name": "python3",
      "display_name": "Python 3"
    },
    "language_info": {
      "name": "python"
    }
  },
  "cells": [
    {
      "cell_type": "markdown",
      "metadata": {
        "id": "view-in-github",
        "colab_type": "text"
      },
      "source": [
        "<a href=\"https://colab.research.google.com/github/johanhoffman/DD2363_VT24/blob/Widen00-Lab3/Lab3/Widen00_lab3.ipynb\" target=\"_parent\"><img src=\"https://colab.research.google.com/assets/colab-badge.svg\" alt=\"Open In Colab\"/></a>"
      ]
    },
    {
      "cell_type": "markdown",
      "source": [
        "# **Lab 3: Approximations**\n",
        "**Joel Widén**"
      ],
      "metadata": {
        "id": "j6z5nK36umOR"
      }
    },
    {
      "cell_type": "markdown",
      "source": [
        "# **Abstract**"
      ],
      "metadata": {
        "id": "sAzXBsgxuyNS"
      }
    },
    {
      "cell_type": "markdown",
      "source": [
        "\n",
        "\n",
        "```\n",
        "# This is formatted as code\n",
        "```\n",
        "\n",
        "Short summary of the lab report. State the objectives, methods used, main results and conlusions."
      ],
      "metadata": {
        "id": "Gt2_JiPQu42M"
      }
    },
    {
      "cell_type": "markdown",
      "source": [
        "#**About the code**"
      ],
      "metadata": {
        "id": "EXgWNJFSu8w4"
      }
    },
    {
      "cell_type": "markdown",
      "source": [
        "A short statement on who is the author of the file, and if the code is distributed under a certain license."
      ],
      "metadata": {
        "id": "HRIcqmgju9qy"
      }
    },
    {
      "cell_type": "markdown",
      "source": [
        "# **Set up environment**"
      ],
      "metadata": {
        "id": "eH-yaDn8vxck"
      }
    },
    {
      "cell_type": "code",
      "source": [
        "# Load neccessary modules.\n",
        "from google.colab import files\n",
        "\n",
        "import time\n",
        "import numpy as np\n",
        "\n",
        "#try:\n",
        "#    from dolfin import *; from mshr import *\n",
        "#except ImportError as e:\n",
        "#    !apt-get install -y -qq software-properties-common\n",
        "#    !add-apt-repository -y ppa:fenics-packages/fenics\n",
        "#    !apt-get update -qq\n",
        "#    !apt install -y --no-install-recommends fenics\n",
        "#    from dolfin import *; from mshr import *\n",
        "\n",
        "#import dolfin.common.plotting as fenicsplot\n",
        "\n",
        "from matplotlib import pyplot as plt\n",
        "from matplotlib import tri\n",
        "from matplotlib import axes\n",
        "from mpl_toolkits.mplot3d import Axes3D"
      ],
      "metadata": {
        "id": "XbnLcgN_vyji"
      },
      "execution_count": 2,
      "outputs": []
    },
    {
      "cell_type": "markdown",
      "source": [
        "# **Introduction**"
      ],
      "metadata": {
        "id": "Lyr9PFlIv5aj"
      }
    },
    {
      "cell_type": "markdown",
      "source": [
        "1. Function: L2 projection to pw linear approximation over mesh in 1D\n",
        "\n",
        "Input: function f(x), 1D mesh with nodes (x0,...,xn)\n",
        "Output: vector of L2 projection of f(x) evaluated in (x0,...,xn)\n",
        "Test: verify accuracy and convergence rate against exact function"
      ],
      "metadata": {
        "id": "hgP4PS7Gz5lA"
      }
    },
    {
      "cell_type": "markdown",
      "source": [
        "# **Method**"
      ],
      "metadata": {
        "id": "7hW63LXazm2e"
      }
    },
    {
      "cell_type": "code",
      "source": [
        "#L2 projection on pw to linear approximation over mesh in 1D\n",
        "\n",
        "\n",
        "class loc2globmap:\n",
        "  def __init__(self, A_map, b_map, dof):\n",
        "    self.A_map = A_map\n",
        "    self.b_map = b_map\n",
        "    self.dof = dof\n",
        "\n",
        "#Reference function\n",
        "def f(x):\n",
        "  fx = x\n",
        "  return fx\n",
        "\n",
        "#Input x, interval nr k, mesh and if it is the 0 or 1 polynomial in nr\n",
        "def lin_lagrange_pol(x, mesh, k, nr):\n",
        "  x_k = mesh[k+1]\n",
        "  x_k_m1 = mesh[k]\n",
        "  h_k = x_k - x_k_m1\n",
        "  if nr == 0:\n",
        "    lambdax =  (x_k - x)/h_k\n",
        "  else:\n",
        "    lambdax = (x- x_k_m1)/h_k\n",
        "  return lambdax\n",
        "\n",
        "def get_no_local_shape_functions(k):\n",
        "  #since we have a linear basis V, q is 2 for all elements\n",
        "  q = 2\n",
        "  return q\n",
        "\n",
        "#Define the local to global maps\n",
        "def get_local_to_global_map(k):\n",
        "  A_map = np.array([[k, k+1],[k,k+1]])\n",
        "  b_map = np.array([k,k+1])\n",
        "  dof = np.array([k,k+1])\n",
        "  loc2glob = loc2globmap(A_map, b_map, dof)\n",
        "  return loc2glob\n",
        "\n",
        "#Integrating the vector using trapezoidal rule\n",
        "def integrate_vector(f, k, i, mesh):\n",
        "  a = mesh[k]\n",
        "  b = mesh[k+1]\n",
        "  # Trapezoidal rule\n",
        "  bi = f(a)*lin_lagrange_pol(a, mesh, k, i)*0.5*(b-a) + f(b)*lin_lagrange_pol(b, mesh, k, i)*0.5*(b-a)\n",
        "  return bi\n",
        "\n",
        "def integrate_matrix(k, i, j,mesh):\n",
        "  #For constant mesh distance hk is the same for all\n",
        "  hk = mesh[k+1]-mesh[k]\n",
        "  if i == j:\n",
        "    aij = hk/3\n",
        "  else:\n",
        "    aij = hk/6\n",
        "  return aij\n",
        "\n",
        "def add_to_global_vector(b, b_k, loc2glob):\n",
        "  b[loc2glob.b_map[0]:loc2glob.b_map[1]+1] = b[loc2glob.b_map[0]:loc2glob.b_map[1]+1] + b_k\n",
        "  return b\n",
        "\n",
        "def add_to_global_matrix(A, a_k, loc2glob):\n",
        "  A[loc2glob.A_map[0][0]:loc2glob.A_map[0][1]+1, loc2glob.A_map[1][0]:loc2glob.A_map[1][1]+1] = A[loc2glob.A_map[0][0]:loc2glob.A_map[0][1]+1, loc2glob.A_map[1][0]:loc2glob.A_map[1][1]+1] + a_k\n",
        "  return A\n",
        "\n",
        "#From algorithm 9.2\n",
        "def assembly_system(f, A, b, mesh):\n",
        "  no_elements = len(b)-1\n",
        "  for k in range(0, no_elements):\n",
        "    q = get_no_local_shape_functions(k)\n",
        "    loc2glob = get_local_to_global_map(k)\n",
        "    b_k = np.zeros(q)\n",
        "    a_k = np.zeros((q, q))\n",
        "    for i in range(0, q):\n",
        "      b_k[i] = integrate_vector(f, k, i, mesh)\n",
        "      for j in range(0, q):\n",
        "        a_k[i, j] = integrate_matrix(k, i, j, mesh)\n",
        "    b = add_to_global_vector(b, b_k, loc2glob)\n",
        "    print(b)\n",
        "    A = add_to_global_matrix(A, a_k, loc2glob)\n",
        "    #print(A)\n",
        "  return A, b\n",
        "\n",
        "\n",
        "#Get coordinates from\n",
        "def coordinates(A, b):\n",
        "  A_inv = np.linalg.inv(A)\n",
        "  alpha = A_inv.dot(b)\n",
        "  return alpha\n",
        "\n",
        "def find_subinterval(x, mesh):\n",
        "  for i in range(0, len(mesh)):\n",
        "    if mesh[i]<= x <mesh[i+1]:\n",
        "      k = i\n",
        "  return k\n",
        "\n",
        "def get_local_dofs(alpha, loc2glob):\n",
        "  #beta =\n",
        "\n",
        "  return beta\n",
        "\n",
        "def eval_pwp_function(alpha, x, q, mesh):\n",
        "  k = find_subinterval(x, mesh)\n",
        "  loc2glob = get_local_to_global_map(k)\n",
        "  #beta = get_local_dofs(alpha, loc2glob)\n",
        "\n",
        "  return f\n",
        "\n",
        "#Performing function of linear projection\n",
        "def l2_to_pw(f, mesh):\n",
        "  A = np.zeros((len(mesh), len(mesh)))\n",
        "  b = np.zeros(len(mesh))\n",
        "\n",
        "  #Assemble\n",
        "  A, b = assembly_system(f, A, b, mesh)\n",
        "  #Get alpha coordinates\n",
        "  alpha = coordinates(A, b)\n",
        "  print(alpha)\n",
        "  #Projection of mesh points\n",
        "  l2_to_pw = np.zeros_like(mesh)\n",
        "  for i in range(0, len(alpha)):\n",
        "    x = mesh[i]\n",
        "    q = 1\n",
        "    #l2_to_pw[i] = eval_pwp_function(alpha, x, q, mesh)\n",
        "  return l2_to_pw, alpha\n",
        "\n",
        "\n",
        "x_n = 2\n",
        "interval = 0.5\n",
        "mesh = np.arange(-2 ,x_n+interval, interval)\n",
        "\n",
        "f_approx, alpha = l2_to_pw(f, mesh)\n",
        "\n",
        "plt.figure(1)\n",
        "plt.plot(mesh, f(mesh))\n",
        "plt.scatter(mesh, alpha)\n",
        "\n",
        "plt.show()\n"
      ],
      "metadata": {
        "colab": {
          "base_uri": "https://localhost:8080/",
          "height": 621
        },
        "id": "HkNWmJ-kzyfa",
        "outputId": "1388e7cb-6523-4576-e122-7eaf59840418"
      },
      "execution_count": 48,
      "outputs": [
        {
          "output_type": "stream",
          "name": "stdout",
          "text": [
            "[-0.5   -0.375  0.     0.     0.     0.     0.     0.     0.   ]\n",
            "[-0.5  -0.75 -0.25  0.    0.    0.    0.    0.    0.  ]\n",
            "[-0.5   -0.75  -0.5   -0.125  0.     0.     0.     0.     0.   ]\n",
            "[-0.5  -0.75 -0.5  -0.25  0.    0.    0.    0.    0.  ]\n",
            "[-0.5   -0.75  -0.5   -0.25   0.     0.125  0.     0.     0.   ]\n",
            "[-0.5  -0.75 -0.5  -0.25  0.    0.25  0.25  0.    0.  ]\n",
            "[-0.5   -0.75  -0.5   -0.25   0.     0.25   0.5    0.375  0.   ]\n",
            "[-0.5  -0.75 -0.5  -0.25  0.    0.25  0.5   0.75  0.5 ]\n",
            "[-2.28865979e+00 -1.42268041e+00 -1.02061856e+00 -4.94845361e-01\n",
            "  1.38777878e-17  4.94845361e-01  1.02061856e+00  1.42268041e+00\n",
            "  2.28865979e+00]\n"
          ]
        },
        {
          "output_type": "display_data",
          "data": {
            "text/plain": [
              "<Figure size 640x480 with 1 Axes>"
            ],
            "image/png": "[encoded data removed]"
          },
          "metadata": {}
        }
      ]
    },
    {
      "cell_type": "markdown",
      "source": [
        "# **Results**"
      ],
      "metadata": {
        "id": "LQaqpvgQznwg"
      }
    },
    {
      "cell_type": "markdown",
      "source": [
        "# **Discussion**"
      ],
      "metadata": {
        "id": "pjtOMdaJzrBL"
      }
    }
  ]
}