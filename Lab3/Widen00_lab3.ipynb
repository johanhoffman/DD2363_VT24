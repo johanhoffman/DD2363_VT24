{
  "nbformat": 4,
  "nbformat_minor": 0,
  "metadata": {
    "colab": {
      "provenance": [],
      "include_colab_link": true
    },
    "kernelspec": {
      "name": "python3",
      "display_name": "Python 3"
    },
    "language_info": {
      "name": "python"
    }
  },
  "cells": [
    {
      "cell_type": "markdown",
      "metadata": {
        "id": "view-in-github",
        "colab_type": "text"
      },
      "source": [
        "<a href=\"https://colab.research.google.com/github/johanhoffman/DD2363_VT24/blob/Widen00-Lab3/Lab3/Widen00_lab3.ipynb\" target=\"_parent\"><img src=\"https://colab.research.google.com/assets/colab-badge.svg\" alt=\"Open In Colab\"/></a>"
      ]
    },
    {
      "cell_type": "markdown",
      "source": [
        "# **Lab 3: Approximations**\n",
        "**Joel Widén**"
      ],
      "metadata": {
        "id": "j6z5nK36umOR"
      }
    },
    {
      "cell_type": "markdown",
      "source": [
        "# **Abstract**"
      ],
      "metadata": {
        "id": "sAzXBsgxuyNS"
      }
    },
    {
      "cell_type": "markdown",
      "source": [
        "\n",
        "\n",
        "```\n",
        "# This is formatted as code\n",
        "```\n",
        "\n",
        "Short summary of the lab report. State the objectives, methods used, main results and conlusions."
      ],
      "metadata": {
        "id": "Gt2_JiPQu42M"
      }
    },
    {
      "cell_type": "markdown",
      "source": [
        "#**About the code**"
      ],
      "metadata": {
        "id": "EXgWNJFSu8w4"
      }
    },
    {
      "cell_type": "markdown",
      "source": [
        "A short statement on who is the author of the file, and if the code is distributed under a certain license."
      ],
      "metadata": {
        "id": "HRIcqmgju9qy"
      }
    },
    {
      "cell_type": "markdown",
      "source": [
        "# **Set up environment**"
      ],
      "metadata": {
        "id": "eH-yaDn8vxck"
      }
    },
    {
      "cell_type": "code",
      "source": [
        "# Load neccessary modules.\n",
        "from google.colab import files\n",
        "\n",
        "import time\n",
        "import numpy as np\n",
        "\n",
        "#try:\n",
        "#    from dolfin import *; from mshr import *\n",
        "#except ImportError as e:\n",
        "#    !apt-get install -y -qq software-properties-common\n",
        "#    !add-apt-repository -y ppa:fenics-packages/fenics\n",
        "#    !apt-get update -qq\n",
        "#    !apt install -y --no-install-recommends fenics\n",
        "#    from dolfin import *; from mshr import *\n",
        "\n",
        "#import dolfin.common.plotting as fenicsplot\n",
        "\n",
        "from matplotlib import pyplot as plt\n",
        "from matplotlib import tri\n",
        "from matplotlib import axes\n",
        "from mpl_toolkits.mplot3d import Axes3D"
      ],
      "metadata": {
        "id": "XbnLcgN_vyji"
      },
      "execution_count": 1,
      "outputs": []
    },
    {
      "cell_type": "markdown",
      "source": [
        "# **Introduction**"
      ],
      "metadata": {
        "id": "Lyr9PFlIv5aj"
      }
    },
    {
      "cell_type": "markdown",
      "source": [
        "1. Function: L2 projection to pw linear approximation over mesh in 1D\n",
        "\n",
        "Input: function f(x), 1D mesh with nodes (x0,...,xn)\n",
        "Output: vector of L2 projection of f(x) evaluated in (x0,...,xn)\n",
        "Test: verify accuracy and convergence rate against exact function"
      ],
      "metadata": {
        "id": "hgP4PS7Gz5lA"
      }
    },
    {
      "cell_type": "markdown",
      "source": [
        "# **Method**"
      ],
      "metadata": {
        "id": "7hW63LXazm2e"
      }
    },
    {
      "cell_type": "code",
      "source": [
        "#L2 projection on pw to linear approximation over mesh in 1D\n",
        "\n",
        "\n",
        "class loc2globmap:\n",
        "  def __init__(self, A_map, b_map):\n",
        "    self.A_map = A_map\n",
        "    self.b_map = b_map\n",
        "\n",
        "#Reference function\n",
        "def f(x):\n",
        "  fx = x**2\n",
        "  return fx\n",
        "\n",
        "#Input x, interval nr k, mesh and if it is the 0 or 1 polynomial in nr\n",
        "def lin_lagrange_pol(x, mesh, k, nr):\n",
        "  x_k = mesh[k+1]\n",
        "  x_k_m1 = mesh[k]\n",
        "  h_k = x_k - x_k_m1\n",
        "  if nr == 0:\n",
        "    lambdax =  (x_k - x)/h_k\n",
        "  else:\n",
        "    lambdax = (x- x_k_m1)/h_k\n",
        "  return lambdax\n",
        "\n",
        "def get_no_local_shape_functions(k):\n",
        "  #since we have a linear basis V this is 2 for all elements\n",
        "  q = 2\n",
        "  return q\n",
        "\n",
        "def get_local_to_global_map(k):\n",
        "  A_map = np.array([[[k,k], [k,k+1]],[[k+1,k],[k+1,k+1]]])\n",
        "  b_map = np.array([k,k+1])\n",
        "  loc2glob = loc2globmap(A_map, b_map)\n",
        "  return loc2glob\n",
        "\n",
        "def integrate_vector(f, k, i, mesh):\n",
        "  a = mesh[k]\n",
        "  b = mesh[k+1]\n",
        "  # Trapezoidal rule\n",
        "  bi = f(a)*lin_lagrange_pol(a, mesh, k, i)*0.5*(b-a) + f(b)*lin_lagrange_pol(b, mesh, k, i)*0.5*(b-a)\n",
        "  return bi\n",
        "\n",
        "def integrate_matrix(k, i, j):\n",
        "  #For constant mesh distance hk is the same for all\n",
        "  hk = 0.1\n",
        "  if i == j:\n",
        "    aij = hk/3\n",
        "  else:\n",
        "    aij = hk/6\n",
        "  return aij\n",
        "\n",
        "def add_to_global_vector(b, b_k, loc2glob):\n",
        "  print(b[loc2glob.b_map[0]:loc2glob.b_map[1]])\n",
        "  b[loc2glob.b_map[0]:loc2glob.b_map[1]] = b[loc2glob.b_map[0]:loc2glob.b_map[1]] + b_k\n",
        "  print(b)\n",
        "  return b\n",
        "\n",
        "#From algorithm 9.2\n",
        "def assembly_system(f, A, b, mesh):\n",
        "  no_elements = len(b) - 1\n",
        "  for k in range(0, no_elements):\n",
        "    q = get_no_local_shape_functions(k)\n",
        "    loc2glob = get_local_to_global_map(k)\n",
        "    b_k = np.zeros(q)\n",
        "    a_k = np.zeros((q, q))\n",
        "    for i in range(0, q):\n",
        "      b_k[i] = integrate_vector(f, k, i, mesh)\n",
        "      for j in range(0, q):\n",
        "        a_k[i, j] = integrate_matrix(k, i, j)\n",
        "    print(a_k)\n",
        "    print(b_k)\n",
        "    b = add_to_global_vector(b, b_k, loc2glob)\n",
        "    #A = add_to_global_matrix(A, a_k, loc2glob)\n",
        "  return A, b\n",
        "\n",
        "def l2_to_pw(f, mesh):\n",
        "  A = np.zeros((len(mesh), len(mesh)))\n",
        "  b = np.zeros(len(mesh))\n",
        "\n",
        "  A, b = assembly_system(f, A, b, mesh)\n",
        "  return l2_to_pw\n",
        "\n",
        "\n",
        "x_n = 1\n",
        "interval = 0.1\n",
        "mesh = np.arange(0 ,x_n+interval, interval)\n",
        "\n",
        "f_approx = l2_to_pw(f, mesh)\n"
      ],
      "metadata": {
        "colab": {
          "base_uri": "https://localhost:8080/",
          "height": 442
        },
        "id": "HkNWmJ-kzyfa",
        "outputId": "179affd3-d6f7-45a1-8c77-1166a791fe1d"
      },
      "execution_count": 13,
      "outputs": [
        {
          "output_type": "stream",
          "name": "stdout",
          "text": [
            "[[0.03333333 0.01666667]\n",
            " [0.01666667 0.03333333]]\n",
            "[0.     0.0005]\n",
            "[0.]\n"
          ]
        },
        {
          "output_type": "error",
          "ename": "ValueError",
          "evalue": "could not broadcast input array from shape (2,) into shape (1,)",
          "traceback": [
            "\u001b[0;31m---------------------------------------------------------------------------\u001b[0m",
            "\u001b[0;31mValueError\u001b[0m                                Traceback (most recent call last)",
            "\u001b[0;32m<ipython-input-13-5faad530b6c0>\u001b[0m in \u001b[0;36m<cell line: 88>\u001b[0;34m()\u001b[0m\n\u001b[1;32m     86\u001b[0m \u001b[0mmesh\u001b[0m \u001b[0;34m=\u001b[0m \u001b[0mnp\u001b[0m\u001b[0;34m.\u001b[0m\u001b[0marange\u001b[0m\u001b[0;34m(\u001b[0m\u001b[0;36m0\u001b[0m \u001b[0;34m,\u001b[0m\u001b[0mx_n\u001b[0m\u001b[0;34m+\u001b[0m\u001b[0minterval\u001b[0m\u001b[0;34m,\u001b[0m \u001b[0minterval\u001b[0m\u001b[0;34m)\u001b[0m\u001b[0;34m\u001b[0m\u001b[0;34m\u001b[0m\u001b[0m\n\u001b[1;32m     87\u001b[0m \u001b[0;34m\u001b[0m\u001b[0m\n\u001b[0;32m---> 88\u001b[0;31m \u001b[0mf_approx\u001b[0m \u001b[0;34m=\u001b[0m \u001b[0ml2_to_pw\u001b[0m\u001b[0;34m(\u001b[0m\u001b[0mf\u001b[0m\u001b[0;34m,\u001b[0m \u001b[0mmesh\u001b[0m\u001b[0;34m)\u001b[0m\u001b[0;34m\u001b[0m\u001b[0;34m\u001b[0m\u001b[0m\n\u001b[0m",
            "\u001b[0;32m<ipython-input-13-5faad530b6c0>\u001b[0m in \u001b[0;36ml2_to_pw\u001b[0;34m(f, mesh)\u001b[0m\n\u001b[1;32m     78\u001b[0m   \u001b[0mb\u001b[0m \u001b[0;34m=\u001b[0m \u001b[0mnp\u001b[0m\u001b[0;34m.\u001b[0m\u001b[0mzeros\u001b[0m\u001b[0;34m(\u001b[0m\u001b[0mlen\u001b[0m\u001b[0;34m(\u001b[0m\u001b[0mmesh\u001b[0m\u001b[0;34m)\u001b[0m\u001b[0;34m)\u001b[0m\u001b[0;34m\u001b[0m\u001b[0;34m\u001b[0m\u001b[0m\n\u001b[1;32m     79\u001b[0m \u001b[0;34m\u001b[0m\u001b[0m\n\u001b[0;32m---> 80\u001b[0;31m   \u001b[0mA\u001b[0m\u001b[0;34m,\u001b[0m \u001b[0mb\u001b[0m \u001b[0;34m=\u001b[0m \u001b[0massembly_system\u001b[0m\u001b[0;34m(\u001b[0m\u001b[0mf\u001b[0m\u001b[0;34m,\u001b[0m \u001b[0mA\u001b[0m\u001b[0;34m,\u001b[0m \u001b[0mb\u001b[0m\u001b[0;34m,\u001b[0m \u001b[0mmesh\u001b[0m\u001b[0;34m)\u001b[0m\u001b[0;34m\u001b[0m\u001b[0;34m\u001b[0m\u001b[0m\n\u001b[0m\u001b[1;32m     81\u001b[0m   \u001b[0;32mreturn\u001b[0m \u001b[0ml2_to_pw\u001b[0m\u001b[0;34m\u001b[0m\u001b[0;34m\u001b[0m\u001b[0m\n\u001b[1;32m     82\u001b[0m \u001b[0;34m\u001b[0m\u001b[0m\n",
            "\u001b[0;32m<ipython-input-13-5faad530b6c0>\u001b[0m in \u001b[0;36massembly_system\u001b[0;34m(f, A, b, mesh)\u001b[0m\n\u001b[1;32m     70\u001b[0m     \u001b[0mprint\u001b[0m\u001b[0;34m(\u001b[0m\u001b[0ma_k\u001b[0m\u001b[0;34m)\u001b[0m\u001b[0;34m\u001b[0m\u001b[0;34m\u001b[0m\u001b[0m\n\u001b[1;32m     71\u001b[0m     \u001b[0mprint\u001b[0m\u001b[0;34m(\u001b[0m\u001b[0mb_k\u001b[0m\u001b[0;34m)\u001b[0m\u001b[0;34m\u001b[0m\u001b[0;34m\u001b[0m\u001b[0m\n\u001b[0;32m---> 72\u001b[0;31m     \u001b[0mb\u001b[0m \u001b[0;34m=\u001b[0m \u001b[0madd_to_global_vector\u001b[0m\u001b[0;34m(\u001b[0m\u001b[0mb\u001b[0m\u001b[0;34m,\u001b[0m \u001b[0mb_k\u001b[0m\u001b[0;34m,\u001b[0m \u001b[0mloc2glob\u001b[0m\u001b[0;34m)\u001b[0m\u001b[0;34m\u001b[0m\u001b[0;34m\u001b[0m\u001b[0m\n\u001b[0m\u001b[1;32m     73\u001b[0m     \u001b[0;31m#A = add_to_global_matrix(A, a_k, loc2glob)\u001b[0m\u001b[0;34m\u001b[0m\u001b[0;34m\u001b[0m\u001b[0m\n\u001b[1;32m     74\u001b[0m   \u001b[0;32mreturn\u001b[0m \u001b[0mA\u001b[0m\u001b[0;34m,\u001b[0m \u001b[0mb\u001b[0m\u001b[0;34m\u001b[0m\u001b[0;34m\u001b[0m\u001b[0m\n",
            "\u001b[0;32m<ipython-input-13-5faad530b6c0>\u001b[0m in \u001b[0;36madd_to_global_vector\u001b[0;34m(b, b_k, loc2glob)\u001b[0m\n\u001b[1;32m     52\u001b[0m \u001b[0;32mdef\u001b[0m \u001b[0madd_to_global_vector\u001b[0m\u001b[0;34m(\u001b[0m\u001b[0mb\u001b[0m\u001b[0;34m,\u001b[0m \u001b[0mb_k\u001b[0m\u001b[0;34m,\u001b[0m \u001b[0mloc2glob\u001b[0m\u001b[0;34m)\u001b[0m\u001b[0;34m:\u001b[0m\u001b[0;34m\u001b[0m\u001b[0;34m\u001b[0m\u001b[0m\n\u001b[1;32m     53\u001b[0m   \u001b[0mprint\u001b[0m\u001b[0;34m(\u001b[0m\u001b[0mb\u001b[0m\u001b[0;34m[\u001b[0m\u001b[0mloc2glob\u001b[0m\u001b[0;34m.\u001b[0m\u001b[0mb_map\u001b[0m\u001b[0;34m[\u001b[0m\u001b[0;36m0\u001b[0m\u001b[0;34m]\u001b[0m\u001b[0;34m:\u001b[0m\u001b[0mloc2glob\u001b[0m\u001b[0;34m.\u001b[0m\u001b[0mb_map\u001b[0m\u001b[0;34m[\u001b[0m\u001b[0;36m1\u001b[0m\u001b[0;34m]\u001b[0m\u001b[0;34m]\u001b[0m\u001b[0;34m)\u001b[0m\u001b[0;34m\u001b[0m\u001b[0;34m\u001b[0m\u001b[0m\n\u001b[0;32m---> 54\u001b[0;31m   \u001b[0mb\u001b[0m\u001b[0;34m[\u001b[0m\u001b[0mloc2glob\u001b[0m\u001b[0;34m.\u001b[0m\u001b[0mb_map\u001b[0m\u001b[0;34m[\u001b[0m\u001b[0;36m0\u001b[0m\u001b[0;34m]\u001b[0m\u001b[0;34m:\u001b[0m\u001b[0mloc2glob\u001b[0m\u001b[0;34m.\u001b[0m\u001b[0mb_map\u001b[0m\u001b[0;34m[\u001b[0m\u001b[0;36m1\u001b[0m\u001b[0;34m]\u001b[0m\u001b[0;34m]\u001b[0m \u001b[0;34m=\u001b[0m \u001b[0mb\u001b[0m\u001b[0;34m[\u001b[0m\u001b[0mloc2glob\u001b[0m\u001b[0;34m.\u001b[0m\u001b[0mb_map\u001b[0m\u001b[0;34m[\u001b[0m\u001b[0;36m0\u001b[0m\u001b[0;34m]\u001b[0m\u001b[0;34m:\u001b[0m\u001b[0mloc2glob\u001b[0m\u001b[0;34m.\u001b[0m\u001b[0mb_map\u001b[0m\u001b[0;34m[\u001b[0m\u001b[0;36m1\u001b[0m\u001b[0;34m]\u001b[0m\u001b[0;34m]\u001b[0m \u001b[0;34m+\u001b[0m \u001b[0mb_k\u001b[0m\u001b[0;34m\u001b[0m\u001b[0;34m\u001b[0m\u001b[0m\n\u001b[0m\u001b[1;32m     55\u001b[0m   \u001b[0mprint\u001b[0m\u001b[0;34m(\u001b[0m\u001b[0mb\u001b[0m\u001b[0;34m)\u001b[0m\u001b[0;34m\u001b[0m\u001b[0;34m\u001b[0m\u001b[0m\n\u001b[1;32m     56\u001b[0m   \u001b[0;32mreturn\u001b[0m \u001b[0mb\u001b[0m\u001b[0;34m\u001b[0m\u001b[0;34m\u001b[0m\u001b[0m\n",
            "\u001b[0;31mValueError\u001b[0m: could not broadcast input array from shape (2,) into shape (1,)"
          ]
        }
      ]
    },
    {
      "cell_type": "markdown",
      "source": [
        "# **Results**"
      ],
      "metadata": {
        "id": "LQaqpvgQznwg"
      }
    },
    {
      "cell_type": "markdown",
      "source": [
        "# **Discussion**"
      ],
      "metadata": {
        "id": "pjtOMdaJzrBL"
      }
    }
  ]
}