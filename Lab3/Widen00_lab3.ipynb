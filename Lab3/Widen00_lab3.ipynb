{
  "nbformat": 4,
  "nbformat_minor": 0,
  "metadata": {
    "colab": {
      "provenance": [],
      "include_colab_link": true
    },
    "kernelspec": {
      "name": "python3",
      "display_name": "Python 3"
    },
    "language_info": {
      "name": "python"
    }
  },
  "cells": [
    {
      "cell_type": "markdown",
      "metadata": {
        "id": "view-in-github",
        "colab_type": "text"
      },
      "source": [
        "<a href=\"https://colab.research.google.com/github/johanhoffman/DD2363_VT24/blob/Widen00-Lab3/Lab3/Widen00_lab3.ipynb\" target=\"_parent\"><img src=\"https://colab.research.google.com/assets/colab-badge.svg\" alt=\"Open In Colab\"/></a>"
      ]
    },
    {
      "cell_type": "markdown",
      "source": [
        "# **Lab 3: Approximations**\n",
        "**Joel Widén**"
      ],
      "metadata": {
        "id": "j6z5nK36umOR"
      }
    },
    {
      "cell_type": "markdown",
      "source": [
        "# **Abstract**"
      ],
      "metadata": {
        "id": "sAzXBsgxuyNS"
      }
    },
    {
      "cell_type": "markdown",
      "source": [
        "\n",
        "\n",
        "```\n",
        "# This is formatted as code\n",
        "```\n",
        "\n",
        "Short summary of the lab report. State the objectives, methods used, main results and conlusions."
      ],
      "metadata": {
        "id": "Gt2_JiPQu42M"
      }
    },
    {
      "cell_type": "markdown",
      "source": [
        "#**About the code**"
      ],
      "metadata": {
        "id": "EXgWNJFSu8w4"
      }
    },
    {
      "cell_type": "markdown",
      "source": [
        "A short statement on who is the author of the file, and if the code is distributed under a certain license."
      ],
      "metadata": {
        "id": "HRIcqmgju9qy"
      }
    },
    {
      "cell_type": "markdown",
      "source": [
        "# **Set up environment**"
      ],
      "metadata": {
        "id": "eH-yaDn8vxck"
      }
    },
    {
      "cell_type": "code",
      "source": [
        "# Load neccessary modules.\n",
        "from google.colab import files\n",
        "\n",
        "import time\n",
        "import numpy as np\n",
        "\n",
        "#try:\n",
        "#    from dolfin import *; from mshr import *\n",
        "#except ImportError as e:\n",
        "#    !apt-get install -y -qq software-properties-common\n",
        "#    !add-apt-repository -y ppa:fenics-packages/fenics\n",
        "#    !apt-get update -qq\n",
        "#    !apt install -y --no-install-recommends fenics\n",
        "#    from dolfin import *; from mshr import *\n",
        "\n",
        "#import dolfin.common.plotting as fenicsplot\n",
        "\n",
        "from matplotlib import pyplot as plt\n",
        "from matplotlib import tri\n",
        "from matplotlib import axes\n",
        "from mpl_toolkits.mplot3d import Axes3D"
      ],
      "metadata": {
        "id": "XbnLcgN_vyji"
      },
      "execution_count": 2,
      "outputs": []
    },
    {
      "cell_type": "markdown",
      "source": [
        "# **Introduction**"
      ],
      "metadata": {
        "id": "Lyr9PFlIv5aj"
      }
    },
    {
      "cell_type": "markdown",
      "source": [
        "1. Function: L2 projection to pw linear approximation over mesh in 1D\n",
        "\n",
        "Input: function f(x), 1D mesh with nodes (x0,...,xn)\n",
        "Output: vector of L2 projection of f(x) evaluated in (x0,...,xn)\n",
        "Test: verify accuracy and convergence rate against exact function"
      ],
      "metadata": {
        "id": "hgP4PS7Gz5lA"
      }
    },
    {
      "cell_type": "markdown",
      "source": [
        "# **Method**"
      ],
      "metadata": {
        "id": "7hW63LXazm2e"
      }
    },
    {
      "cell_type": "code",
      "source": [
        "#L2 projection on pw to linear approximation over mesh in 1D\n",
        "\n",
        "\n",
        "class loc2globmap:\n",
        "  def __init__(self, A_map, b_map, dof):\n",
        "    self.A_map = A_map\n",
        "    self.b_map = b_map\n",
        "    self.dof = dof\n",
        "\n",
        "#Reference function\n",
        "def f(x):\n",
        "  fx =np.cos(x)\n",
        "  return fx\n",
        "\n",
        "#Input x, interval nr k, mesh and if it is the 0 or 1 polynomial in nr\n",
        "def lin_lagrange_pol(x, mesh, k, nr):\n",
        "  x_k = mesh[k+1]\n",
        "  x_k_m1 = mesh[k]\n",
        "  h_k = x_k - x_k_m1\n",
        "  if nr == 0:\n",
        "    lambdax =  (x_k - x)/h_k\n",
        "  else:\n",
        "    lambdax = (x- x_k_m1)/h_k\n",
        "  return lambdax\n",
        "\n",
        "def get_no_local_shape_functions(k):\n",
        "  #since we have a linear basis V, q is 2 for all elements\n",
        "  q = 2\n",
        "  return q\n",
        "\n",
        "#Define the local to global maps\n",
        "def get_local_to_global_map(k):\n",
        "  A_map = np.array([[k, k+1],[k,k+1]])\n",
        "  b_map = np.array([k, k+1])\n",
        "  dof = np.array([k, k+1])\n",
        "  loc2glob = loc2globmap(A_map, b_map, dof)\n",
        "  return loc2glob\n",
        "\n",
        "#Integrating the vector using trapezoidal rule\n",
        "def integrate_vector(f, k, i, mesh):\n",
        "  a = mesh[k]\n",
        "  b = mesh[k+1]\n",
        "  # Trapezoidal rule\n",
        "  bi = f(a)*lin_lagrange_pol(a, mesh, k, i)*0.5*(b-a) + f(b)*lin_lagrange_pol(b, mesh, k, i)*0.5*(b-a)\n",
        "  return bi\n",
        "\n",
        "#Integrating the matrix. This is only valid for continious piecewise linear\n",
        "#lagrange polynomials\n",
        "def integrate_matrix(k, i, j,mesh):\n",
        "  hk = mesh[k+1]-mesh[k]\n",
        "  if i == j:\n",
        "    aij = hk/3\n",
        "  else:\n",
        "    aij = hk/6\n",
        "  return aij\n",
        "\n",
        "#Add local vector to global vector\n",
        "def add_to_global_vector(b, b_k, loc2glob):\n",
        "  b[loc2glob.b_map[0]:loc2glob.b_map[1]+1] = b[loc2glob.b_map[0]:loc2glob.b_map[1]+1] + b_k\n",
        "  return b\n",
        "\n",
        "#Add local matrix to global matrix\n",
        "def add_to_global_matrix(A, a_k, loc2glob):\n",
        "  A[loc2glob.A_map[0][0]:loc2glob.A_map[0][1]+1, loc2glob.A_map[1][0]:loc2glob.A_map[1][1]+1] = A[loc2glob.A_map[0][0]:loc2glob.A_map[0][1]+1, loc2glob.A_map[1][0]:loc2glob.A_map[1][1]+1] + a_k\n",
        "  return A\n",
        "\n",
        "#From algorithm 9.2 to assemble the local matrixes into the global matrix\n",
        "def assembly_system(f, A, b, mesh):\n",
        "  no_elements = len(b)-1\n",
        "  for k in range(0, no_elements):\n",
        "    q = get_no_local_shape_functions(k)\n",
        "    loc2glob = get_local_to_global_map(k)\n",
        "    b_k = np.zeros(q)\n",
        "    a_k = np.zeros((q, q))\n",
        "    for i in range(0, q):\n",
        "      b_k[i] = integrate_vector(f, k, i, mesh)\n",
        "      for j in range(0, q):\n",
        "        a_k[i, j] = integrate_matrix(k, i, j, mesh)\n",
        "    b = add_to_global_vector(b, b_k, loc2glob)\n",
        "    A = add_to_global_matrix(A, a_k, loc2glob)\n",
        "  return A, b\n",
        "\n",
        "\n",
        "#Get coordinates alpha by solving matrix equation\n",
        "def coordinates(A, b):\n",
        "  A_inv = np.linalg.inv(A)\n",
        "  alpha = A_inv.dot(b)\n",
        "  return alpha\n",
        "\n",
        "#Find what subinterval x is in\n",
        "def find_subinterval(x, mesh):\n",
        "  for i in range(0, len(mesh)-1):\n",
        "    if mesh[i]<= x <=mesh[i+1]:\n",
        "      k = i\n",
        "  return k\n",
        "\n",
        "#Extract local dofs from alpha using the map from local to global\n",
        "def get_local_dofs(alpha, loc2glob):\n",
        "  beta = [alpha[loc2glob.dof[0]], alpha[loc2glob.dof[1]]]\n",
        "  return beta\n",
        "\n",
        "#This function is inspired by algorithm 9.1 but modified to calculate\n",
        "#phi\n",
        "def eval_pwp_function(alpha, x, q, mesh):\n",
        "  k = find_subinterval(x, mesh)\n",
        "  loc2glob = get_local_to_global_map(k)\n",
        "  beta = get_local_dofs(alpha, loc2glob)\n",
        "  f = 0\n",
        "  for j in range(0,len(beta)):\n",
        "    lambdax= lin_lagrange_pol(x, mesh, k, j)\n",
        "    f += beta[j]*lambdax\n",
        "  return f\n",
        "\n",
        "\"\"\"Performing linear projection calculations.\n",
        "This can be seen as the master function doing assembly and projection.\"\"\"\n",
        "def l2_to_pw(f, mesh):\n",
        "\n",
        "  A = np.zeros((len(mesh), len(mesh)))\n",
        "  b = np.zeros(len(mesh))\n",
        "\n",
        "  #Assemble\n",
        "  A, b = assembly_system(f, A, b, mesh)\n",
        "\n",
        "  #Get alpha coordinates\n",
        "  alpha = coordinates(A, b)\n",
        "\n",
        "\n",
        "\n",
        "  #Calculate for inner range to avoid rounding errors in mesh edge, this is just\n",
        "  #for fun\n",
        "  x_0 = mesh[1]\n",
        "  x_m1 = mesh[-2]\n",
        "  #This is put as interval for mesh to get the points xn\n",
        "  interval = 0.05\n",
        "  nr_points = round((x_m1 - x_0)/interval)\n",
        "  x_vec = np.zeros(nr_points+1)\n",
        "  x = x_0\n",
        "  for i in range(0, nr_points+1):\n",
        "    x_vec[i] = x\n",
        "    x += interval\n",
        "  print(mesh)\n",
        "  print(x_vec)\n",
        "  l2_to_pw = np.zeros_like(x_vec)\n",
        "  for i in range(0, len(x_vec)):\n",
        "    x = x_vec[i]\n",
        "    q = 1\n",
        "    l2_to_pw[i] = eval_pwp_function(alpha, x, q, mesh)\n",
        "\n",
        "  return l2_to_pw, alpha, x_vec\n",
        "\n",
        "#Generate mesh\n",
        "x_0 = -4\n",
        "x_n = 4\n",
        "interval = 0.05\n",
        "mesh = np.arange(x_0 ,x_n+interval, interval)\n",
        "\n",
        "#Call function to calculate\n",
        "f_approx, alpha, x_vec = l2_to_pw(f, mesh)\n",
        "\n",
        "\n",
        "plt.figure(1)\n",
        "plt.plot(x_vec, f(x_vec))\n",
        "#plt.scatter(mesh, alpha)\n",
        "#plt.scatter(mesh, f_approx)\n",
        "plt.scatter(x_vec, f_approx)\n",
        "plt.show()\n"
      ],
      "metadata": {
        "colab": {
          "base_uri": "https://localhost:8080/",
          "height": 1000
        },
        "id": "HkNWmJ-kzyfa",
        "outputId": "b8f0f4ee-0820-4c6c-8c08-af629139e6a4"
      },
      "execution_count": 82,
      "outputs": [
        {
          "output_type": "stream",
          "name": "stdout",
          "text": [
            "[-4.00000000e+00 -3.95000000e+00 -3.90000000e+00 -3.85000000e+00\n",
            " -3.80000000e+00 -3.75000000e+00 -3.70000000e+00 -3.65000000e+00\n",
            " -3.60000000e+00 -3.55000000e+00 -3.50000000e+00 -3.45000000e+00\n",
            " -3.40000000e+00 -3.35000000e+00 -3.30000000e+00 -3.25000000e+00\n",
            " -3.20000000e+00 -3.15000000e+00 -3.10000000e+00 -3.05000000e+00\n",
            " -3.00000000e+00 -2.95000000e+00 -2.90000000e+00 -2.85000000e+00\n",
            " -2.80000000e+00 -2.75000000e+00 -2.70000000e+00 -2.65000000e+00\n",
            " -2.60000000e+00 -2.55000000e+00 -2.50000000e+00 -2.45000000e+00\n",
            " -2.40000000e+00 -2.35000000e+00 -2.30000000e+00 -2.25000000e+00\n",
            " -2.20000000e+00 -2.15000000e+00 -2.10000000e+00 -2.05000000e+00\n",
            " -2.00000000e+00 -1.95000000e+00 -1.90000000e+00 -1.85000000e+00\n",
            " -1.80000000e+00 -1.75000000e+00 -1.70000000e+00 -1.65000000e+00\n",
            " -1.60000000e+00 -1.55000000e+00 -1.50000000e+00 -1.45000000e+00\n",
            " -1.40000000e+00 -1.35000000e+00 -1.30000000e+00 -1.25000000e+00\n",
            " -1.20000000e+00 -1.15000000e+00 -1.10000000e+00 -1.05000000e+00\n",
            " -1.00000000e+00 -9.50000000e-01 -9.00000000e-01 -8.50000000e-01\n",
            " -8.00000000e-01 -7.50000000e-01 -7.00000000e-01 -6.50000000e-01\n",
            " -6.00000000e-01 -5.50000000e-01 -5.00000000e-01 -4.50000000e-01\n",
            " -4.00000000e-01 -3.50000000e-01 -3.00000000e-01 -2.50000000e-01\n",
            " -2.00000000e-01 -1.50000000e-01 -1.00000000e-01 -5.00000000e-02\n",
            " -1.42108547e-14  5.00000000e-02  1.00000000e-01  1.50000000e-01\n",
            "  2.00000000e-01  2.50000000e-01  3.00000000e-01  3.50000000e-01\n",
            "  4.00000000e-01  4.50000000e-01  5.00000000e-01  5.50000000e-01\n",
            "  6.00000000e-01  6.50000000e-01  7.00000000e-01  7.50000000e-01\n",
            "  8.00000000e-01  8.50000000e-01  9.00000000e-01  9.50000000e-01\n",
            "  1.00000000e+00  1.05000000e+00  1.10000000e+00  1.15000000e+00\n",
            "  1.20000000e+00  1.25000000e+00  1.30000000e+00  1.35000000e+00\n",
            "  1.40000000e+00  1.45000000e+00  1.50000000e+00  1.55000000e+00\n",
            "  1.60000000e+00  1.65000000e+00  1.70000000e+00  1.75000000e+00\n",
            "  1.80000000e+00  1.85000000e+00  1.90000000e+00  1.95000000e+00\n",
            "  2.00000000e+00  2.05000000e+00  2.10000000e+00  2.15000000e+00\n",
            "  2.20000000e+00  2.25000000e+00  2.30000000e+00  2.35000000e+00\n",
            "  2.40000000e+00  2.45000000e+00  2.50000000e+00  2.55000000e+00\n",
            "  2.60000000e+00  2.65000000e+00  2.70000000e+00  2.75000000e+00\n",
            "  2.80000000e+00  2.85000000e+00  2.90000000e+00  2.95000000e+00\n",
            "  3.00000000e+00  3.05000000e+00  3.10000000e+00  3.15000000e+00\n",
            "  3.20000000e+00  3.25000000e+00  3.30000000e+00  3.35000000e+00\n",
            "  3.40000000e+00  3.45000000e+00  3.50000000e+00  3.55000000e+00\n",
            "  3.60000000e+00  3.65000000e+00  3.70000000e+00  3.75000000e+00\n",
            "  3.80000000e+00  3.85000000e+00  3.90000000e+00  3.95000000e+00\n",
            "  4.00000000e+00]\n",
            "[-3.95000000e+00 -3.90000000e+00 -3.85000000e+00 -3.80000000e+00\n",
            " -3.75000000e+00 -3.70000000e+00 -3.65000000e+00 -3.60000000e+00\n",
            " -3.55000000e+00 -3.50000000e+00 -3.45000000e+00 -3.40000000e+00\n",
            " -3.35000000e+00 -3.30000000e+00 -3.25000000e+00 -3.20000000e+00\n",
            " -3.15000000e+00 -3.10000000e+00 -3.05000000e+00 -3.00000000e+00\n",
            " -2.95000000e+00 -2.90000000e+00 -2.85000000e+00 -2.80000000e+00\n",
            " -2.75000000e+00 -2.70000000e+00 -2.65000000e+00 -2.60000000e+00\n",
            " -2.55000000e+00 -2.50000000e+00 -2.45000000e+00 -2.40000000e+00\n",
            " -2.35000000e+00 -2.30000000e+00 -2.25000000e+00 -2.20000000e+00\n",
            " -2.15000000e+00 -2.10000000e+00 -2.05000000e+00 -2.00000000e+00\n",
            " -1.95000000e+00 -1.90000000e+00 -1.85000000e+00 -1.80000000e+00\n",
            " -1.75000000e+00 -1.70000000e+00 -1.65000000e+00 -1.60000000e+00\n",
            " -1.55000000e+00 -1.50000000e+00 -1.45000000e+00 -1.40000000e+00\n",
            " -1.35000000e+00 -1.30000000e+00 -1.25000000e+00 -1.20000000e+00\n",
            " -1.15000000e+00 -1.10000000e+00 -1.05000000e+00 -1.00000000e+00\n",
            " -9.50000000e-01 -9.00000000e-01 -8.50000000e-01 -8.00000000e-01\n",
            " -7.50000000e-01 -7.00000000e-01 -6.50000000e-01 -6.00000000e-01\n",
            " -5.50000000e-01 -5.00000000e-01 -4.50000000e-01 -4.00000000e-01\n",
            " -3.50000000e-01 -3.00000000e-01 -2.50000000e-01 -2.00000000e-01\n",
            " -1.50000000e-01 -1.00000000e-01 -5.00000000e-02 -5.84254867e-15\n",
            "  5.00000000e-02  1.00000000e-01  1.50000000e-01  2.00000000e-01\n",
            "  2.50000000e-01  3.00000000e-01  3.50000000e-01  4.00000000e-01\n",
            "  4.50000000e-01  5.00000000e-01  5.50000000e-01  6.00000000e-01\n",
            "  6.50000000e-01  7.00000000e-01  7.50000000e-01  8.00000000e-01\n",
            "  8.50000000e-01  9.00000000e-01  9.50000000e-01  1.00000000e+00\n",
            "  1.05000000e+00  1.10000000e+00  1.15000000e+00  1.20000000e+00\n",
            "  1.25000000e+00  1.30000000e+00  1.35000000e+00  1.40000000e+00\n",
            "  1.45000000e+00  1.50000000e+00  1.55000000e+00  1.60000000e+00\n",
            "  1.65000000e+00  1.70000000e+00  1.75000000e+00  1.80000000e+00\n",
            "  1.85000000e+00  1.90000000e+00  1.95000000e+00  2.00000000e+00\n",
            "  2.05000000e+00  2.10000000e+00  2.15000000e+00  2.20000000e+00\n",
            "  2.25000000e+00  2.30000000e+00  2.35000000e+00  2.40000000e+00\n",
            "  2.45000000e+00  2.50000000e+00  2.55000000e+00  2.60000000e+00\n",
            "  2.65000000e+00  2.70000000e+00  2.75000000e+00  2.80000000e+00\n",
            "  2.85000000e+00  2.90000000e+00  2.95000000e+00  3.00000000e+00\n",
            "  3.05000000e+00  3.10000000e+00  3.15000000e+00  3.20000000e+00\n",
            "  3.25000000e+00  3.30000000e+00  3.35000000e+00  3.40000000e+00\n",
            "  3.45000000e+00  3.50000000e+00  3.55000000e+00  3.60000000e+00\n",
            "  3.65000000e+00  3.70000000e+00  3.75000000e+00  3.80000000e+00\n",
            "  3.85000000e+00  3.90000000e+00  3.95000000e+00]\n"
          ]
        },
        {
          "output_type": "display_data",
          "data": {
            "text/plain": [
              "<Figure size 640x480 with 1 Axes>"
            ],
            "image/png": "[encoded data removed]"
          },
          "metadata": {}
        }
      ]
    },
    {
      "cell_type": "markdown",
      "source": [
        "# **Results**"
      ],
      "metadata": {
        "id": "LQaqpvgQznwg"
      }
    },
    {
      "cell_type": "markdown",
      "source": [
        "# **Discussion**"
      ],
      "metadata": {
        "id": "pjtOMdaJzrBL"
      }
    }
  ]
}