{
  "nbformat": 4,
  "nbformat_minor": 0,
  "metadata": {
    "colab": {
      "provenance": []
    },
    "kernelspec": {
      "name": "python3",
      "display_name": "Python 3"
    }
  },
  "cells": [
    {
      "cell_type": "markdown",
      "metadata": {
        "id": "view-in-github"
      },
      "source": [
        "<a href=\"https://colab.research.google.com/github/johanhoffman/DD2363_VT23/blob/main/template-report-lab-X.ipynb\" target=\"_parent\"><img src=\"https://colab.research.google.com/assets/colab-badge.svg\" alt=\"Open In Colab\"/></a>"
      ]
    },
    {
      "cell_type": "markdown",
      "metadata": {
        "id": "6RgtXlfYO_i7"
      },
      "source": [
        "# **Lab 3: Approximation**\n",
        "**Teo Nordström**"
      ]
    },
    {
      "cell_type": "markdown",
      "metadata": {
        "id": "9x_J5FVuPzbm"
      },
      "source": [
        "# **Abstract**"
      ]
    },
    {
      "cell_type": "markdown",
      "metadata": {
        "id": "yJipbXtnjrJZ"
      },
      "source": [
        "This file contains the solutions to the mandatory problem from Lab3 in DD2363, in addition to the solution to one of the optional problems. It is based upon pseudocode and info found in *Methods in Computational Science* by Johan Hoffman (2021)"
      ]
    },
    {
      "cell_type": "markdown",
      "metadata": {
        "id": "OkT8J7uOWpT3"
      },
      "source": [
        "#**About the code**"
      ]
    },
    {
      "cell_type": "markdown",
      "metadata": {
        "id": "HmB2noTr1Oyo"
      },
      "source": [
        "A short statement on who is the author of the file, and if the code is distributed under a certain license."
      ]
    },
    {
      "cell_type": "code",
      "metadata": {
        "id": "Pdll1Xc9WP0e",
        "colab": {
          "base_uri": "https://localhost:8080/",
          "height": 35
        },
        "outputId": "33071415-df09-44f8-d573-af292621c85a"
      },
      "source": [
        "\"\"\"This file is based on a template for lab reports in the course\"\"\"\n",
        "\"\"\"DD2363 Methods in Scientific Computing, \"\"\"\n",
        "\"\"\"KTH Royal Institute of Technology, Stockholm, Sweden.\"\"\"\n",
        "\n",
        "# TEMPLATE INFO:\n",
        "# Copyright (C) 2020 Johan Hoffman (jhoffman@kth.se)\n",
        "\n",
        "# This file is part of the course DD2365 Advanced Computation in Fluid Mechanics\n",
        "# KTH Royal Institute of Technology, Stockholm, Sweden\n",
        "#\n",
        "# This is free software: you can redistribute it and/or modify\n",
        "# it under the terms of the GNU Lesser General Public License as published by\n",
        "# the Free Software Foundation, either version 3 of the License, or\n",
        "# (at your option) any later version.\n",
        "\n",
        "# This template is maintained by Johan Hoffman\n",
        "# Please report problems to jhoffman@kth.se\n",
        "\n",
        "# CODE INFO:\n",
        "# Code written by Teo Nordström 2024, no license."
      ],
      "execution_count": null,
      "outputs": [
        {
          "output_type": "execute_result",
          "data": {
            "text/plain": [
              "'KTH Royal Institute of Technology, Stockholm, Sweden.'"
            ],
            "application/vnd.google.colaboratory.intrinsic+json": {
              "type": "string"
            }
          },
          "metadata": {},
          "execution_count": 1
        }
      ]
    },
    {
      "cell_type": "markdown",
      "metadata": {
        "id": "28xLGz8JX3Hh"
      },
      "source": [
        "# **Set up environment**"
      ]
    },
    {
      "cell_type": "markdown",
      "metadata": {
        "id": "D2PYNusD08Wa"
      },
      "source": [
        "These are the neccessary modules for everything in this file to work."
      ]
    },
    {
      "cell_type": "code",
      "metadata": {
        "id": "Xw7VlErAX7NS"
      },
      "source": [
        "from google.colab import files\n",
        "\n",
        "import numpy as np\n",
        "\n"
      ],
      "execution_count": null,
      "outputs": []
    },
    {
      "cell_type": "markdown",
      "source": [
        "Also set up some functions from Lab 1 that will be used"
      ],
      "metadata": {
        "id": "KjUCxKfLuPYm"
      }
    },
    {
      "cell_type": "code",
      "source": [
        "def modified_gram_schmidt_iteration(A:np.ndarray):\n",
        "    n = len(A)\n",
        "    Q = np.zeros((n, n))\n",
        "    R = np.zeros((n, n))\n",
        "    for j in range(n):\n",
        "        v = A[:, j]\n",
        "        for i in range(j):\n",
        "            R[i, j] = np.dot(Q[:, i], v)\n",
        "            v = v - R[i, j] * Q[:, i]\n",
        "        R[j, j] = np.linalg.norm(v)\n",
        "        Q[:, j] = v / R[j, j]\n",
        "    return Q, R\n",
        "\n",
        "\n",
        "def backward_substitution(U:np.ndarray, b:np.ndarray):\n",
        "    n = U.shape[1]\n",
        "    x = np.zeros(n)\n",
        "    x[n-1] = b[n-1] / U[n-1, n-1]\n",
        "    for i in range(n-2, -1, -1):\n",
        "        sum = 0\n",
        "        for j in range(i+1, n):\n",
        "            sum += U[i, j] * x[j]\n",
        "        x[i] = (b[i] - sum) / U[i, i]\n",
        "    return x\n",
        "\n",
        "\n",
        "def direct_solver(A:np.ndarray, b:np.ndarray):\n",
        "    Q, R = modified_gram_schmidt_iteration(A)\n",
        "    y = np.transpose(Q).dot(b)\n",
        "    x = backward_substitution(R, y)\n",
        "    return x"
      ],
      "metadata": {
        "id": "WdHUYFxNuXhQ"
      },
      "execution_count": null,
      "outputs": []
    },
    {
      "cell_type": "markdown",
      "metadata": {
        "id": "gnO3lhAigLev"
      },
      "source": [
        "# **Introduction**"
      ]
    },
    {
      "cell_type": "markdown",
      "metadata": {
        "id": "l5zMzgPlRAF6"
      },
      "source": [
        "All solutions will be partially or entirely based upon the book *Methods in Computational Science* by Johan Hoffman (2021). In the text, it will be referred to as the \"course book\".\n",
        "\n",
        "# L2 Projection over Mesh\n",
        "The L2 Projection over Mesh is a way to get a piecewise linear interpolation over a mesh of points. This is done using basis functions based upon local Lagrange shape functions. This can create approximations of not only continuous but also discrete functions which is why it is desirable.\n",
        "\n"
      ]
    },
    {
      "cell_type": "markdown",
      "metadata": {
        "id": "jOQvukXZq5U5"
      },
      "source": [
        "# **Method**"
      ]
    },
    {
      "cell_type": "markdown",
      "metadata": {
        "id": "zF4iBj5VURZx"
      },
      "source": [
        "# L2 Projection over Mesh\n",
        "To produce the L2 Projection we use Algorithm 9.2 that is defined in the course book. It assembles the matrix $A$ and vector $b$ so we can solve for $x$ to get the projection. We go through each point $k$ in the input mesh to get a fit for the function. We know that since this is a 1D mesh each point only has two shape functions meaning $q = 2$. For each $k$ we create a local vector and matrix. These are calculated using integration, which in this case is quite simple considering that there is only two dimensions. While the values in $b^k$ have to be based upon the function through $b^k_i = \\int_{I_k} f(x)\\lambda_{k,i}(x)dx$ where $\\lambda_{k,i}(x)$ are the local shape functions (which in 2D can be represented simply as the function shows), the integrate matrix only has to worry about the interval length. From chapter 9.5 in the course book we can learn that the tridiagonal matrix has a value of $\\frac{2h}{3}$ in the diagonal and $\\frac{h}{6}$ on the off-diagonals. Since we add the local matrices together on the global one this will automatically happen if we set the local matrices to have $\\frac{h}{3}$ in the diagonal and $\\frac{h}{6}$ on the off-diagonals.\n",
        "\n",
        "After all this is done, we use the solver that was created in Lab 1 to solve the $Ax = b$ equation to get the interpolated function values."
      ]
    },
    {
      "cell_type": "code",
      "source": [
        "def integrate_vector(f, k, i, p):\n",
        "    if i == 0:\n",
        "        return f(p[k]) * (p[k+1] - p[k]) / 2\n",
        "    return f(p[k + 1]) * (p[k+1] - p[k]) / 2\n",
        "\n",
        "\n",
        "def integrate_matrix(k, i, j, p):\n",
        "    if i == j:\n",
        "        return (p[k+1] - p[k]) / 3\n",
        "    return (p[k+1] - p[k]) / 6\n",
        "\n",
        "\n",
        "def add_vector_at_pos(b, b_k, k):\n",
        "    b[k] += b_k[0]\n",
        "    b[k + 1] += b_k[1]\n",
        "    return b\n",
        "\n",
        "\n",
        "def add_matrix_at_pos(A, a_k, k):\n",
        "    A[k, k] += a_k[0, 0]\n",
        "    A[k+1, k] += a_k[1, 0]\n",
        "    A[k, k+1] += a_k[0, 1]\n",
        "    A[k+1, k+1] += a_k[1, 1]\n",
        "    return A\n",
        "\n",
        "\n",
        "def assemble_system(f, points):\n",
        "    n = len(points)\n",
        "    A = np.zeros((n, n))\n",
        "    b = np.zeros(n)\n",
        "    for k in range(n - 1):\n",
        "        q = 2\n",
        "        b_k = np.zeros(q)\n",
        "        a_k = np.zeros((q, q))\n",
        "        for i in range(q):\n",
        "            b_k[i] = integrate_vector(f, k, i, points)\n",
        "            for j in range(q):\n",
        "                a_k[i, j] = integrate_matrix(k, i, j, points)\n",
        "        b = add_vector_at_pos(b, b_k, k)\n",
        "        A = add_matrix_at_pos(A, a_k, k)\n",
        "    return A, b\n",
        "\n",
        "\n",
        "def L2_projection(f, points):\n",
        "    A, b = assemble_system(f, points)\n",
        "    return direct_solver(A, b)\n",
        "\n",
        "\n",
        "def as_f(x):\n",
        "    return x ** 2\n",
        "\n",
        "\n",
        "print(L2_projection(as_f, [0, 1, 2, 3, 4]))"
      ],
      "metadata": {
        "colab": {
          "base_uri": "https://localhost:8080/"
        },
        "id": "s_EGvvispQuP",
        "outputId": "c779e370-f26d-4fb4-c7ea-80a2132a27b1"
      },
      "execution_count": null,
      "outputs": [
        {
          "output_type": "stream",
          "name": "stdout",
          "text": [
            "[-0.28571429  0.57142857  4.          7.42857143 20.28571429]\n"
          ]
        }
      ]
    },
    {
      "cell_type": "markdown",
      "metadata": {
        "id": "SsQLT38gVbn_"
      },
      "source": [
        "# **Results**"
      ]
    },
    {
      "cell_type": "markdown",
      "metadata": {
        "id": "RLwlnOzuV-Cd"
      },
      "source": [
        "In this section tests will be performed to verify that the solutions are correct\n",
        "\n",
        "# L2 Projection over Mesh\n",
        "To test our L2 Projection over Mesh function we build up an equation to check likeness. This will be either a continuous second degre equation or a discrete linear equation. We then take a number of equally spaced points $(-15 ≤ p ≤ 15)$ to create the projection. We then create a hundred random new points within this range to test how close the value actually is. We use linear interpolation to find the exact value in the projection and add the difference to a sum. We divide this sum by the amount of points to get the total difference. We can see that this is relatively low, especially when increasing amount of points, meaning the projection follows the function quite closely.\n",
        "\n",
        "To see convergence against the exact function we can look at how the accuracy gets better when more points are added, which we easily can see is occurring. A test with $10000$ points ($n=10000$) was also performed, which took forever to process and led to a result that was a value within a rounding error."
      ]
    },
    {
      "cell_type": "code",
      "source": [
        "def L2_test(iters, discrete=False):\n",
        "    n = 64\n",
        "\n",
        "    if discrete:\n",
        "        def f(x):\n",
        "            if int(x) % 2 == 0:\n",
        "                return 0\n",
        "            return 10\n",
        "    else:\n",
        "        a = (np.random.randint(1, 5))\n",
        "        b = (np.random.randint(1, 5))\n",
        "\n",
        "        def f(x):\n",
        "            return a * x ** 2 + b * x\n",
        "\n",
        "    for test in range(iters):\n",
        "\n",
        "        points = [i*(30/n) - 15 for i in range(n)]\n",
        "        L2 = L2_projection(f, points)\n",
        "        sumdiff = 0\n",
        "        for i in range(100):\n",
        "            x = np.random.rand() * 30 - 15\n",
        "            ind = int((n * (x + 15)) / 30)\n",
        "            if ind == n - 1:\n",
        "                ind -= 1\n",
        "            x1 = points[ind]\n",
        "            x2 = points[ind + 1]\n",
        "            y1 = L2[ind]\n",
        "            y2 = L2[ind + 1]\n",
        "            val_L2 = y1 * ((x2 - x) / (x2 - x1)) + y2 * ((x - x1) / (x2 - x1))\n",
        "            sumdiff += abs(f(x) - val_L2)\n",
        "        print(f\"Test {test+1}, {'Discrete, ' if discrete else ''}{n} points: Avg error in 100 points = {sumdiff / 100}\")\n",
        "        n *= 2\n",
        "\n",
        "\n",
        "L2_test(5)"
      ],
      "metadata": {
        "id": "z5LMH60OBKsP",
        "colab": {
          "base_uri": "https://localhost:8080/"
        },
        "outputId": "53838a9b-0c8d-4a6c-cbe0-47f8d5da1d8b"
      },
      "execution_count": null,
      "outputs": [
        {
          "output_type": "stream",
          "name": "stdout",
          "text": [
            "Test 1, 64 points: Avg error in 100 points = 1.2299472717414128\n",
            "Test 2, 128 points: Avg error in 100 points = 0.07508151560824813\n",
            "Test 3, 256 points: Avg error in 100 points = 0.0037686550406729833\n",
            "Test 4, 512 points: Avg error in 100 points = 0.026498554935222705\n",
            "Test 5, 1024 points: Avg error in 100 points = 0.00014177784402226058\n"
          ]
        }
      ]
    },
    {
      "cell_type": "markdown",
      "source": [
        "One of the things L2 Projection can do well is also process discrete functions. We can see that while they have a greater error, they also converge towards a low value when the amount of points are increased. This wouldn't be possible with simpler interpolation schemes."
      ],
      "metadata": {
        "id": "o4SLk-rfxdm3"
      }
    },
    {
      "cell_type": "code",
      "source": [
        "L2_test(5, True)"
      ],
      "metadata": {
        "colab": {
          "base_uri": "https://localhost:8080/"
        },
        "id": "sBQdM4fpxq5u",
        "outputId": "f654dc0a-51ac-4e6b-8cfb-e3adac13a5d8"
      },
      "execution_count": null,
      "outputs": [
        {
          "output_type": "stream",
          "name": "stdout",
          "text": [
            "Test 1, Discrete, 64 points: Avg error in 100 points = 2.9107675605908754\n",
            "Test 2, Discrete, 128 points: Avg error in 100 points = 1.8116690247663865\n",
            "Test 3, Discrete, 256 points: Avg error in 100 points = 0.9567222806708231\n",
            "Test 4, Discrete, 512 points: Avg error in 100 points = 0.47621506473854025\n",
            "Test 5, Discrete, 1024 points: Avg error in 100 points = 0.29908917788505035\n"
          ]
        }
      ]
    },
    {
      "cell_type": "markdown",
      "metadata": {
        "id": "_4GLBv0zWr7m"
      },
      "source": [
        "# **Discussion**"
      ]
    },
    {
      "cell_type": "markdown",
      "metadata": {
        "id": "6bcsDSoRXHZe"
      },
      "source": [
        "This assignment was quite a bit more difficult than the others, luckily only one problem had to be solved! While I would have wanted to solve a bonus problem too, I cannot quite picture how I would have done it. To begin, one would have needed a suitable triangular mesh structure with vertices and edges. Each vertex would have as many basis functions as sides, and this would have to be considered with q. It would also have to be done in a higher dimension than 1 which feels like a hassle to implement, so I will be content with just this one solution this time."
      ]
    }
  ]
}