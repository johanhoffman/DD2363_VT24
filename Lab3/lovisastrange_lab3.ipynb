{
  "nbformat": 4,
  "nbformat_minor": 0,
  "metadata": {
    "colab": {
      "provenance": []
    },
    "kernelspec": {
      "name": "python3",
      "display_name": "Python 3"
    }
  },
  "cells": [
    {
      "cell_type": "markdown",
      "metadata": {
        "id": "view-in-github"
      },
      "source": [
        "<a href=\"https://colab.research.google.com/github/johanhoffman/DD2363_VT23/blob/main/template-report-lab-X.ipynb\" target=\"_parent\"><img src=\"https://colab.research.google.com/assets/colab-badge.svg\" alt=\"Open In Colab\"/></a>"
      ]
    },
    {
      "cell_type": "markdown",
      "metadata": {
        "id": "6RgtXlfYO_i7"
      },
      "source": [
        "# **Lab 3: Approximation**\n",
        "**Lovisa Strange**"
      ]
    },
    {
      "cell_type": "markdown",
      "metadata": {
        "id": "9x_J5FVuPzbm"
      },
      "source": [
        "# **Abstract**"
      ]
    },
    {
      "cell_type": "markdown",
      "metadata": {
        "id": "6UFTSzW7P8kL"
      },
      "source": [
        "In this report, L2-projection will be used to approximate a function $f(x)$."
      ]
    },
    {
      "cell_type": "markdown",
      "metadata": {
        "id": "OkT8J7uOWpT3"
      },
      "source": [
        "#**About the code**"
      ]
    },
    {
      "cell_type": "code",
      "metadata": {
        "id": "Pdll1Xc9WP0e",
        "colab": {
          "base_uri": "https://localhost:8080/",
          "height": 34
        },
        "outputId": "88278ec0-83c6-4203-8268-ba8d85807e52"
      },
      "source": [
        "\"\"\"This program is a template for lab reports in the course\"\"\"\n",
        "\"\"\"DD2363 Methods in Scientific Computing, \"\"\"\n",
        "\"\"\"KTH Royal Institute of Technology, Stockholm, Sweden.\"\"\"\n",
        "\n",
        "# Copyright (C) 2024 Lovisa Strange (lstrange@kth.se)\n",
        "\n",
        "# This file is part of the course DD2365 Advanced Computation in Fluid Mechanics\n",
        "# KTH Royal Institute of Technology, Stockholm, Sweden\n",
        "#\n",
        "# This is free software: you can redistribute it and/or modify\n",
        "# it under the terms of the GNU Lesser General Public License as published by\n",
        "# the Free Software Foundation, either version 3 of the License, or\n",
        "# (at your option) any later version.\n",
        "\n",
        "# This template is maintained by Johan Hoffman\n",
        "# Please report problems to jhoffman@kth.se"
      ],
      "execution_count": null,
      "outputs": [
        {
          "output_type": "execute_result",
          "data": {
            "text/plain": [
              "'KTH Royal Institute of Technology, Stockholm, Sweden.'"
            ],
            "application/vnd.google.colaboratory.intrinsic+json": {
              "type": "string"
            }
          },
          "metadata": {},
          "execution_count": 4
        }
      ]
    },
    {
      "cell_type": "markdown",
      "metadata": {
        "id": "28xLGz8JX3Hh"
      },
      "source": [
        "# **Set up environment**"
      ]
    },
    {
      "cell_type": "markdown",
      "metadata": {
        "id": "D2PYNusD08Wa"
      },
      "source": [
        "The modules needed to run this code is presented here."
      ]
    },
    {
      "cell_type": "code",
      "metadata": {
        "id": "Xw7VlErAX7NS"
      },
      "source": [
        "# Load neccessary modules.\n",
        "from google.colab import files\n",
        "\n",
        "import time\n",
        "import numpy as np\n",
        "\n",
        "from matplotlib import pyplot as plt\n",
        "from matplotlib import tri\n",
        "from matplotlib import axes\n",
        "from mpl_toolkits.mplot3d import Axes3D"
      ],
      "execution_count": 17,
      "outputs": []
    },
    {
      "cell_type": "markdown",
      "metadata": {
        "id": "gnO3lhAigLev"
      },
      "source": [
        "# **Introduction**"
      ]
    },
    {
      "cell_type": "markdown",
      "metadata": {
        "id": "l5zMzgPlRAF6"
      },
      "source": [
        "We want to construct an approximation of the function $f(x),$ that is, we wan to write the function $$\n",
        "f(x) \\approx f_N(x) = \\sum_{j=1}^N \\alpha_j \\phi_j(x)\n",
        "$$\n",
        "where $\\phi_j$ is the j:th basis vector and $\\alpha_j$ is the j:th coefficient. One way to construct these approximation is projection methods."
      ]
    },
    {
      "cell_type": "markdown",
      "metadata": {
        "id": "jOQvukXZq5U5"
      },
      "source": [
        "# **Method**"
      ]
    },
    {
      "cell_type": "code",
      "source": [],
      "metadata": {
        "id": "9Yyraf_pQINC"
      },
      "execution_count": null,
      "outputs": []
    },
    {
      "cell_type": "markdown",
      "metadata": {
        "id": "zF4iBj5VURZx"
      },
      "source": [
        "A projection method is L2 projection. (Methods in Computational Science, p.200, Johan Hoffman)  We have a Hilbert space $L^2$ with an inner product, defined as $$(f,g)_{L^2[a,b]} = \\int_a^b f(x)g(x) dx.$$\n",
        "We can then observe $$(P_Nf,v) = (f,v),$$\n",
        "which is the projecetion of $P_Nf$ onto the vector space.\n",
        "\n",
        "We know that since using the basis vectors $\\phi_j,$ any vector can be written as $$\n",
        "v = \\sum_{j=0}^N v_j \\phi_j,\n",
        "$$ Then, we know that is enough to look at the effect of the projection on the basis vectors, as shown in the problem solving assignment $$\n",
        "\\sum_{j=1}^N \\alpha_j(\\phi_j,\\phi_i) = (f,\\phi_i)\n",
        "$$\n",
        "for $i= 1,...,N.$\n",
        "\n",
        "This can then be written as a matrix equation $$\n",
        "Ax = b,\n",
        "$$\n",
        "where the matrix elements are given by $$\n",
        "a_{i,j} = (\\phi_j,\\phi_i) = \\int_a^b \\phi_j(x)\\phi_i(x) dx.\n",
        "$$\n",
        "Additionally, the vector elements are given by $$\n",
        "b_{i} = (f,\\phi_i) = \\int_a^b f(x)\\phi_i(x) dx.\n",
        "$$"
      ]
    },
    {
      "cell_type": "markdown",
      "source": [
        "## L2-projection\n",
        "We use linear local base functions on the interval 0 to 1, so that any interval $$I_k = [x_k, x_{k+1}]$$ has two linear basis vectors $$\n",
        "\\lambda_{k,0} = \\begin{cases} 0 \\;\\; x = x_k \\\\ 1 \\;\\; x = x_{k+1} \\end{cases}\n",
        "$$\n",
        "and\n",
        "$$\n",
        "\\lambda_{k,1} = \\begin{cases} 1 \\;\\; x = x_k \\\\ 0 \\;\\; x = x_{k+1} \\end{cases}\n",
        "$$\n",
        "This means that the elements of the matrix is 0 in all pairs of intervals that does not overlap, and the vector A is tri-diagonal. More specifically, we get that for the case $k :=i=j$ $$\n",
        "a_{k,k} = \\int_0^1 \\phi_k^2 dx = \\int_{I_k} \\lambda_{k,1}^2dx + \\int_{I_{k+1}} \\lambda_{k+1,1}^2dx=$$\n",
        "$$\n",
        "= \\int_{I_k} \\frac{(x-x_{k-1})^2}{h^2}dx + \\int_{I_{k+1}} \\frac{(x_{k+1}-x)^2}{h^2}dx= ... =\\frac{2h}{3}\n",
        "$$\n",
        "\n",
        "and for the case where $i=j+1$\n",
        "$$\n",
        "a_{k,k+1} = \\int_0^1 \\phi_k\\phi_{k+1} dx =  \\int_{I_{k+1}} \\lambda_{k+1,0} \\lambda_{k+1,1}dx=$$\n",
        "$$\n",
        "=  \\int_{I_{k+1}} \\frac{x_{k+1}-x}{h}\\frac{x-x_{k}}{h}dx= ... =\\frac{h}{6}\n",
        "$$\n",
        "and by symmetry\n",
        "$$a_{k,k-1} = ...= \\frac{h}{6}.$$\n",
        "\n",
        "For the vector, we can approximate the integral with a trapezoidal approximation, so that\n",
        "$$\n",
        "\\int_a^b f(x) dx ≈ (b-a)\\frac{1}{2} (f(a)+f(b))\n",
        "$$\n",
        "which gives $$\n",
        "b_k = \\int_0^1 f(x)\\phi_kdx = \\int_{I_{k}} f(x)\\lambda_{k,1}dx+  \\int_{I_{k+1}} f(x)\\lambda_{k+1,0}dx=\n",
        "$$\n",
        "$$\n",
        "≈ f(x_k)\\frac{h}{2}+ f(x_k)\\frac{h}{2} = f(x_k)h\n",
        "$$\n",
        "\n",
        "However, it is better to loop over the intervals rather than the nodes. Therefore, in each step we can compute the parts of the matrix and vector relating to that interval in a sub-matrix or vector. Then these can be put into the correct place in the global matrix and vector.\n",
        "\n",
        "The local elements are computed below."
      ],
      "metadata": {
        "id": "AlinTNYwmlyH"
      }
    },
    {
      "cell_type": "code",
      "source": [
        "## Computes the matrix element as above, depending on the local index\n",
        "def find_matrix_element(k,i,j,h,no_of_elements):\n",
        "\n",
        "  if i==0 and j ==0 and k == 0:\n",
        "\n",
        "    return 2*h/3\n",
        "\n",
        "  elif i==1 and j ==1 and k == no_of_elements-1:\n",
        "\n",
        "    return 2*h/3\n",
        "\n",
        "  elif j==i-1 or j==i+1:\n",
        "\n",
        "    return h/6\n",
        "\n",
        "  else:\n",
        "\n",
        "    return h/3"
      ],
      "metadata": {
        "id": "kIxJ6KhB_W0c"
      },
      "execution_count": 18,
      "outputs": []
    },
    {
      "cell_type": "code",
      "source": [
        "## Computes the vector element as above, depending on the local index\n",
        "def find_vector_element(f,k,i,h,mesh):\n",
        "  if k==0 and i ==0:\n",
        "    return f(mesh[k])*h\n",
        "  elif k== len(mesh)-1 and i==1:\n",
        "    return f(mesh[k])*h\n",
        "  elif i == 0:\n",
        "    return f(mesh[k])*h/2\n",
        "  else:\n",
        "    return f(mesh[k+1])*h/2"
      ],
      "metadata": {
        "id": "JxXc8Jfv_IzD"
      },
      "execution_count": 19,
      "outputs": []
    },
    {
      "cell_type": "markdown",
      "source": [
        "Then, the elements of the local matrix and vector need to be placed in the right places. This is done by the function below."
      ],
      "metadata": {
        "id": "gaVXoUkw_WNf"
      }
    },
    {
      "cell_type": "code",
      "source": [
        "## Adds the global matrix in the right place\n",
        "def add_to_global_matrix(A,A_k,k,no_of_elements):\n",
        "\n",
        "    if k == no_of_elements-1:\n",
        "      A[k,k] += A_k[0,0]\n",
        "    else:\n",
        "      A[k,k] += A_k[0,0]\n",
        "      A[k,k+1] += A_k[0,1]\n",
        "      A[k+1,k] += A_k[1,0]\n",
        "      A[k+1,k+1] += A_k[1,1]\n",
        "\n",
        "\n",
        "    return A\n"
      ],
      "metadata": {
        "id": "m8U8wILaOOsm"
      },
      "execution_count": 20,
      "outputs": []
    },
    {
      "cell_type": "code",
      "source": [
        "## Adds the local vector in the correct place\n",
        "def add_to_global_vector(b,b_k,k,no_of_elements):\n",
        "  if k== no_of_elements-1:\n",
        "    b[k] += b_k[0]\n",
        "  else:\n",
        "    b[k] += b_k[0]\n",
        "    b[k+1] += b_k[1]\n",
        "\n",
        "  return b"
      ],
      "metadata": {
        "id": "025vDbOLQLNp"
      },
      "execution_count": 21,
      "outputs": []
    },
    {
      "cell_type": "markdown",
      "source": [
        "Finally, we can create the matrix global A and vector b by looping through the intervals, and computing the local elements for each interval. This is done in the code below."
      ],
      "metadata": {
        "id": "nTM9AV3mBZTU"
      }
    },
    {
      "cell_type": "code",
      "source": [
        "## L2-projection, partiliy based on algorithm 9.2, p.203, in Methods in Computational Science, Johan Hoffman\n",
        "\n",
        "# Input: Function f\n",
        "# Output: Matrix A, vector b\n",
        "def L2(f):\n",
        "\n",
        "  h = 0.001 # step length\n",
        "  mesh = [i*h for i in range(1000)] # mesh\n",
        "\n",
        "  A = np.zeros([len(mesh),len(mesh)]) # Empty global matrix and vector\n",
        "  b = np.zeros([len(mesh)])\n",
        "\n",
        "\n",
        "  for k in range(len(mesh)):\n",
        "\n",
        "    q = 2 # number of local base vectors\n",
        "\n",
        "    b_k = np.zeros((q)) # Creates local matrix and vector\n",
        "    A_k = np.zeros((q,q))\n",
        "\n",
        "    for i in range(q): # Compute local elements\n",
        "      b_k[i] = find_vector_element(f,k,i,h,mesh)\n",
        "      for j in range(q):\n",
        "        A_k[i,j] = find_matrix_element(k,i,j,h,len(mesh))\n",
        "\n",
        "    add_to_global_vector(b,b_k,k,len(mesh)) # Add local elements to global matrix and vector\n",
        "    add_to_global_matrix(A,A_k,k,len(mesh))\n",
        "\n",
        "  return A,b\n"
      ],
      "metadata": {
        "id": "2cMTaW8Nmo7r"
      },
      "execution_count": 55,
      "outputs": []
    },
    {
      "cell_type": "markdown",
      "metadata": {
        "id": "SsQLT38gVbn_"
      },
      "source": [
        "# **Results**\n",
        "In this section, the results from the algorithm presented in the last section are shown."
      ]
    },
    {
      "cell_type": "markdown",
      "source": [
        "## L2-projecion\n",
        "We can compare our approximation of the function $f$ by comparing to the exact solution. We define the function f to be approximated as\n"
      ],
      "metadata": {
        "id": "cVQaD6HGZU6b"
      }
    },
    {
      "cell_type": "code",
      "source": [
        "def f(x):\n",
        "  return np.cos(x)"
      ],
      "metadata": {
        "id": "rzkCdv1zZTRS"
      },
      "execution_count": 56,
      "outputs": []
    },
    {
      "cell_type": "markdown",
      "source": [
        "Using the A and B computed with the algorithm above, we get the values of $\\alpha_j,$ and therefore the values that we approximate the function to have in those points. We can look at the difference between $f(x_i)$ computed for all the nodes and the approximated values in the same points and see if these are small. If they are, the approximation is close to the actual values.\n",
        "\n",
        "We can also plot the real function and compare it to the approximated values."
      ],
      "metadata": {
        "id": "3-OPxnlACorf"
      }
    },
    {
      "cell_type": "code",
      "source": [
        "A,b = L2(f)\n",
        "solution = np.linalg.solve(A,b)\n",
        "\n",
        "x_values = [i*0.001 for i in range(1000)]\n",
        "f_values = [f(i*0.001) for i in range(1000)]\n",
        "\n",
        "\n",
        "print(\"alpha_j*phi_j(x_j) - f(x_j) = \\n\", solution-f(x_values))\n",
        "\n",
        "plt.figure(figsize=(12,6))\n",
        "plt.plot(x_values,solution)\n",
        "plt.plot(x_values,f_values)\n",
        "plt.xlabel('x')\n",
        "plt.ylabel('y')\n",
        "plt.title('Approximation vs actual values')\n",
        "plt.show()"
      ],
      "metadata": {
        "colab": {
          "base_uri": "https://localhost:8080/",
          "height": 1000
        },
        "id": "vm1w72y3_hn3",
        "outputId": "67820fc0-b828-4c63-a697-c60d7c7cd6ae"
      },
      "execution_count": 57,
      "outputs": [
        {
          "output_type": "stream",
          "name": "stdout",
          "text": [
            "alpha_j*phi_j(x_j) - f(x_j) = \n",
            " [ 2.67949270e-01 -7.17965791e-02  1.92380467e-02 -5.15460776e-03\n",
            "  1.38138431e-03 -3.69929488e-04  9.93336288e-05 -2.64050456e-05\n",
            "  7.28652911e-06 -1.74110289e-06  6.77841853e-07  2.96853897e-08\n",
            "  2.03356005e-07  1.56818507e-07  1.69285384e-07  1.65941875e-07\n",
            "  1.66834535e-07  1.66591905e-07  1.66653264e-07  1.66632959e-07\n",
            "  1.66634323e-07  1.66629671e-07  1.66626419e-07  1.66622581e-07\n",
            "  1.66618688e-07  1.66614599e-07  1.66610351e-07  1.66605934e-07\n",
            "  1.66601351e-07  1.66596602e-07  1.66591686e-07  1.66586604e-07\n",
            "  1.66581355e-07  1.66575939e-07  1.66570357e-07  1.66564608e-07\n",
            "  1.66558692e-07  1.66552610e-07  1.66546362e-07  1.66539947e-07\n",
            "  1.66533365e-07  1.66526617e-07  1.66519702e-07  1.66512621e-07\n",
            "  1.66505373e-07  1.66497959e-07  1.66490378e-07  1.66482631e-07\n",
            "  1.66474717e-07  1.66466637e-07  1.66458391e-07  1.66449978e-07\n",
            "  1.66441398e-07  1.66432652e-07  1.66423740e-07  1.66414661e-07\n",
            "  1.66405416e-07  1.66396004e-07  1.66386426e-07  1.66376681e-07\n",
            "  1.66366771e-07  1.66356694e-07  1.66346450e-07  1.66336040e-07\n",
            "  1.66325464e-07  1.66314721e-07  1.66303812e-07  1.66292737e-07\n",
            "  1.66281496e-07  1.66270088e-07  1.66258514e-07  1.66246774e-07\n",
            "  1.66234867e-07  1.66222794e-07  1.66210555e-07  1.66198150e-07\n",
            "  1.66185579e-07  1.66172841e-07  1.66159938e-07  1.66146868e-07\n",
            "  1.66133632e-07  1.66120229e-07  1.66106661e-07  1.66092927e-07\n",
            "  1.66079026e-07  1.66064960e-07  1.66050727e-07  1.66036328e-07\n",
            "  1.66021763e-07  1.66007033e-07  1.65992136e-07  1.65977073e-07\n",
            "  1.65961845e-07  1.65946450e-07  1.65930889e-07  1.65915163e-07\n",
            "  1.65899270e-07  1.65883212e-07  1.65866987e-07  1.65850597e-07\n",
            "  1.65834042e-07  1.65817320e-07  1.65800432e-07  1.65783379e-07\n",
            "  1.65766159e-07  1.65748774e-07  1.65731224e-07  1.65713507e-07\n",
            "  1.65695625e-07  1.65677577e-07  1.65659364e-07  1.65640984e-07\n",
            "  1.65622440e-07  1.65603729e-07  1.65584853e-07  1.65565811e-07\n",
            "  1.65546604e-07  1.65527231e-07  1.65507693e-07  1.65487989e-07\n",
            "  1.65468120e-07  1.65448085e-07  1.65427885e-07  1.65407519e-07\n",
            "  1.65386988e-07  1.65366292e-07  1.65345430e-07  1.65324403e-07\n",
            "  1.65303210e-07  1.65281852e-07  1.65260330e-07  1.65238641e-07\n",
            "  1.65216788e-07  1.65194769e-07  1.65172585e-07  1.65150235e-07\n",
            "  1.65127721e-07  1.65105042e-07  1.65082197e-07  1.65059188e-07\n",
            "  1.65036013e-07  1.65012673e-07  1.64989169e-07  1.64965499e-07\n",
            "  1.64941664e-07  1.64917665e-07  1.64893500e-07  1.64869171e-07\n",
            "  1.64844676e-07  1.64820018e-07  1.64795193e-07  1.64770205e-07\n",
            "  1.64745051e-07  1.64719733e-07  1.64694250e-07  1.64668602e-07\n",
            "  1.64642790e-07  1.64616813e-07  1.64590671e-07  1.64564365e-07\n",
            "  1.64537894e-07  1.64511259e-07  1.64484459e-07  1.64457495e-07\n",
            "  1.64430366e-07  1.64403073e-07  1.64375615e-07  1.64347993e-07\n",
            "  1.64320207e-07  1.64292256e-07  1.64264142e-07  1.64235862e-07\n",
            "  1.64207419e-07  1.64178811e-07  1.64150039e-07  1.64121104e-07\n",
            "  1.64092003e-07  1.64062739e-07  1.64033311e-07  1.64003719e-07\n",
            "  1.63973963e-07  1.63944042e-07  1.63913958e-07  1.63883710e-07\n",
            "  1.63853298e-07  1.63822722e-07  1.63791982e-07  1.63761079e-07\n",
            "  1.63730012e-07  1.63698781e-07  1.63667386e-07  1.63635828e-07\n",
            "  1.63604106e-07  1.63572220e-07  1.63540171e-07  1.63507959e-07\n",
            "  1.63475582e-07  1.63443043e-07  1.63410340e-07  1.63377473e-07\n",
            "  1.63344443e-07  1.63311250e-07  1.63277894e-07  1.63244374e-07\n",
            "  1.63210691e-07  1.63176844e-07  1.63142835e-07  1.63108662e-07\n",
            "  1.63074326e-07  1.63039828e-07  1.63005166e-07  1.62970341e-07\n",
            "  1.62935354e-07  1.62900203e-07  1.62864889e-07  1.62829413e-07\n",
            "  1.62793773e-07  1.62757971e-07  1.62722006e-07  1.62685879e-07\n",
            "  1.62649589e-07  1.62613136e-07  1.62576520e-07  1.62539742e-07\n",
            "  1.62502801e-07  1.62465698e-07  1.62428433e-07  1.62391004e-07\n",
            "  1.62353414e-07  1.62315661e-07  1.62277746e-07  1.62239668e-07\n",
            "  1.62201429e-07  1.62163027e-07  1.62124463e-07  1.62085737e-07\n",
            "  1.62046849e-07  1.62007799e-07  1.61968586e-07  1.61929212e-07\n",
            "  1.61889676e-07  1.61849978e-07  1.61810118e-07  1.61770096e-07\n",
            "  1.61729913e-07  1.61689568e-07  1.61649061e-07  1.61608392e-07\n",
            "  1.61567562e-07  1.61526570e-07  1.61485417e-07  1.61444102e-07\n",
            "  1.61402626e-07  1.61360989e-07  1.61319190e-07  1.61277230e-07\n",
            "  1.61235108e-07  1.61192825e-07  1.61150381e-07  1.61107776e-07\n",
            "  1.61065010e-07  1.61022083e-07  1.60978994e-07  1.60935745e-07\n",
            "  1.60892335e-07  1.60848764e-07  1.60805032e-07  1.60761139e-07\n",
            "  1.60717085e-07  1.60672871e-07  1.60628496e-07  1.60583960e-07\n",
            "  1.60539265e-07  1.60494408e-07  1.60449391e-07  1.60404213e-07\n",
            "  1.60358875e-07  1.60313377e-07  1.60267718e-07  1.60221899e-07\n",
            "  1.60175920e-07  1.60129781e-07  1.60083481e-07  1.60037021e-07\n",
            "  1.59990402e-07  1.59943622e-07  1.59896682e-07  1.59849583e-07\n",
            "  1.59802324e-07  1.59754905e-07  1.59707326e-07  1.59659588e-07\n",
            "  1.59611689e-07  1.59563631e-07  1.59515414e-07  1.59467037e-07\n",
            "  1.59418501e-07  1.59369805e-07  1.59320950e-07  1.59271936e-07\n",
            "  1.59222761e-07  1.59173429e-07  1.59123936e-07  1.59074285e-07\n",
            "  1.59024475e-07  1.58974505e-07  1.58924377e-07  1.58874090e-07\n",
            "  1.58823644e-07  1.58773039e-07  1.58722275e-07  1.58671353e-07\n",
            "  1.58620271e-07  1.58569032e-07  1.58517633e-07  1.58466076e-07\n",
            "  1.58414361e-07  1.58362487e-07  1.58310456e-07  1.58258265e-07\n",
            "  1.58205916e-07  1.58153409e-07  1.58100744e-07  1.58047921e-07\n",
            "  1.57994940e-07  1.57941801e-07  1.57888504e-07  1.57835049e-07\n",
            "  1.57781436e-07  1.57727665e-07  1.57673737e-07  1.57619651e-07\n",
            "  1.57565407e-07  1.57511006e-07  1.57456448e-07  1.57401732e-07\n",
            "  1.57346858e-07  1.57291827e-07  1.57236639e-07  1.57181294e-07\n",
            "  1.57125790e-07  1.57070131e-07  1.57014314e-07  1.56958341e-07\n",
            "  1.56902210e-07  1.56845922e-07  1.56789477e-07  1.56732876e-07\n",
            "  1.56676118e-07  1.56619203e-07  1.56562132e-07  1.56504904e-07\n",
            "  1.56447519e-07  1.56389979e-07  1.56332281e-07  1.56274428e-07\n",
            "  1.56216418e-07  1.56158252e-07  1.56099930e-07  1.56041451e-07\n",
            "  1.55982817e-07  1.55924027e-07  1.55865080e-07  1.55805978e-07\n",
            "  1.55746720e-07  1.55687307e-07  1.55627737e-07  1.55568012e-07\n",
            "  1.55508132e-07  1.55448096e-07  1.55387904e-07  1.55327557e-07\n",
            "  1.55267055e-07  1.55206397e-07  1.55145585e-07  1.55084617e-07\n",
            "  1.55023494e-07  1.54962216e-07  1.54900783e-07  1.54839195e-07\n",
            "  1.54777452e-07  1.54715555e-07  1.54653503e-07  1.54591296e-07\n",
            "  1.54528934e-07  1.54466419e-07  1.54403748e-07  1.54340923e-07\n",
            "  1.54277944e-07  1.54214810e-07  1.54151523e-07  1.54088081e-07\n",
            "  1.54024485e-07  1.53960735e-07  1.53896831e-07  1.53832773e-07\n",
            "  1.53768562e-07  1.53704197e-07  1.53639678e-07  1.53575005e-07\n",
            "  1.53510179e-07  1.53445199e-07  1.53380066e-07  1.53314779e-07\n",
            "  1.53249339e-07  1.53183746e-07  1.53117999e-07  1.53052100e-07\n",
            "  1.52986047e-07  1.52919842e-07  1.52853483e-07  1.52786972e-07\n",
            "  1.52720308e-07  1.52653491e-07  1.52586522e-07  1.52519400e-07\n",
            "  1.52452125e-07  1.52384698e-07  1.52317119e-07  1.52249387e-07\n",
            "  1.52181503e-07  1.52113467e-07  1.52045278e-07  1.51976938e-07\n",
            "  1.51908446e-07  1.51839801e-07  1.51771005e-07  1.51702058e-07\n",
            "  1.51632958e-07  1.51563707e-07  1.51494304e-07  1.51424750e-07\n",
            "  1.51355044e-07  1.51285187e-07  1.51215179e-07  1.51145020e-07\n",
            "  1.51074709e-07  1.51004247e-07  1.50933635e-07  1.50862871e-07\n",
            "  1.50791957e-07  1.50720891e-07  1.50649675e-07  1.50578308e-07\n",
            "  1.50506791e-07  1.50435123e-07  1.50363305e-07  1.50291337e-07\n",
            "  1.50219218e-07  1.50146949e-07  1.50074529e-07  1.50001961e-07\n",
            "  1.49929241e-07  1.49856372e-07  1.49783353e-07  1.49710184e-07\n",
            "  1.49636865e-07  1.49563397e-07  1.49489779e-07  1.49416012e-07\n",
            "  1.49342095e-07  1.49268029e-07  1.49193814e-07  1.49119450e-07\n",
            "  1.49044936e-07  1.48970273e-07  1.48895462e-07  1.48820501e-07\n",
            "  1.48745392e-07  1.48670134e-07  1.48594727e-07  1.48519172e-07\n",
            "  1.48443468e-07  1.48367616e-07  1.48291615e-07  1.48215466e-07\n",
            "  1.48139169e-07  1.48062724e-07  1.47986130e-07  1.47909389e-07\n",
            "  1.47832499e-07  1.47755462e-07  1.47678277e-07  1.47600945e-07\n",
            "  1.47523465e-07  1.47445837e-07  1.47368062e-07  1.47290139e-07\n",
            "  1.47212070e-07  1.47133853e-07  1.47055489e-07  1.46976977e-07\n",
            "  1.46898320e-07  1.46819514e-07  1.46740563e-07  1.46661464e-07\n",
            "  1.46582219e-07  1.46502827e-07  1.46423289e-07  1.46343603e-07\n",
            "  1.46263773e-07  1.46183795e-07  1.46103672e-07  1.46023402e-07\n",
            "  1.45942986e-07  1.45862424e-07  1.45781717e-07  1.45700864e-07\n",
            "  1.45619865e-07  1.45538720e-07  1.45457430e-07  1.45375994e-07\n",
            "  1.45294414e-07  1.45212687e-07  1.45130816e-07  1.45048799e-07\n",
            "  1.44966637e-07  1.44884331e-07  1.44801879e-07  1.44719283e-07\n",
            "  1.44636542e-07  1.44553656e-07  1.44470626e-07  1.44387451e-07\n",
            "  1.44304132e-07  1.44220669e-07  1.44137062e-07  1.44053310e-07\n",
            "  1.43969414e-07  1.43885374e-07  1.43801191e-07  1.43716863e-07\n",
            "  1.43632392e-07  1.43547777e-07  1.43463019e-07  1.43378117e-07\n",
            "  1.43293072e-07  1.43207883e-07  1.43122552e-07  1.43037077e-07\n",
            "  1.42951459e-07  1.42865698e-07  1.42779794e-07  1.42693748e-07\n",
            "  1.42607559e-07  1.42521227e-07  1.42434753e-07  1.42348136e-07\n",
            "  1.42261377e-07  1.42174476e-07  1.42087432e-07  1.42000247e-07\n",
            "  1.41912919e-07  1.41825450e-07  1.41737838e-07  1.41650085e-07\n",
            "  1.41562191e-07  1.41474154e-07  1.41385976e-07  1.41297657e-07\n",
            "  1.41209197e-07  1.41120595e-07  1.41031852e-07  1.40942969e-07\n",
            "  1.40853944e-07  1.40764779e-07  1.40675472e-07  1.40586025e-07\n",
            "  1.40496437e-07  1.40406709e-07  1.40316841e-07  1.40226832e-07\n",
            "  1.40136683e-07  1.40046394e-07  1.39955965e-07  1.39865395e-07\n",
            "  1.39774686e-07  1.39683837e-07  1.39592849e-07  1.39501721e-07\n",
            "  1.39410453e-07  1.39319046e-07  1.39227500e-07  1.39135814e-07\n",
            "  1.39043990e-07  1.38952026e-07  1.38859923e-07  1.38767682e-07\n",
            "  1.38675301e-07  1.38582782e-07  1.38490125e-07  1.38397329e-07\n",
            "  1.38304394e-07  1.38211321e-07  1.38118110e-07  1.38024762e-07\n",
            "  1.37931274e-07  1.37837649e-07  1.37743886e-07  1.37649986e-07\n",
            "  1.37555947e-07  1.37461772e-07  1.37367458e-07  1.37273007e-07\n",
            "  1.37178420e-07  1.37083694e-07  1.36988832e-07  1.36893833e-07\n",
            "  1.36798697e-07  1.36703424e-07  1.36608014e-07  1.36512468e-07\n",
            "  1.36416785e-07  1.36320966e-07  1.36225011e-07  1.36128919e-07\n",
            "  1.36032692e-07  1.35936327e-07  1.35839828e-07  1.35743192e-07\n",
            "  1.35646421e-07  1.35549514e-07  1.35452471e-07  1.35355293e-07\n",
            "  1.35257980e-07  1.35160531e-07  1.35062948e-07  1.34965229e-07\n",
            "  1.34867375e-07  1.34769386e-07  1.34671263e-07  1.34573005e-07\n",
            "  1.34474612e-07  1.34376085e-07  1.34277423e-07  1.34178627e-07\n",
            "  1.34079697e-07  1.33980633e-07  1.33881435e-07  1.33782103e-07\n",
            "  1.33682638e-07  1.33583038e-07  1.33483305e-07  1.33383439e-07\n",
            "  1.33283439e-07  1.33183306e-07  1.33083039e-07  1.32982640e-07\n",
            "  1.32882108e-07  1.32781442e-07  1.32680644e-07  1.32579713e-07\n",
            "  1.32478650e-07  1.32377455e-07  1.32276126e-07  1.32174666e-07\n",
            "  1.32073073e-07  1.31971348e-07  1.31869492e-07  1.31767503e-07\n",
            "  1.31665383e-07  1.31563131e-07  1.31460748e-07  1.31358232e-07\n",
            "  1.31255586e-07  1.31152809e-07  1.31049900e-07  1.30946860e-07\n",
            "  1.30843689e-07  1.30740388e-07  1.30636955e-07  1.30533392e-07\n",
            "  1.30429699e-07  1.30325875e-07  1.30221920e-07  1.30117836e-07\n",
            "  1.30013621e-07  1.29909277e-07  1.29804802e-07  1.29700198e-07\n",
            "  1.29595464e-07  1.29490600e-07  1.29385607e-07  1.29280485e-07\n",
            "  1.29175233e-07  1.29069852e-07  1.28964342e-07  1.28858703e-07\n",
            "  1.28752935e-07  1.28647038e-07  1.28541013e-07  1.28434859e-07\n",
            "  1.28328577e-07  1.28222167e-07  1.28115628e-07  1.28008961e-07\n",
            "  1.27902166e-07  1.27795243e-07  1.27688193e-07  1.27581015e-07\n",
            "  1.27473708e-07  1.27366275e-07  1.27258714e-07  1.27151026e-07\n",
            "  1.27043212e-07  1.26935269e-07  1.26827200e-07  1.26719004e-07\n",
            "  1.26610681e-07  1.26502232e-07  1.26393657e-07  1.26284954e-07\n",
            "  1.26176126e-07  1.26067171e-07  1.25958091e-07  1.25848884e-07\n",
            "  1.25739552e-07  1.25630093e-07  1.25520509e-07  1.25410800e-07\n",
            "  1.25300965e-07  1.25191005e-07  1.25080920e-07  1.24970710e-07\n",
            "  1.24860374e-07  1.24749914e-07  1.24639329e-07  1.24528620e-07\n",
            "  1.24417786e-07  1.24306827e-07  1.24195744e-07  1.24084537e-07\n",
            "  1.23973206e-07  1.23861751e-07  1.23750172e-07  1.23638469e-07\n",
            "  1.23526643e-07  1.23414693e-07  1.23302620e-07  1.23190423e-07\n",
            "  1.23078103e-07  1.22965661e-07  1.22853095e-07  1.22740406e-07\n",
            "  1.22627595e-07  1.22514661e-07  1.22401604e-07  1.22288425e-07\n",
            "  1.22175124e-07  1.22061700e-07  1.21948155e-07  1.21834488e-07\n",
            "  1.21720698e-07  1.21606787e-07  1.21492755e-07  1.21378601e-07\n",
            "  1.21264325e-07  1.21149929e-07  1.21035411e-07  1.20920772e-07\n",
            "  1.20806012e-07  1.20691131e-07  1.20576130e-07  1.20461008e-07\n",
            "  1.20345766e-07  1.20230403e-07  1.20114920e-07  1.19999317e-07\n",
            "  1.19883594e-07  1.19767751e-07  1.19651788e-07  1.19535706e-07\n",
            "  1.19419504e-07  1.19303183e-07  1.19186742e-07  1.19070182e-07\n",
            "  1.18953503e-07  1.18836706e-07  1.18719789e-07  1.18602754e-07\n",
            "  1.18485600e-07  1.18368327e-07  1.18250936e-07  1.18133427e-07\n",
            "  1.18015800e-07  1.17898055e-07  1.17780192e-07  1.17662211e-07\n",
            "  1.17544112e-07  1.17425896e-07  1.17307562e-07  1.17189112e-07\n",
            "  1.17070544e-07  1.16951858e-07  1.16833056e-07  1.16714137e-07\n",
            "  1.16595102e-07  1.16475949e-07  1.16356681e-07  1.16237296e-07\n",
            "  1.16117794e-07  1.15998177e-07  1.15878444e-07  1.15758594e-07\n",
            "  1.15638629e-07  1.15518549e-07  1.15398353e-07  1.15278041e-07\n",
            "  1.15157614e-07  1.15037072e-07  1.14916415e-07  1.14795643e-07\n",
            "  1.14674756e-07  1.14553755e-07  1.14432639e-07  1.14311408e-07\n",
            "  1.14190064e-07  1.14068605e-07  1.13947032e-07  1.13825345e-07\n",
            "  1.13703544e-07  1.13581629e-07  1.13459601e-07  1.13337460e-07\n",
            "  1.13215205e-07  1.13092837e-07  1.12970356e-07  1.12847762e-07\n",
            "  1.12725055e-07  1.12602235e-07  1.12479303e-07  1.12356258e-07\n",
            "  1.12233101e-07  1.12109832e-07  1.11986450e-07  1.11862957e-07\n",
            "  1.11739351e-07  1.11615634e-07  1.11491805e-07  1.11367865e-07\n",
            "  1.11243814e-07  1.11119651e-07  1.10995377e-07  1.10870992e-07\n",
            "  1.10746496e-07  1.10621890e-07  1.10497173e-07  1.10372345e-07\n",
            "  1.10247407e-07  1.10122359e-07  1.09997200e-07  1.09871932e-07\n",
            "  1.09746554e-07  1.09621065e-07  1.09495468e-07  1.09369761e-07\n",
            "  1.09243944e-07  1.09118019e-07  1.08991984e-07  1.08865840e-07\n",
            "  1.08739587e-07  1.08613226e-07  1.08486756e-07  1.08360177e-07\n",
            "  1.08233490e-07  1.08106695e-07  1.07979792e-07  1.07852781e-07\n",
            "  1.07725661e-07  1.07598435e-07  1.07471100e-07  1.07343659e-07\n",
            "  1.07216109e-07  1.07088453e-07  1.06960689e-07  1.06832819e-07\n",
            "  1.06704841e-07  1.06576757e-07  1.06448567e-07  1.06320270e-07\n",
            "  1.06191866e-07  1.06063357e-07  1.05934741e-07  1.05806020e-07\n",
            "  1.05677192e-07  1.05548259e-07  1.05419221e-07  1.05290076e-07\n",
            "  1.05160827e-07  1.05031473e-07  1.04902013e-07  1.04772449e-07\n",
            "  1.04642780e-07  1.04513006e-07  1.04383128e-07  1.04253144e-07\n",
            "  1.04123058e-07  1.03992867e-07  1.03862572e-07  1.03732173e-07\n",
            "  1.03601670e-07  1.03471064e-07  1.03340354e-07  1.03209541e-07\n",
            "  1.03078625e-07  1.02947605e-07  1.02816483e-07  1.02685258e-07\n",
            "  1.02553930e-07  1.02422499e-07  1.02290967e-07  1.02159332e-07\n",
            "  1.02027594e-07  1.01895755e-07  1.01763814e-07  1.01631771e-07\n",
            "  1.01499626e-07  1.01367380e-07  1.01235033e-07  1.01102584e-07\n",
            "  1.00970035e-07  1.00837384e-07  1.00704632e-07  1.00571780e-07\n",
            "  1.00438827e-07  1.00305774e-07  1.00172620e-07  1.00039366e-07\n",
            "  9.99060127e-08  9.97725589e-08  9.96390054e-08  9.95053522e-08\n",
            "  9.93715995e-08  9.92377477e-08  9.91037963e-08  9.89697462e-08\n",
            "  9.88355966e-08  9.87013485e-08  9.85670018e-08  9.84325563e-08\n",
            "  9.82980124e-08  9.81633702e-08  9.80286300e-08  9.78937916e-08\n",
            "  9.77588553e-08  9.76238214e-08  9.74886896e-08  9.73534607e-08\n",
            "  9.72181341e-08  9.70827105e-08  9.69471897e-08  9.68115720e-08\n",
            "  9.66758575e-08  9.65400462e-08  9.64041386e-08  9.62681345e-08\n",
            "  9.61320340e-08  9.59958374e-08  9.58595449e-08  9.57231565e-08\n",
            "  9.55866725e-08  9.54500926e-08  9.53134176e-08  9.51766469e-08\n",
            "  9.50397814e-08  9.49028206e-08  9.47657651e-08  9.46286146e-08\n",
            "  9.44913698e-08  9.43540301e-08  9.42165964e-08  9.40790684e-08\n",
            "  9.39414462e-08  9.38037303e-08  9.36659196e-08  9.35280194e-08\n",
            "  9.33900096e-08  9.32519670e-08  9.31136044e-08  9.29759955e-08\n",
            "  9.28351326e-08  9.27059751e-08  9.25326916e-08  9.25236513e-08\n",
            "  9.19012089e-08  9.35675772e-08  8.66915510e-08  1.11695739e-07\n",
            "  1.77209137e-08  3.67781375e-07 -9.39320847e-07  3.93819183e-06\n",
            " -1.42655929e-05  5.36711966e-05 -1.99873014e-04  7.46366202e-04\n",
            " -2.78504729e-03  1.03943666e-02 -3.87918764e-02  1.44773681e-01]\n"
          ]
        },
        {
          "output_type": "display_data",
          "data": {
            "text/plain": [
              "<Figure size 1200x600 with 1 Axes>"
            ],
            "image/png": "[encoded data removed]"
          },
          "metadata": {}
        }
      ]
    },
    {
      "cell_type": "markdown",
      "source": [
        "We can see that the difference between the approximation and the real function is small, exept for in the end points. Also, the difference becomes smaller when decresing the iterval size."
      ],
      "metadata": {
        "id": "5XWXGTRdGN3Z"
      }
    },
    {
      "cell_type": "markdown",
      "metadata": {
        "id": "_4GLBv0zWr7m"
      },
      "source": [
        "# **Discussion**"
      ]
    },
    {
      "cell_type": "markdown",
      "metadata": {
        "id": "6bcsDSoRXHZe"
      },
      "source": [
        "The result is mostly as expected. Since the difference between the approximation and the function becomes smaller when decreasing the step size, we can see that the result converges to the actual function."
      ]
    }
  ]
}