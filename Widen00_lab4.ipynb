{
  "nbformat": 4,
  "nbformat_minor": 0,
  "metadata": {
    "colab": {
      "provenance": [],
      "authorship_tag": "ABX9TyNv+NktqHwNBgbxUe4tLeW+",
      "include_colab_link": true
    },
    "kernelspec": {
      "name": "python3",
      "display_name": "Python 3"
    },
    "language_info": {
      "name": "python"
    }
  },
  "cells": [
    {
      "cell_type": "markdown",
      "metadata": {
        "id": "view-in-github",
        "colab_type": "text"
      },
      "source": [
        "<a href=\"https://colab.research.google.com/github/johanhoffman/DD2363_VT24/blob/Widen00-Lab4/Widen00_lab4.ipynb\" target=\"_parent\"><img src=\"https://colab.research.google.com/assets/colab-badge.svg\" alt=\"Open In Colab\"/></a>"
      ]
    },
    {
      "cell_type": "markdown",
      "source": [
        "# **Lab 4: Integration**\n",
        "**Joel Widén**"
      ],
      "metadata": {
        "id": "lf-3hL_DwYiX"
      }
    },
    {
      "cell_type": "code",
      "execution_count": 3,
      "metadata": {
        "id": "ALF6tfnWvG-I"
      },
      "outputs": [],
      "source": [
        "# Load neccessary modules.\n",
        "from google.colab import files\n",
        "\n",
        "import time\n",
        "import numpy as np\n",
        "\n",
        "#try:\n",
        "#    from dolfin import *; from mshr import *\n",
        "#except ImportError as e:\n",
        "#    !apt-get install -y -qq software-properties-common\n",
        "#    !add-apt-repository -y ppa:fenics-packages/fenics\n",
        "#    !apt-get update -qq\n",
        "#    !apt install -y --no-install-recommends fenics\n",
        "#    from dolfin import *; from mshr import *\n",
        "\n",
        "#import dolfin.common.plotting as fenicsplot\n",
        "\n",
        "from matplotlib import pyplot as plt\n",
        "from matplotlib import tri\n",
        "from matplotlib import axes\n",
        "from mpl_toolkits.mplot3d import Axes3D"
      ]
    },
    {
      "cell_type": "markdown",
      "source": [
        "1. Function: 2-point Gauss quadrature over a unit interval\n",
        "\n",
        "Input: function f(x)\n",
        "Output: quadrature approximation of integral int_0^1 f(x) dx\n",
        "Test: verify exact integration of cubic polynomials ax^3 + bx^2 + cx + d\n",
        "\n",
        "2. Function: 3-point edge midpoint quadrature over a reference triangle\n",
        "\n",
        "Input: function f(x)\n",
        "Output: quadrature approximation of integral int_ref-triangle f(x) dx\n",
        "Test: verify exact integration of quadratic polynomials ax^2 + by^2 + cxy + dx + ey + f\n",
        "\n",
        "3. Function: Monte Carlo quadrature over a unit interval\n",
        "Output: MC quadrature approximation of integral int_0^1 f(x) dx\n",
        "Test: verify convergence rate 1/sqrt(n) with respect to number of quadrature points n."
      ],
      "metadata": {
        "id": "4tymgR56wh9D"
      }
    },
    {
      "cell_type": "markdown",
      "source": [
        "# **Method**"
      ],
      "metadata": {
        "id": "PRsUHheXwQlB"
      }
    },
    {
      "cell_type": "code",
      "source": [
        "#Assignment 1\n",
        "\n",
        "class func:\n",
        "  def __init__(self, x):\n",
        "    self.c = [1, 1, 1, 1]\n",
        "    self.fx = self.f(x)\n",
        "    self.Fx = self.F(X)\n",
        "\n",
        "  def f(self, x):\n",
        "    c = self.c\n",
        "    fx = c[0]*x^3 + c[1]*x^2 + c[2]*x + c[3]\n",
        "\n",
        "\n",
        "  def F(self, x):\n",
        "    c = self.c\n",
        "    Fx =(c[0]/4)*x^4 + (c[1]/3)*x^3 + (c[2]/2)*x^2 + c[3]*x\n",
        "\n",
        "\n",
        "\n",
        "def two_point_gauss(f):\n",
        "  w0 = 1/2\n",
        "  w1 = w0\n",
        "  x0 = (1/2)*(1/np.sqrt(3) + 1)\n",
        "  x1 = (1/2)*(-1/np.sqrt(3) + 1)\n",
        "\n",
        "  fx_g = 0\n",
        "  return fx_g\n",
        "\n",
        "print(func.)\n",
        "\n"
      ],
      "metadata": {
        "colab": {
          "base_uri": "https://localhost:8080/",
          "height": 193
        },
        "id": "rRCdPdwawQCC",
        "outputId": "a9d9a664-1708-41b9-8978-3bb2f14f4be9"
      },
      "execution_count": 10,
      "outputs": [
        {
          "output_type": "error",
          "ename": "TypeError",
          "evalue": "func.f() missing 1 required positional argument: 'x'",
          "traceback": [
            "\u001b[0;31m---------------------------------------------------------------------------\u001b[0m",
            "\u001b[0;31mTypeError\u001b[0m                                 Traceback (most recent call last)",
            "\u001b[0;32m<ipython-input-10-e7fa1af7b44a>\u001b[0m in \u001b[0;36m<cell line: 27>\u001b[0;34m()\u001b[0m\n\u001b[1;32m     25\u001b[0m   \u001b[0;32mreturn\u001b[0m \u001b[0mfx_g\u001b[0m\u001b[0;34m\u001b[0m\u001b[0;34m\u001b[0m\u001b[0m\n\u001b[1;32m     26\u001b[0m \u001b[0;34m\u001b[0m\u001b[0m\n\u001b[0;32m---> 27\u001b[0;31m \u001b[0mprint\u001b[0m\u001b[0;34m(\u001b[0m\u001b[0mfunc\u001b[0m\u001b[0;34m.\u001b[0m\u001b[0mf\u001b[0m\u001b[0;34m(\u001b[0m\u001b[0;36m1\u001b[0m\u001b[0;34m)\u001b[0m\u001b[0;34m)\u001b[0m\u001b[0;34m\u001b[0m\u001b[0;34m\u001b[0m\u001b[0m\n\u001b[0m\u001b[1;32m     28\u001b[0m \u001b[0;34m\u001b[0m\u001b[0m\n",
            "\u001b[0;31mTypeError\u001b[0m: func.f() missing 1 required positional argument: 'x'"
          ]
        }
      ]
    }
  ]
}