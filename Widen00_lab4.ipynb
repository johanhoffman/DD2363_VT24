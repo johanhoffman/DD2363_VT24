{
  "nbformat": 4,
  "nbformat_minor": 0,
  "metadata": {
    "colab": {
      "provenance": [],
      "authorship_tag": "ABX9TyNDo0goz2bfd/aW9h03zFt9",
      "include_colab_link": true
    },
    "kernelspec": {
      "name": "python3",
      "display_name": "Python 3"
    },
    "language_info": {
      "name": "python"
    }
  },
  "cells": [
    {
      "cell_type": "markdown",
      "metadata": {
        "id": "view-in-github",
        "colab_type": "text"
      },
      "source": [
        "<a href=\"https://colab.research.google.com/github/johanhoffman/DD2363_VT24/blob/Widen00-Lab4/Widen00_lab4.ipynb\" target=\"_parent\"><img src=\"https://colab.research.google.com/assets/colab-badge.svg\" alt=\"Open In Colab\"/></a>"
      ]
    },
    {
      "cell_type": "markdown",
      "source": [
        "# **Lab 4: Integration**\n",
        "**Joel Widén**"
      ],
      "metadata": {
        "id": "lf-3hL_DwYiX"
      }
    },
    {
      "cell_type": "code",
      "execution_count": 2,
      "metadata": {
        "id": "ALF6tfnWvG-I"
      },
      "outputs": [],
      "source": [
        "# Load neccessary modules.\n",
        "from google.colab import files\n",
        "\n",
        "import time\n",
        "import numpy as np\n",
        "\n",
        "#try:\n",
        "#    from dolfin import *; from mshr import *\n",
        "#except ImportError as e:\n",
        "#    !apt-get install -y -qq software-properties-common\n",
        "#    !add-apt-repository -y ppa:fenics-packages/fenics\n",
        "#    !apt-get update -qq\n",
        "#    !apt install -y --no-install-recommends fenics\n",
        "#    from dolfin import *; from mshr import *\n",
        "\n",
        "#import dolfin.common.plotting as fenicsplot\n",
        "\n",
        "from matplotlib import pyplot as plt\n",
        "from matplotlib import tri\n",
        "from matplotlib import axes\n",
        "from mpl_toolkits.mplot3d import Axes3D"
      ]
    },
    {
      "cell_type": "markdown",
      "source": [
        "1. Function: 2-point Gauss quadrature over a unit interval\n",
        "\n",
        "Input: function f(x)\n",
        "Output: quadrature approximation of integral int_0^1 f(x) dx\n",
        "Test: verify exact integration of cubic polynomials ax^3 + bx^2 + cx + d\n",
        "\n",
        "2. Function: 3-point edge midpoint quadrature over a reference triangle\n",
        "\n",
        "Input: function f(x)\n",
        "Output: quadrature approximation of integral int_ref-triangle f(x) dx\n",
        "Test: verify exact integration of quadratic polynomials ax^2 + by^2 + cxy + dx + ey + f\n",
        "\n",
        "3. Function: Monte Carlo quadrature over a unit interval\n",
        "Output: MC quadrature approximation of integral int_0^1 f(x) dx\n",
        "Test: verify convergence rate 1/sqrt(n) with respect to number of quadrature points n."
      ],
      "metadata": {
        "id": "4tymgR56wh9D"
      }
    },
    {
      "cell_type": "markdown",
      "source": [
        "# **Method**"
      ],
      "metadata": {
        "id": "PRsUHheXwQlB"
      }
    },
    {
      "cell_type": "code",
      "source": [
        "#Assignment 1\n",
        "\n",
        "class func:\n",
        "  def __init__(self):\n",
        "    self.c = [1, 1, 1, 1]\n",
        "    self.fx = self.f\n",
        "    self.Fx = self.F\n",
        "\n",
        "  def f(self, x):\n",
        "    c = self.c\n",
        "    fx = c[0]*(x**3) + c[1]*(x**2) + c[2]*x + c[3]\n",
        "    return fx\n",
        "\n",
        "  #Without integration constant\n",
        "  def F(self, x):\n",
        "    c = self.c\n",
        "    Fx =(c[0]/4)*(x**4) + (c[1]/3)*(x**3) + (c[2]/2)*(x**2) + c[3]*x\n",
        "    return Fx\n",
        "\n",
        "def two_point_gauss(f):\n",
        "  w0 = 1/2\n",
        "  w1 = w0\n",
        "  x0 = (1/2)*(1/np.sqrt(3) + 1)\n",
        "  x1 = (1/2)*(-1/np.sqrt(3) + 1)\n",
        "\n",
        "  fx_g = w0 * f(x0) + w1 * f(x1)\n",
        "  return fx_g\n",
        "\n",
        "f = func().fx\n",
        "F = func().Fx\n",
        "two_point = two_point_gauss(f)\n",
        "exact_two_point = F(1) - F(0)\n",
        "\n",
        "print(two_point)\n",
        "print(exact_two_point)\n",
        "\n",
        "diff = abs(two_point - exact_two_point)\n",
        "print(diff)\n"
      ],
      "metadata": {
        "colab": {
          "base_uri": "https://localhost:8080/"
        },
        "id": "rRCdPdwawQCC",
        "outputId": "9ccd8304-27cb-458b-e7ae-b75d416e3b83"
      },
      "execution_count": 3,
      "outputs": [
        {
          "output_type": "stream",
          "name": "stdout",
          "text": [
            "2.083333333333333\n",
            "2.083333333333333\n",
            "0.0\n"
          ]
        }
      ]
    },
    {
      "cell_type": "code",
      "source": [
        "#Assignment 2\n",
        "\n",
        "class func:\n",
        "  def __init__(self):\n",
        "    self.c = [1, 1, 1, 1, 1, 1]\n",
        "    self.fxy = self.f\n",
        "    self.Fxy = self.F\n",
        "\n",
        "  def f(self, x, y):\n",
        "    c = self.c\n",
        "    fxy = c[0]*(x**2) + c[1]*(y**2) + c[2]*x*y + c[3]*x + c[4]*y + c[5]\n",
        "    return fxy\n",
        "\n",
        "  #Without integration constant, over reference triangle area. Parametrized accordingly\n",
        "  def F(self, x):\n",
        "    c = self.c\n",
        "    A = c[0] * (x**3 / 3 - x**4 / 4)\n",
        "    B = c[1] * (x / 3 - x**2 / 2 + x**3 / 3 - x**4 / 12)\n",
        "    C = c[2] * (x**2 / 4 - x**3 / 3 + x**4 / 8)\n",
        "    D = c[3] * (x**2 / 2 - x**3 / 3)\n",
        "    E = (c[4]/2) * (x - x**2 + x**3 / 3)\n",
        "    F = c[5] * (x - x**2 / 2)\n",
        "    Fxy =  A + B + C + D + E + F\n",
        "    return Fxy\n",
        "\n",
        "\n",
        "def three_point_edge(f):\n",
        "  w0 = 1/6\n",
        "  w1 = w0\n",
        "  w2 = w0\n",
        "  v0 = [1/2, 0]\n",
        "  v1 = [0, 1/2]\n",
        "  v2 = [1/2, 1/2]\n",
        "  fxy_tp = (w0 * f(v0[0], v0[1])) + (w1 * f(v1[0], v1[1])) + (w2 * f(v2[0], v2[1]))\n",
        "\n",
        "  return fxy_tp\n",
        "\n",
        "f = func().fxy\n",
        "F = func().Fxy\n",
        "\n",
        "three_point = three_point_edge(f)\n",
        "exact_three_point = F(1) - F(0)\n",
        "\n",
        "print(three_point)\n",
        "print(exact_three_point)\n",
        "\n",
        "diff = abs(three_point - exact_three_point)\n",
        "print(diff)\n",
        "\n"
      ],
      "metadata": {
        "colab": {
          "base_uri": "https://localhost:8080/"
        },
        "id": "ex0DnRjqrO_z",
        "outputId": "4a708e8c-7d88-4833-9028-c3d16e122d2a"
      },
      "execution_count": 13,
      "outputs": [
        {
          "output_type": "stream",
          "name": "stdout",
          "text": [
            "1.0416666666666665\n",
            "1.0416666666666665\n",
            "0.0\n"
          ]
        }
      ]
    }
  ]
}