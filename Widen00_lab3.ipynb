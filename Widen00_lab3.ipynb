{
  "nbformat": 4,
  "nbformat_minor": 0,
  "metadata": {
    "colab": {
      "provenance": [],
      "authorship_tag": "ABX9TyPWQFJRpCNCaddoaSAHGSjz",
      "include_colab_link": true
    },
    "kernelspec": {
      "name": "python3",
      "display_name": "Python 3"
    },
    "language_info": {
      "name": "python"
    }
  },
  "cells": [
    {
      "cell_type": "markdown",
      "metadata": {
        "id": "view-in-github",
        "colab_type": "text"
      },
      "source": [
        "<a href=\"https://colab.research.google.com/github/johanhoffman/DD2363_VT24/blob/Widen00-Lab3/Widen00_lab3.ipynb\" target=\"_parent\"><img src=\"https://colab.research.google.com/assets/colab-badge.svg\" alt=\"Open In Colab\"/></a>"
      ]
    },
    {
      "cell_type": "markdown",
      "source": [
        "# **Lab 3: Approximations**\n",
        "**Joel Widén**"
      ],
      "metadata": {
        "id": "j6z5nK36umOR"
      }
    },
    {
      "cell_type": "markdown",
      "source": [
        "# **Abstract**"
      ],
      "metadata": {
        "id": "sAzXBsgxuyNS"
      }
    },
    {
      "cell_type": "markdown",
      "source": [
        "\n",
        "\n",
        "```\n",
        "# This is formatted as code\n",
        "```\n",
        "\n",
        "Short summary of the lab report. State the objectives, methods used, main results and conlusions."
      ],
      "metadata": {
        "id": "Gt2_JiPQu42M"
      }
    },
    {
      "cell_type": "markdown",
      "source": [
        "#**About the code**"
      ],
      "metadata": {
        "id": "EXgWNJFSu8w4"
      }
    },
    {
      "cell_type": "markdown",
      "source": [
        "A short statement on who is the author of the file, and if the code is distributed under a certain license."
      ],
      "metadata": {
        "id": "HRIcqmgju9qy"
      }
    },
    {
      "cell_type": "markdown",
      "source": [
        "# **Set up environment**"
      ],
      "metadata": {
        "id": "eH-yaDn8vxck"
      }
    },
    {
      "cell_type": "code",
      "source": [
        "# Load neccessary modules.\n",
        "from google.colab import files\n",
        "\n",
        "import time\n",
        "import numpy as np\n",
        "\n",
        "#try:\n",
        "#    from dolfin import *; from mshr import *\n",
        "#except ImportError as e:\n",
        "#    !apt-get install -y -qq software-properties-common\n",
        "#    !add-apt-repository -y ppa:fenics-packages/fenics\n",
        "#    !apt-get update -qq\n",
        "#    !apt install -y --no-install-recommends fenics\n",
        "#    from dolfin import *; from mshr import *\n",
        "\n",
        "#import dolfin.common.plotting as fenicsplot\n",
        "\n",
        "from matplotlib import pyplot as plt\n",
        "from matplotlib import tri\n",
        "from matplotlib import axes\n",
        "from mpl_toolkits.mplot3d import Axes3D"
      ],
      "metadata": {
        "id": "XbnLcgN_vyji"
      },
      "execution_count": null,
      "outputs": []
    },
    {
      "cell_type": "markdown",
      "source": [
        "# **Introduction**"
      ],
      "metadata": {
        "id": "Lyr9PFlIv5aj"
      }
    },
    {
      "cell_type": "markdown",
      "source": [
        "1. Function: L2 projection to pw linear approximation over mesh in 1D\n",
        "\n",
        "Input: function f(x), 1D mesh with nodes (x0,...,xn)\n",
        "Output: vector of L2 projection of f(x) evaluated in (x0,...,xn)\n",
        "Test: verify accuracy and convergence rate against exact function"
      ],
      "metadata": {
        "id": "hgP4PS7Gz5lA"
      }
    },
    {
      "cell_type": "markdown",
      "source": [
        "# **Method**"
      ],
      "metadata": {
        "id": "7hW63LXazm2e"
      }
    },
    {
      "cell_type": "code",
      "source": [
        "#L2 projection on pw to linear approximation over mesh in 1D\n",
        "\n",
        "#Reference function\n",
        "def f(x):\n",
        "  fx = x**2\n",
        "  return fx\n",
        "\n",
        "#Input x, interval nr k, mesh and if it is the 0 or 1 polynomial in nr\n",
        "def lin_lagrange_pol(x, mesh, k, nr):\n",
        "  x_k = mesh[k]\n",
        "  x_k_m1 = mesh[k-1]\n",
        "  h_k = x_k - x_k_m1\n",
        "  if nr == 0:\n",
        "    lambdax =  (x_k - x)/h_k\n",
        "  else:\n",
        "    lambdax = (x- x_k_m1)/h_k\n",
        "  return lambdax\n",
        "\n",
        "#Continious global basis Vh\n",
        "def phi(x, k):\n",
        "  if k == 1:\n",
        "    phix = lin_lagrange_pol\n",
        "\n",
        "\n",
        "  return phix\n",
        "\n",
        "\n",
        "def assembly_system(f, A, b)\n",
        "  for k in range(0, no_elements):\n",
        "    q = get_no_local_shape_functions(k)\n",
        "    loc2glob = get_local_to_global_map(k)\n",
        "    for i in range(0, q)\n",
        "      b_k[i] = integrate_vector(f, k, i)\n",
        "      for j in range(0, q)\n",
        "        a_k[i, j] = integrate_matrix(k, i, j)\n",
        "    add_to_global_vector(b, b_k, loc2glob)\n",
        "    add_to_global_matrix(A, a_k, loc2glob)\n",
        "  return A, b\n",
        "\n",
        "x_n = 1\n",
        "interval = 0.1\n",
        "mesh = np.arange(0 ,x_n+interval, interval)\n",
        "print(mesh)\n",
        "print(f(4))\n"
      ],
      "metadata": {
        "colab": {
          "base_uri": "https://localhost:8080/"
        },
        "id": "HkNWmJ-kzyfa",
        "outputId": "b0f13ed8-c66c-4f15-a6be-30ee03e13d6d"
      },
      "execution_count": null,
      "outputs": [
        {
          "output_type": "stream",
          "name": "stdout",
          "text": [
            "[0.  0.1 0.2 0.3 0.4 0.5 0.6 0.7 0.8 0.9 1. ]\n",
            "16\n"
          ]
        }
      ]
    },
    {
      "cell_type": "markdown",
      "source": [
        "# **Results**"
      ],
      "metadata": {
        "id": "LQaqpvgQznwg"
      }
    },
    {
      "cell_type": "markdown",
      "source": [
        "# **Discussion**"
      ],
      "metadata": {
        "id": "pjtOMdaJzrBL"
      }
    }
  ]
}