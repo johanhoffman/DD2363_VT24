{
  "nbformat": 4,
  "nbformat_minor": 0,
  "metadata": {
    "colab": {
      "provenance": []
    },
    "kernelspec": {
      "name": "python3",
      "display_name": "Python 3"
    }
  },
  "cells": [
    {
      "cell_type": "markdown",
      "metadata": {
        "id": "6RgtXlfYO_i7"
      },
      "source": [
        "# **Lab 5: Differential equations**\n",
        "**Matteus Berg**"
      ]
    },
    {
      "cell_type": "markdown",
      "metadata": {
        "id": "9x_J5FVuPzbm"
      },
      "source": [
        "# **Abstract**"
      ]
    },
    {
      "cell_type": "markdown",
      "metadata": {
        "id": "6UFTSzW7P8kL"
      },
      "source": [
        "\n",
        "In this report, we implement an algorithm for solving the Initial Value Problem (IVP). Heun's method is chosen as the algorithm. The algorithm is then tested for both scalar IVP's and systems of IVP's. The algorithm is verified to converge."
      ]
    },
    {
      "cell_type": "markdown",
      "metadata": {
        "id": "OkT8J7uOWpT3"
      },
      "source": [
        "#**About the code**"
      ]
    },
    {
      "cell_type": "markdown",
      "metadata": {
        "id": "HmB2noTr1Oyo"
      },
      "source": [
        "A short statement on who is the author of the file, and if the code is distributed under a certain license."
      ]
    },
    {
      "cell_type": "code",
      "metadata": {
        "id": "Pdll1Xc9WP0e",
        "colab": {
          "base_uri": "https://localhost:8080/",
          "height": 37
        },
        "outputId": "9e782dc7-4ad0-48f9-d45c-2200e83dec4d"
      },
      "source": [
        "\"\"\"This program is a template for lab reports in the course\"\"\"\n",
        "\"\"\"DD2363 Methods in Scientific Computing, \"\"\"\n",
        "\"\"\"KTH Royal Institute of Technology, Stockholm, Sweden.\"\"\"\n",
        "\n",
        "# Copyright (C) 2020 Johan Hoffman (jhoffman@kth.se)\n",
        "\n",
        "# This file is part of the course DD2365 Advanced Computation in Fluid Mechanics\n",
        "# KTH Royal Institute of Technology, Stockholm, Sweden\n",
        "#\n",
        "# This is free software: you can redistribute it and/or modify\n",
        "# it under the terms of the GNU Lesser General Public License as published by\n",
        "# the Free Software Foundation, either version 3 of the License, or\n",
        "# (at your option) any later version.\n",
        "\n",
        "# This template is maintained by Johan Hoffman\n",
        "# Please report problems to jhoffman@kth.se"
      ],
      "execution_count": null,
      "outputs": [
        {
          "output_type": "execute_result",
          "data": {
            "application/vnd.google.colaboratory.intrinsic+json": {
              "type": "string"
            },
            "text/plain": [
              "'KTH Royal Institute of Technology, Stockholm, Sweden.'"
            ]
          },
          "metadata": {},
          "execution_count": 1
        }
      ]
    },
    {
      "cell_type": "markdown",
      "metadata": {
        "id": "28xLGz8JX3Hh"
      },
      "source": [
        "# **Set up environment**"
      ]
    },
    {
      "cell_type": "markdown",
      "metadata": {
        "id": "D2PYNusD08Wa"
      },
      "source": [
        "To have access to the neccessary modules you have to run this cell. If you need additional modules, this is where you add them."
      ]
    },
    {
      "cell_type": "code",
      "metadata": {
        "id": "Xw7VlErAX7NS"
      },
      "source": [
        "# Load neccessary modules.\n",
        "from google.colab import files\n",
        "\n",
        "import time\n",
        "import numpy as np\n",
        "\n",
        "#try:\n",
        "#    from dolfin import *; from mshr import *\n",
        "#except ImportError as e:\n",
        "#    !apt-get install -y -qq software-properties-common\n",
        "#    !add-apt-repository -y ppa:fenics-packages/fenics\n",
        "#    !apt-get update -qq\n",
        "#    !apt install -y --no-install-recommends fenics\n",
        "#    from dolfin import *; from mshr import *\n",
        "\n",
        "#import dolfin.common.plotting as fenicsplot\n",
        "\n",
        "from matplotlib import pyplot as plt\n",
        "from matplotlib import tri\n",
        "from matplotlib import axes\n",
        "from mpl_toolkits.mplot3d import Axes3D"
      ],
      "execution_count": null,
      "outputs": []
    },
    {
      "cell_type": "markdown",
      "metadata": {
        "id": "gnO3lhAigLev"
      },
      "source": [
        "# **Introduction**"
      ]
    },
    {
      "cell_type": "markdown",
      "metadata": {
        "id": "l5zMzgPlRAF6"
      },
      "source": [
        "A scalar initial value problem is defined on page 280 in the book as\n",
        "\n",
        "$\\dot{u}(t) = f(u(t), t) \\hspace{20pt} 0 < t \\leq T$,\n",
        "\n",
        "$u(0) = u_0$\n",
        "\n",
        "Where $\\dot{u}(t) = \\frac{du}{dt}$. Obtaining exact solutions to these problems is a rarity. In general, solutions to this problem is approximated using numerical methods. One such numerical method is Heun's method, which is described on page 284 of the book. The time stepping for this method can be described with the two equations below:\n",
        "\n",
        "$\\tilde{u}_{n} = u_{n-1} + sf(u_{n-1}, t_{n-1})$\n",
        "\n",
        "$u_n = u_{n-1} + \\frac{s}{2}[f(t_{n-1}, u_{n-1}) + f(t_n, \\tilde{u}_n)]$\n",
        "\n",
        "Where $s = t_n - t_{n-1}$. $\\tilde{u}_n$ is calculated using forward euler method. $\\tilde{u}_n$ is then used to calculate $u_n$ with the trapetzoidal method. The trapetzoidal method is usually an implicit method, meaning that you need to solve an equation each time step when using it. However, by using euler's method to approximate $u_n$, Heun's method becomes an explicit method.\n",
        "\n",
        "For a code implementation, it helps thinking of the algorithm performing two different steps:\n",
        "1. Predictor step, doing the euler method\n",
        "2. Corrector step, doing the trapetzoidal method\n",
        "\n",
        "For system of initial value problems, we just increase the amount of equations. The method for solving them does not change with Heun's method."
      ]
    },
    {
      "cell_type": "markdown",
      "metadata": {
        "id": "jOQvukXZq5U5"
      },
      "source": [
        "# **Method**"
      ]
    },
    {
      "cell_type": "code",
      "source": [
        "# step size\n",
        "stepSize = 0.01\n",
        "\n",
        "# forwardEuler method for one step\n",
        "def forwardEuler(f, s, t, u0):\n",
        "  return s*f(u0, t)\n",
        "\n",
        "# Heun's method for one step\n",
        "def heunMethod(f, s, t0, u0):\n",
        "  t1 = t0+s\n",
        "  # euler method. Predictor\n",
        "  u1 = u0 + forwardEuler(f, s, t0, u0)\n",
        "\n",
        "  # trapezoidal method. Corrector\n",
        "  u = u0 + trapezoidal_rule(f, t0, t1, u0, u1)\n",
        "\n",
        "  return u\n",
        "\n",
        "# trapezoidal rule\n",
        "def trapezoidal_rule(f, a, b, u0, u1):\n",
        "  x0 = a\n",
        "  x1 = b\n",
        "  w0 = 1/2*(b-a)\n",
        "  w1 = w0\n",
        "  return f(u0, x0)*w0 + f(u1, x1)*w1\n",
        "\n",
        "# initial value problem\n",
        "def IVP(tn, f, u0):\n",
        "  currentVal = u0\n",
        "  for t in np.arange(0, tn, stepSize):\n",
        "    currentVal = heunMethod(f, stepSize, t, currentVal)\n",
        "\n",
        "  return currentVal\n",
        "\n",
        "f = lambda u, t : t*t*t + 1\n",
        "fprim = lambda u, t : 3*t*t\n",
        "fSys = lambda u, t : np.array([-t, t*t])\n",
        "fSysprim = lambda u, t : np.array([-1, 2*t])\n",
        "\n",
        "finalTime = 5\n",
        "initialValue = 1\n",
        "print(\"t0 = 0, tN =\", finalTime, \"; step size =\", stepSize)\n",
        "print(\"Testing scalar initial value problem for u'(t) = 3*t^2 and u0 = 1.\")\n",
        "print(\"Expected value: 126\")\n",
        "print(\"Actual value: \",  IVP(finalTime, fprim, initialValue))\n",
        "print(\" \")\n",
        "print(\"Testing system of initial value problems for u'(t) = [-1, 2*t] and u0 = [1, 1]\")\n",
        "print(\"Expected value: [-4, 26]\")\n",
        "print(\"Actual value: \",  IVP(finalTime, fSysprim, np.array([initialValue, initialValue])))\n",
        "\n"
      ],
      "metadata": {
        "colab": {
          "base_uri": "https://localhost:8080/"
        },
        "id": "W6Vs00hLOx08",
        "outputId": "a3326fff-41d6-4896-cc63-eeb57a9acc17"
      },
      "execution_count": null,
      "outputs": [
        {
          "output_type": "stream",
          "name": "stdout",
          "text": [
            "t0 = 0, tN =  5 ; step size =  0.01\n",
            "Testing scalar initial value problem for u'(t) = 3*t^2 and u0 = 1.\n",
            "Expected value: 126\n",
            "Actual value:  126.00024999999752\n",
            " \n",
            "Testing system of initial value problems for u'(t) = [-1, 2*t] and u0 = [1, 1]\n",
            "Expected value: [-4, 26]\n",
            "Actual value:  [-4. 26.]\n"
          ]
        }
      ]
    },
    {
      "cell_type": "markdown",
      "metadata": {
        "id": "zF4iBj5VURZx"
      },
      "source": [
        "  "
      ]
    },
    {
      "cell_type": "markdown",
      "metadata": {
        "id": "SsQLT38gVbn_"
      },
      "source": [
        "# **Results**"
      ]
    },
    {
      "cell_type": "markdown",
      "metadata": {
        "id": "RLwlnOzuV-Cd"
      },
      "source": [
        "Running the code in the method, we get that heun's method converges to the correct values when solving the initial value problems."
      ]
    },
    {
      "cell_type": "markdown",
      "metadata": {
        "id": "_4GLBv0zWr7m"
      },
      "source": [
        "# **Discussion**"
      ]
    },
    {
      "cell_type": "markdown",
      "metadata": {
        "id": "6bcsDSoRXHZe"
      },
      "source": [
        "The implemented heun's method works as expected for both scalar IVP and systems of IVP."
      ]
    }
  ]
}