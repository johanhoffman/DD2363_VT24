{
  "nbformat": 4,
  "nbformat_minor": 0,
  "metadata": {
    "colab": {
      "provenance": []
    },
    "kernelspec": {
      "name": "python3",
      "display_name": "Python 3"
    }
  },
  "cells": [
    {
      "cell_type": "markdown",
      "metadata": {
        "id": "6RgtXlfYO_i7"
      },
      "source": [
        "# **Lab 1: Matrix Factorization**\n",
        "**Mirja Johnsson**"
      ]
    },
    {
      "cell_type": "markdown",
      "metadata": {
        "id": "9x_J5FVuPzbm"
      },
      "source": [
        "# **Abstract**"
      ]
    },
    {
      "cell_type": "markdown",
      "metadata": {
        "id": "OkT8J7uOWpT3"
      },
      "source": [
        "#**About the code**"
      ]
    },
    {
      "cell_type": "markdown",
      "metadata": {
        "id": "HmB2noTr1Oyo"
      },
      "source": [
        "A short statement on who is the author of the file, and if the code is distributed under a certain license."
      ]
    },
    {
      "cell_type": "code",
      "metadata": {
        "id": "Pdll1Xc9WP0e",
        "colab": {
          "base_uri": "https://localhost:8080/",
          "height": 35
        },
        "outputId": "e3c2f14a-0878-458e-e024-a8a94a669f7c"
      },
      "source": [
        "\"\"\"This program is a template for lab reports in the course\"\"\"\n",
        "\"\"\"DD2363 Methods in Scientific Computing, \"\"\"\n",
        "\"\"\"KTH Royal Institute of Technology, Stockholm, Sweden.\"\"\"\n",
        "\n",
        "# Copyright (C) 2020 Johan Hoffman (jhoffman@kth.se)\n",
        "\n",
        "# This file is part of the course DD2363 Methods in Scientific Computing\n",
        "# KTH Royal Institute of Technology, Stockholm, Sweden\n",
        "#\n",
        "# This is free software: you can redistribute it and/or modify\n",
        "# it under the terms of the GNU Lesser General Public License as published by\n",
        "# the Free Software Foundation, either version 3 of the License, or\n",
        "# (at your option) any later version.\n",
        "\n",
        "# This template is maintained by Johan Hoffman\n",
        "# Please report problems to jhoffman@kth.se"
      ],
      "execution_count": 10,
      "outputs": [
        {
          "output_type": "execute_result",
          "data": {
            "text/plain": [
              "'KTH Royal Institute of Technology, Stockholm, Sweden.'"
            ],
            "application/vnd.google.colaboratory.intrinsic+json": {
              "type": "string"
            }
          },
          "metadata": {},
          "execution_count": 10
        }
      ]
    },
    {
      "cell_type": "markdown",
      "metadata": {
        "id": "28xLGz8JX3Hh"
      },
      "source": [
        "# **Set up environment**"
      ]
    },
    {
      "cell_type": "markdown",
      "metadata": {
        "id": "D2PYNusD08Wa"
      },
      "source": [
        "To have access to the neccessary modules you have to run this cell. If you need additional modules, this is where you add them."
      ]
    },
    {
      "cell_type": "code",
      "metadata": {
        "id": "Xw7VlErAX7NS"
      },
      "source": [
        "import numpy as np"
      ],
      "execution_count": 6,
      "outputs": []
    },
    {
      "cell_type": "markdown",
      "metadata": {
        "id": "gnO3lhAigLev"
      },
      "source": [
        "# **Introduction**"
      ]
    },
    {
      "cell_type": "markdown",
      "metadata": {
        "id": "jOQvukXZq5U5"
      },
      "source": [
        "# **Method**"
      ]
    },
    {
      "cell_type": "markdown",
      "source": [
        "## Assignment 1.1\n",
        "In assignment 1.1 the task is to write a matrix-vector multiplication function that takes as its input a real quatratic matrix M in compressed-sparse-row format, and a vector x, and returns their product.\n",
        "\n",
        "For a future implementation I would change this to handle non-square matrices, but didn't do that now."
      ],
      "metadata": {
        "id": "lphF-fkbj87g"
      }
    },
    {
      "cell_type": "code",
      "source": [
        "#Assignment 1.1\n",
        "# Input: vector x, sparse (real, quadratic) matrix A: CRS arrays val, col_idx, row_ptr\n",
        "#Output: matrix-vector product b=Ax\n",
        "def CSR(row_ptr, col_idx, v, x):\n",
        "  result = np.zeros(x.size, dtype=float)\n",
        "  for i in range(row_ptr.size-1):\n",
        "    r = row_ptr[i+1]-row_ptr[i]\n",
        "    for j in range(r):\n",
        "      result[i] += v[j+i]*x[col_idx[j+i]]\n",
        "  return result\n"
      ],
      "metadata": {
        "id": "n9-zdh7fj4dD"
      },
      "execution_count": 2,
      "outputs": []
    },
    {
      "cell_type": "markdown",
      "source": [
        "## Assignment 1.2\n",
        "I implemented algorithm 5.3 from the course book: Q, R = modified_gram_schmidt_iteration(A):\n",
        "\n",
        "It is specified that the input matrix A will be square and have full rank, so we do not need to verify this in the function. However for the code to be usable in the future it is a good idea to add these checks.\n",
        "\n",
        "For verification I use the frobenius norm from numpy to verify that the solution is close enough to what it should be.\n",
        "\n"
      ],
      "metadata": {
        "id": "9_ddEfZdXqA4"
      }
    },
    {
      "cell_type": "code",
      "source": [
        "# Assigment 1.2\n",
        "# QR-factorization\n",
        "\n",
        "#Input: (real, quadratic, invertible) matrix A\n",
        "#Output: orthogonal matrix Q, upper triangular matrix R, such that A=QR\n",
        "#Test: R upper triangular, Frobenius norms || Q^TQ-I ||_F, || QR-A ||_F\n",
        "\n",
        "#v[:]for the whole column vector v, just write v in python\n",
        "#and A[:,j] for the jth column vector of the matrix A.\n",
        "#Analogously, A[i,:] refers to the ith row vector of A\n",
        "\n",
        "#(Q, R) = modified_gram_schmidt_iteration(A).\n",
        "#Input: a full rank n x n matrix A.\n",
        "#Output: an orthogonal n x n matrix Q and an upper triangular n x n matrix R.\n",
        "def gram_schmidt_modified(A):\n",
        "    m,n = A.shape\n",
        "    if m != n:\n",
        "        #print(\"Matrix must be square\")\n",
        "        raise Exception(\"Matrix must be square\")\n",
        "    if (np.linalg.matrix_rank(A)!= n):\n",
        "        raise Exception(\"Matrix must have full rank\")\n",
        "    Q = np.zeros_like(A, dtype = float)\n",
        "    R = np.zeros_like(A, dtype = float)\n",
        "    #n = A.shape[0]\n",
        "    A = np.copy(A)\n",
        "    #v = np.zeros(n)\n",
        "    for j in range(n):\n",
        "        v = A[:,j]\n",
        "        for i in range(j):\n",
        "            R[i,j] = scalar_product(Q[:,i], v)\n",
        "            v -=  R[i,j]*Q[:,i]\n",
        "        #end for\n",
        "        R[j,j] = np.linalg.norm(v)\n",
        "        Q[:,j] = v/R[j,j]\n",
        "    #end for\n",
        "    return Q, R\n",
        "\n",
        "\n",
        "def scalar_product(v1, v2):\n",
        "    sum = 0\n",
        "    if len(v1) != len(v2):\n",
        "        return None\n",
        "    else:\n",
        "\n",
        "      for i in range(len(v1)):\n",
        "          sum += v1[i] * v2[i]\n",
        "    return sum\n",
        "\n",
        "\n"
      ],
      "metadata": {
        "id": "T7_5lSV5dxyt"
      },
      "execution_count": 3,
      "outputs": []
    },
    {
      "cell_type": "markdown",
      "metadata": {
        "id": "zF4iBj5VURZx"
      },
      "source": [
        "Describe the methods you used to solve the problem. This may be a combination of text, mathematical formulas (Latex), algorithms (code), data and output.  "
      ]
    },
    {
      "cell_type": "markdown",
      "source": [
        "## 1.3\n",
        "For this part of the assignment we are asked to implement a direct solver for Ax = b, where A is a square matrix and x, b are vectors. A and b are given, and the task is to return x.\n",
        "\n",
        "Since we have just found a way to factorize a square matrix we can use this to find A^-1 (A inverse) in order to solve for x.\n",
        "Since A = QR -> Ax = b == QRx = b\n",
        "\n",
        "\n",
        "QRx = b    ->    Rx = Q^-1b   ->    x = R^-1 Q^-1 b    ->\n",
        "\n",
        "\n",
        "x = R^-1 Q^-1 b\n",
        "\n",
        "The inverse of an upper triangular matrix like R can be found by using backward substitution. The inverse of an orthogonal matrix like Q is just its transpose."
      ],
      "metadata": {
        "id": "JCpSTJDJjraE"
      }
    },
    {
      "cell_type": "code",
      "source": [
        "#1.3\n",
        "\n",
        "#ALGORITHM 5.2 from the course book\n",
        "# Input: an upper triangular matrix U and a vector b. Output: the solution x to the equation Ux = b.\n",
        "def backward_substitution(U, b):\n",
        "    x = np.zeros_like(b)\n",
        "    n = len(x)\n",
        "    x[n-1] = b[n-1]/U[n-1,n-1]\n",
        "    for i in range(n-2,-1, -1):\n",
        "        sum = 0\n",
        "        for j in range(i+1, n):\n",
        "            sum = sum + U[i,j]*x[j]\n",
        "        #end for\n",
        "        x[i] = (b[i] - sum)/U[i,i]\n",
        "    #end for\n",
        "    return x\n",
        "\n",
        "def direct_solver(A, b):\n",
        "    Q, R = gram_schmidt_modified(A)\n",
        "    Qinv = np.transpose(Q)\n",
        "    #first multiply b with Q^T since the order of multiplication is non-commutative (generally)\n",
        "    Qinv_b = np.matmul(Qinv, b)\n",
        "    #solve for x via backward substitution\n",
        "    x = backward_substitution(R, Qinv_b)\n",
        "    return x"
      ],
      "metadata": {
        "id": "Y0XSgl_h-rex"
      },
      "execution_count": 4,
      "outputs": []
    },
    {
      "cell_type": "markdown",
      "metadata": {
        "id": "SsQLT38gVbn_"
      },
      "source": [
        "# **Results**"
      ]
    },
    {
      "cell_type": "markdown",
      "metadata": {
        "id": "RLwlnOzuV-Cd"
      },
      "source": [
        "Present the results. If the result is an algorithm that you have described under the *Methods* section, you can present the data from verification and performance tests in this section. If the result is the output from a computational experiment this is where you present a selection of that data."
      ]
    },
    {
      "cell_type": "markdown",
      "source": [
        "# TESTS:\n",
        "####1.1\n",
        "\n",
        "I have constructed a 4x4 matrix in both sparse and full representation. We can see that the result of performing the multiplication with vecotr x gives equivalent results when using my CSR function and when using numpy.dot()"
      ],
      "metadata": {
        "id": "6Qx_XozMlSBX"
      }
    },
    {
      "cell_type": "code",
      "source": [
        "rowp = np.array([0,1,2,3,5])\n",
        "col = np.array([0,1,2,1,3])\n",
        "v = np.array([4,7,13,6,1], dtype = float)\n",
        "x = np.array([1,2,2,1], dtype = float)\n",
        "print(\"The result of the multiplication using CSR: \\n\", CSR(rowp,col,v,x), \"\\n\")\n",
        "fullmatrix = np.array([[4,0,0,0],[0,7,0,0],[0,0,13,0],[0,6,0,1]])\n",
        "print(\"\\n The result of using numpy's matrix multiplication with the spare matrix \\n\", fullmatrix.dot(x), \"\\n\")"
      ],
      "metadata": {
        "colab": {
          "base_uri": "https://localhost:8080/"
        },
        "id": "-ntKIy8llIeG",
        "outputId": "46886820-30b3-4a7c-fbda-7cce35282cbe"
      },
      "execution_count": 7,
      "outputs": [
        {
          "output_type": "stream",
          "name": "stdout",
          "text": [
            "The result of the multiplication using CSR: \n",
            " [ 4. 14. 26. 13.] \n",
            "\n",
            "\n",
            " The result of using numpy's matrix multiplication with the spare matrix \n",
            " [ 4. 14. 26. 13.] \n",
            "\n"
          ]
        }
      ]
    },
    {
      "cell_type": "markdown",
      "source": [
        "#### 1.2\n",
        "To see that R is upper triangular it is enough to run the gram_schmidt algorithm print R, and look at the results.\n",
        "To check the frobenius norms I use numpy's norm library and specify that the Frobenius norm should be used. It's actually the default norms for matrices but it doesn't hurt to be clear.\n",
        "\n"
      ],
      "metadata": {
        "id": "46eEb87ew-Cn"
      }
    },
    {
      "cell_type": "code",
      "source": [
        "#1.2\n",
        "\n",
        "if __name__ == \"__main__\":\n",
        "\n",
        "    A = np.array(([2,-1,1,0],[0,2,1,0], [0,1,3,0], [0,0,0,5]), dtype = float)\n",
        "    #A = np.array(([0,0,0,0],[0,2,1,0], [0,1,3,0], [0,0,1,5]), dtype = float)\n",
        "    Q, R = gram_schmidt_modified(A)\n",
        "    print(\"Q: \\n\", Q, \"\\n\")\n",
        "    print(\"R: \\n\", R, \"\\n\")\n",
        "\n",
        "    #Check QR - A is  0\n",
        "    print(\"[QR] - [A] should be  0\")\n",
        "    print(np.linalg.norm(np.matmul(Q,R)-A , ord = 'fro'), \"\\n\")\n",
        "    #Check Q Q^T -I\n",
        "    print(\"[QQ^T]-I should be very close to 0\")\n",
        "    print(np.linalg.norm(np.matmul(Q,Q.transpose())-np.identity(4), ord = 'fro'))"
      ],
      "metadata": {
        "colab": {
          "base_uri": "https://localhost:8080/"
        },
        "id": "ncQX5M1Rw9SW",
        "outputId": "a56c7581-ca70-4d93-d966-b1810e7d64c4"
      },
      "execution_count": 8,
      "outputs": [
        {
          "output_type": "stream",
          "name": "stdout",
          "text": [
            "Q: \n",
            " [[ 1.          0.          0.          0.        ]\n",
            " [ 0.          0.89442719 -0.4472136   0.        ]\n",
            " [ 0.          0.4472136   0.89442719  0.        ]\n",
            " [ 0.          0.          0.          1.        ]] \n",
            "\n",
            "R: \n",
            " [[ 2.         -1.          1.          0.        ]\n",
            " [ 0.          2.23606798  2.23606798  0.        ]\n",
            " [ 0.          0.          2.23606798  0.        ]\n",
            " [ 0.          0.          0.          5.        ]] \n",
            "\n",
            "[QR] - [A] should be  0\n",
            "0.0 \n",
            "\n",
            "[QQ^T]-I should be very close to 0\n",
            "1.5801635193621484e-16\n"
          ]
        }
      ]
    },
    {
      "cell_type": "code",
      "source": [
        "#1.3\n",
        "if __name__ == \"__main__\":\n",
        "\n",
        "    A = np.array(([2,-1,1,0],[0,2,1,0], [0,1,3,0], [0,0,0,5]), dtype = float)\n",
        "    b = np.array([0.4,2.0,2.0,3.0], dtype = float)\n",
        "    x = direct_solver(A, b)\n",
        "    print(\"A =  \\n\", A, \"\\n\")\n",
        "    print(\"b = \", b, \"\\n\")\n",
        "    print(\"Solved for x: \\n\")\n",
        "    print(\"x = \", x, \"\\n\")\n",
        "\n",
        "\n",
        "    #return\n",
        "    b_test = np.dot(A,x)\n",
        "    print(\"Test to see that we get the original vector b if we multiply A with x \\n\")\n",
        "    print(\"Test : calculated b: \", b_test, \" == original b: \", b)\n",
        ""
      ],
      "metadata": {
        "colab": {
          "base_uri": "https://localhost:8080/"
        },
        "id": "5TcnFnuaLVVM",
        "outputId": "42b8a924-ae87-4c87-a3ed-7f23886a531e"
      },
      "execution_count": 9,
      "outputs": [
        {
          "output_type": "stream",
          "name": "stdout",
          "text": [
            "A =  \n",
            " [[ 2. -1.  1.  0.]\n",
            " [ 0.  2.  1.  0.]\n",
            " [ 0.  1.  3.  0.]\n",
            " [ 0.  0.  0.  5.]] \n",
            "\n",
            "b =  [0.4 2.  2.  3. ] \n",
            "\n",
            "Solved for x: \n",
            "\n",
            "x =  [0.4 0.8 0.4 0.6] \n",
            "\n",
            "Test to see that we get the original vector b if we multiply A with x \n",
            "\n",
            "Test : calculated b:  [0.4 2.  2.  3. ]  == original b:  [0.4 2.  2.  3. ]\n"
          ]
        }
      ]
    },
    {
      "cell_type": "markdown",
      "metadata": {
        "id": "_4GLBv0zWr7m"
      },
      "source": [
        "# **Discussion**"
      ]
    },
    {
      "cell_type": "markdown",
      "metadata": {
        "id": "6bcsDSoRXHZe"
      },
      "source": [
        "Some useful code for linear-algebra applications was implemented in this lab. The code that does this is already available in numpy and scipy and other scientific libraries. However I think it is very valuable for us students to implement them ourselves to get a deeper understanding of what is atually happening."
      ]
    }
  ]
}