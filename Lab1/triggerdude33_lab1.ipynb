{
  "nbformat": 4,
  "nbformat_minor": 0,
  "metadata": {
    "colab": {
      "provenance": []
    },
    "kernelspec": {
      "name": "python3",
      "display_name": "Python 3"
    }
  },
  "cells": [
    {
      "cell_type": "markdown",
      "metadata": {
        "id": "6RgtXlfYO_i7"
      },
      "source": [
        "# **Lab 1: Matrix factorization**\n",
        "**Matteus Berg**"
      ]
    },
    {
      "cell_type": "markdown",
      "metadata": {
        "id": "9x_J5FVuPzbm"
      },
      "source": [
        "# **Abstract**"
      ]
    },
    {
      "cell_type": "markdown",
      "metadata": {
        "id": "6UFTSzW7P8kL"
      },
      "source": [
        "\n",
        "The aim of this lab report was to implement algorithms for\n",
        "* sparse matrix multiplication\n",
        "* gram schmidt $QR$ factorization\n",
        "* solving the matrix equation $Ax = b$\n",
        "\n",
        "To do this, four methods in python were written. Correctness was ensured by testing the implemented methods."
      ]
    },
    {
      "cell_type": "markdown",
      "metadata": {
        "id": "yJipbXtnjrJZ"
      },
      "source": []
    },
    {
      "cell_type": "markdown",
      "metadata": {
        "id": "OkT8J7uOWpT3"
      },
      "source": [
        "#**About the code**"
      ]
    },
    {
      "cell_type": "markdown",
      "metadata": {
        "id": "HmB2noTr1Oyo"
      },
      "source": [
        "A short statement on who is the author of the file, and if the code is distributed under a certain license."
      ]
    },
    {
      "cell_type": "code",
      "metadata": {
        "id": "Pdll1Xc9WP0e",
        "colab": {
          "base_uri": "https://localhost:8080/",
          "height": 38
        },
        "outputId": "c112e2ed-a7d9-4100-ab4f-5eedbd43934f"
      },
      "source": [
        "#\n",
        "# This is free software: you can redistribute it and/or modify\n",
        "# it under the terms of the GNU Lesser General Public License as published by\n",
        "# the Free Software Foundation, either version 3 of the License, or\n",
        "# (at your option) any later version.\n",
        "\n"
      ],
      "execution_count": null,
      "outputs": [
        {
          "output_type": "execute_result",
          "data": {
            "text/plain": [
              "'KTH Royal Institute of Technology, Stockholm, Sweden.'"
            ],
            "application/vnd.google.colaboratory.intrinsic+json": {
              "type": "string"
            }
          },
          "metadata": {},
          "execution_count": 2
        }
      ]
    },
    {
      "cell_type": "code",
      "source": [],
      "metadata": {
        "id": "bTh1cgavH_v7"
      },
      "execution_count": null,
      "outputs": []
    },
    {
      "cell_type": "markdown",
      "metadata": {
        "id": "28xLGz8JX3Hh"
      },
      "source": [
        "# **Set up environment**"
      ]
    },
    {
      "cell_type": "markdown",
      "metadata": {
        "id": "D2PYNusD08Wa"
      },
      "source": [
        "To have access to the neccessary modules you have to run this cell."
      ]
    },
    {
      "cell_type": "code",
      "metadata": {
        "id": "Xw7VlErAX7NS"
      },
      "source": [
        "# Load neccessary modules.\n",
        "from google.colab import files\n",
        "\n",
        "import time\n",
        "import numpy as np\n",
        "\n",
        "\n",
        "from matplotlib import pyplot as plt\n",
        "from matplotlib import tri\n",
        "from matplotlib import axes\n",
        "from mpl_toolkits.mplot3d import Axes3D\n",
        "from scipy.sparse import csr_array"
      ],
      "execution_count": null,
      "outputs": []
    },
    {
      "cell_type": "markdown",
      "metadata": {
        "id": "gnO3lhAigLev"
      },
      "source": [
        "# **Introduction**"
      ]
    },
    {
      "cell_type": "markdown",
      "metadata": {
        "id": "l5zMzgPlRAF6"
      },
      "source": [
        "Today, matricies and vectors lie at the core of describing data for problems in computational science. Many real world problems consists of solving the equation\n",
        "\n",
        "$Ax = b$\n",
        "\n",
        "Where A is a nonsingular $nxn$ matrix, b and x are column vectors of size $n$. $b$ and $A$ are known, $x$ is unknown. To solve this equation, we have to invert $A$ so we get the following expression\n",
        "\n",
        "$x = A^{-1}b$\n",
        "\n",
        "However, for most matricies, inverting them is not a simple task. To make inversion easier, we first have to factor $A$ into matricies that are easy to invert. For this lab, we will use [modified gram-schmidt](https://en.wikipedia.org/wiki/Gram%E2%80%93Schmidt_process) $QR$ factorization.\n",
        "\n",
        "$A = QR$\n",
        "\n",
        "We will use the modified gram-schmidt iteration mentioned on page 89 of the book. This is instead of the regular gram-schmidt, since the regular one is prone to rounding errors when implemented on a computer.\n",
        "\n",
        "Additionally, this lab will implement sparse matrix-vector multiplication. The matrix will be on Compressed Row Format (CRS). Compressing sparse matricies is benefitial for the computational cost. Regular matrix-vector multiplication results in $O(n^2)$ complexity, whereas with sparse methods you get $O(n)$.\n"
      ]
    },
    {
      "cell_type": "markdown",
      "metadata": {
        "id": "jOQvukXZq5U5"
      },
      "source": [
        "# **Method**"
      ]
    },
    {
      "cell_type": "markdown",
      "metadata": {
        "id": "zF4iBj5VURZx"
      },
      "source": [
        "Describe the methods you used to solve the problem. This may be a combination of text, mathematical formulas (Latex), algorithms (code), data and output.  \n",
        "\n"
      ]
    },
    {
      "cell_type": "code",
      "source": [
        "# sparse matrix-vector product\n",
        "def sparse_matrix_vector_product(A: csr_array, x: np.ndarray):\n",
        "  n = A.shape[1]\n",
        "  b = np.zeros(n)\n",
        "  for i in range(n):\n",
        "    for j in range(A.indptr[i], A.indptr[i+1]):\n",
        "      b[i] = b[i] + A.data[j]*x[A.indices[j]]\n",
        "\n",
        "  return b\n",
        "\n",
        "# modified gram schmidt iteration\n",
        "def modified_gram_schmidt_iteration(A):\n",
        "  n = A.shape[0]\n",
        "  R = np.zeros(A.shape);\n",
        "  Q = np.zeros(A.shape);\n",
        "  for j in range(0,n):\n",
        "    v = A[:,j]\n",
        "    for i in range(0, j):\n",
        "      R[i,j] = np.dot(Q[:,i], v)\n",
        "      v = v - R[i,j]*Q[:,i]\n",
        "    R[j,j] = np.linalg.norm(v)\n",
        "    Q[:,j] = v/R[j,j]\n",
        "\n",
        "  return Q, R\n",
        "\n",
        "\n",
        "# Matrix equation solve\n",
        "def matrix_equation_solve(A: np.ndarray, b: np.ndarray):\n",
        "  n = A.shape[0]\n",
        "  x = np.copy(b)\n",
        "  Q, R = modified_gram_schmidt_iteration(A)\n",
        "  Qinv = np.transpose(Q)\n",
        "  x = np.matmul(Qinv, x)\n",
        "  #print(x)\n",
        "  x = backward_substitution(R, x)\n",
        "  #print(x)\n",
        "\n",
        "  return x\n",
        "\n",
        "def backward_substitution(U: np.ndarray, b: np.ndarray):\n",
        "  n = U.shape[0]\n",
        "  x = np.zeros_like(b)\n",
        "  x[n-1] = b[n-1]/U[n-1,n-1]\n",
        "  for i in range(n-2, -1, -1):\n",
        "    sum = 0\n",
        "    for j in range(i+1, n, 1):\n",
        "      sum = sum + U[i,j]*x[j]\n",
        "    x[i] = (b[i] - sum)/U[i,i]\n",
        "\n",
        "  return x\n"
      ],
      "metadata": {
        "id": "y8gmPareyEJ9"
      },
      "execution_count": null,
      "outputs": []
    },
    {
      "cell_type": "markdown",
      "metadata": {
        "id": "SsQLT38gVbn_"
      },
      "source": [
        "# **Results**"
      ]
    },
    {
      "cell_type": "markdown",
      "metadata": {
        "id": "RLwlnOzuV-Cd"
      },
      "source": [
        "Running of the three algorithms is done below. Output is the output of the tests."
      ]
    },
    {
      "cell_type": "code",
      "source": [
        "val = np.array([3, 2, 2, 2, 1, 1, 3, 2, 1, 2, 3]) # data\n",
        "col_idx = np.array([0, 1, 3, 1, 2, 2, 2, 3, 4, 4, 5]) # indices\n",
        "row_ptr = np.array([0, 3, 5, 6, 8, 9, 11]) # indptr\n",
        "A = csr_array((val, col_idx, row_ptr), shape=(6, 6))\n",
        "x = np.array([1, 1, 1, 1, 1, 1])\n",
        "b = sparse_matrix_vector_product(A, x)\n",
        "\n",
        "A2 = [[3,2,0,2,0,0], [0,2,1,0,0,0], [0,0,1,0,0,0], [0,0,3,2,0,0], [0,0,0,0,1,0], [0,0,0,0,2,3]]\n",
        "b2 = np.matmul(A2, x)\n",
        "\n",
        "print(\"Sparse matrix-vector multiplication\")\n",
        "print(\"Sparse matrix multiplication result: \", b)\n",
        "print(\"Dense matrix multiplication result: \", b2)\n",
        "\n",
        "A = np.array([[2,-1], [-1,2]]);\n",
        "Q, R = modified_gram_schmidt_iteration(A)\n",
        "\n",
        "print(\"\\nModified Gram Schmidt iteration\")\n",
        "print(\"Q:\\n\", Q, \"\\nR:\\n\", R)\n",
        "print(\"Frobenius norm Q^TQ-I: \", (np.linalg.norm(np.matmul(np.transpose(Q), Q) - np.identity(2))))\n",
        "print(\"Frobenius norm QR-A \", (np.linalg.norm(np.matmul(Q, R) - A)))\n",
        "\n",
        "A = np.array([[2,-1], [-1,2]]);\n",
        "b = np.array([5,-4])\n",
        "x = matrix_equation_solve(A, b)\n",
        "y = np.array([2, -1])\n",
        "print(\"\\nMatrix equation tests.\")\n",
        "print(\"value of x: \", x)\n",
        "print(\"Matrix equation residual ||Ax-b||: \", np.matmul(A, x) - b)\n",
        "print(\"Matrix equation residual ||x-y|| (b=Ay):\", x - y)"
      ],
      "metadata": {
        "colab": {
          "base_uri": "https://localhost:8080/"
        },
        "id": "VjzrPAsQxewy",
        "outputId": "8f040aa1-a523-4b64-b96d-96250028edd0"
      },
      "execution_count": null,
      "outputs": [
        {
          "output_type": "stream",
          "name": "stdout",
          "text": [
            "Sparse matrix-vector multiplication\n",
            "Sparse matrix multiplication result:  [7. 3. 1. 5. 1. 5.]\n",
            "Dense matrix multiplication result:  [7 3 1 5 1 5]\n",
            "\n",
            "Modified Gram Schmidt iteration\n",
            "Q:\n",
            " [[ 0.89442719  0.4472136 ]\n",
            " [-0.4472136   0.89442719]] \n",
            "R:\n",
            " [[ 2.23606798 -1.78885438]\n",
            " [ 0.          1.34164079]]\n",
            "Frobenius norm Q^TQ-I:  2.6901577681355055e-16\n",
            "Frobenius norm QR-A  0.0\n",
            "\n",
            "Matrix equation tests.\n",
            "value of x:  [ 2. -1.]\n",
            "Matrix equation residual ||Ax-b||:  [-8.8817842e-16 -8.8817842e-16]\n",
            "Matrix equation residual ||x-y|| (b=Ay): [-8.8817842e-16 -8.8817842e-16]\n"
          ]
        }
      ]
    },
    {
      "cell_type": "markdown",
      "metadata": {
        "id": "_4GLBv0zWr7m"
      },
      "source": [
        "# **Discussion**"
      ]
    },
    {
      "cell_type": "markdown",
      "metadata": {
        "id": "6bcsDSoRXHZe"
      },
      "source": [
        "The results give what was expected. The sparse matrix and dense matrix multiplications are identical. The first frobenious norm is almost zero. The reason for it not being zero is probably due to rounding errors. For the matrix equation solver, we get the correct solution for x. The residuals aren't zero, but that is once again due to rounding errors."
      ]
    }
  ]
}
