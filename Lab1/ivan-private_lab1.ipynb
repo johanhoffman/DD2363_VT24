{
  "nbformat": 4,
  "nbformat_minor": 0,
  "metadata": {
    "colab": {
      "provenance": [],
      "include_colab_link": true
    },
    "kernelspec": {
      "name": "python3",
      "display_name": "Python 3"
    }
  },
  "cells": [
    {
      "cell_type": "markdown",
      "metadata": {
        "id": "view-in-github",
        "colab_type": "text"
      },
      "source": [
        "<a href=\"https://colab.research.google.com/github/johanhoffman/DD2363_VT24/blob/ivan-private-Lab1/Lab1/ivan-private_lab1.ipynb\" target=\"_parent\"><img src=\"https://colab.research.google.com/assets/colab-badge.svg\" alt=\"Open In Colab\"/></a>"
      ]
    },
    {
      "cell_type": "markdown",
      "metadata": {
        "id": "6RgtXlfYO_i7"
      },
      "source": [
        "# **Lab 1: Matrix factorization**\n",
        "**Ivan Zivkovic**"
      ]
    },
    {
      "cell_type": "markdown",
      "metadata": {
        "id": "9x_J5FVuPzbm"
      },
      "source": [
        "# **Abstract**"
      ]
    },
    {
      "cell_type": "markdown",
      "metadata": {
        "id": "6UFTSzW7P8kL"
      },
      "source": [
        "\n",
        "\n",
        "```\n",
        "# This is formatted as code\n",
        "```\n",
        "\n",
        "Short summary of the lab report. State the objectives, methods used, main results and conlusions."
      ]
    },
    {
      "cell_type": "markdown",
      "metadata": {
        "id": "yJipbXtnjrJZ"
      },
      "source": []
    },
    {
      "cell_type": "markdown",
      "metadata": {
        "id": "OkT8J7uOWpT3"
      },
      "source": [
        "#**About the code**"
      ]
    },
    {
      "cell_type": "markdown",
      "metadata": {
        "id": "HmB2noTr1Oyo"
      },
      "source": [
        "A short statement on who is the author of the file, and if the code is distributed under a certain license."
      ]
    },
    {
      "cell_type": "code",
      "metadata": {
        "id": "Pdll1Xc9WP0e",
        "colab": {
          "base_uri": "https://localhost:8080/",
          "height": 35
        },
        "outputId": "a790b00c-cbec-47f1-9059-e0be7f88ff5d"
      },
      "source": [
        "\"\"\"This program is a template for lab reports in the course\"\"\"\n",
        "\"\"\"DD2363 Methods in Scientific Computing, \"\"\"\n",
        "\"\"\"KTH Royal Institute of Technology, Stockholm, Sweden.\"\"\"\n",
        "\n",
        "# Copyright (C) 2020 Johan Hoffman (jhoffman@kth.se)\n",
        "\n",
        "# This file is part of the course DD2365 Advanced Computation in Fluid Mechanics\n",
        "# KTH Royal Institute of Technology, Stockholm, Sweden\n",
        "#\n",
        "# This is free software: you can redistribute it and/or modify\n",
        "# it under the terms of the GNU Lesser General Public License as published by\n",
        "# the Free Software Foundation, either version 3 of the License, or\n",
        "# (at your option) any later version.\n",
        "\n",
        "# This template is maintained by Johan Hoffman\n",
        "# Please report problems to jhoffman@kth.se"
      ],
      "execution_count": 1,
      "outputs": [
        {
          "output_type": "execute_result",
          "data": {
            "text/plain": [
              "'KTH Royal Institute of Technology, Stockholm, Sweden.'"
            ],
            "application/vnd.google.colaboratory.intrinsic+json": {
              "type": "string"
            }
          },
          "metadata": {},
          "execution_count": 1
        }
      ]
    },
    {
      "cell_type": "markdown",
      "metadata": {
        "id": "28xLGz8JX3Hh"
      },
      "source": [
        "# **Set up environment**"
      ]
    },
    {
      "cell_type": "markdown",
      "metadata": {
        "id": "D2PYNusD08Wa"
      },
      "source": [
        "To have access to the neccessary modules you have to run this cell. If you need additional modules, this is where you add them."
      ]
    },
    {
      "cell_type": "code",
      "metadata": {
        "id": "Xw7VlErAX7NS"
      },
      "source": [
        "# Load neccessary modules.\n",
        "from google.colab import files\n",
        "\n",
        "import time\n",
        "import numpy as np\n",
        "\n",
        "#try:\n",
        "#    from dolfin import *; from mshr import *\n",
        "#except ImportError as e:\n",
        "#    !apt-get install -y -qq software-properties-common\n",
        "#    !add-apt-repository -y ppa:fenics-packages/fenics\n",
        "#    !apt-get update -qq\n",
        "#    !apt install -y --no-install-recommends fenics\n",
        "#    from dolfin import *; from mshr import *\n",
        "\n",
        "#import dolfin.common.plotting as fenicsplot\n",
        "\n",
        "from matplotlib import pyplot as plt\n",
        "from matplotlib import tri\n",
        "from matplotlib import axes\n",
        "from mpl_toolkits.mplot3d import Axes3D"
      ],
      "execution_count": 2,
      "outputs": []
    },
    {
      "cell_type": "markdown",
      "metadata": {
        "id": "gnO3lhAigLev"
      },
      "source": [
        "# **Introduction**"
      ]
    },
    {
      "cell_type": "markdown",
      "metadata": {
        "id": "l5zMzgPlRAF6"
      },
      "source": [
        "Give a short description of the problem investigated in the report, and provide some background information so that the reader can understand the context. If appropriate, include a discussion on the state of the art.\n",
        "\n",
        "Briefly describe what method you have chosen to solve the problem, and justify why you selected that method.\n",
        "\n",
        "Here you can express mathematics through Latex syntax, and use hyperlinks for references.\n",
        "\n",
        "[Hyperlink to DD2363 course website.](https://kth.instructure.com/courses/17068)\n",
        "\n",
        "$\n",
        "{\\displaystyle \\frac{\\partial u}{\\partial t}} + u\\cdot \\nabla u +\\nabla p = f, \\quad \\nabla \\cdot u=0$\n",
        "\n"
      ]
    },
    {
      "cell_type": "markdown",
      "metadata": {
        "id": "jOQvukXZq5U5"
      },
      "source": [
        "# **Method**"
      ]
    },
    {
      "cell_type": "markdown",
      "metadata": {
        "id": "zF4iBj5VURZx"
      },
      "source": [
        "Describe the methods you used to solve the problem. This may be a combination of text, mathematical formulas (Latex), algorithms (code), data and output.  "
      ]
    },
    {
      "cell_type": "markdown",
      "source": [
        "## **Sparse matrix-vector product**"
      ],
      "metadata": {
        "id": "eONxFKymDTDt"
      }
    },
    {
      "cell_type": "code",
      "source": [
        "class SparseMatrix:\n",
        "    '''\n",
        "        :param A: dense matrix of shape (m, n)\n",
        "        :return SparseMatrix\n",
        "    '''\n",
        "    def __init__(self, A: np.ndarray):\n",
        "        m, n = A.shape\n",
        "        val = []\n",
        "        col_idx = []\n",
        "        row_ptr = []\n",
        "        for i in range(m):\n",
        "            for j in range(n):\n",
        "                if A[i, j] != 0:\n",
        "                    if len(row_ptr) == i:\n",
        "                        row_ptr.append(len(val))\n",
        "                    val.append(A[i, j])\n",
        "                    col_idx.append(j)\n",
        "\n",
        "        row_ptr.append(len(val))\n",
        "        self.val = np.array(val)\n",
        "        self.col_idx = np.array(col_idx)\n",
        "        self.row_ptr = np.array(row_ptr)\n",
        "\n",
        "\n",
        "def sparse_matrix_vector_product(A: SparseMatrix, x: np.ndarray):\n",
        "    n = x.shape[0]\n",
        "    b = np.zeros((n,))\n",
        "\n",
        "    for i in range(n):\n",
        "        for j in range(A.row_ptr[i], A.row_ptr[i+1]):\n",
        "            b[i] = b[i] + A.val[j] * x[A.col_idx[j]]\n",
        "\n",
        "    return b"
      ],
      "metadata": {
        "id": "hwwxa7EqD7zu"
      },
      "execution_count": 3,
      "outputs": []
    },
    {
      "cell_type": "markdown",
      "source": [
        "## **QR factorization**"
      ],
      "metadata": {
        "id": "t7UAsWfBDYgV"
      }
    },
    {
      "cell_type": "code",
      "source": [
        "def modified_gram_schmidt_QR_factorization(A: np.ndarray) -> (np.ndarray, np.ndarray):\n",
        "    _, n = A.shape\n",
        "    Q = np.zeros((n, n))\n",
        "    R = np.zeros((n, n))\n",
        "\n",
        "\n",
        "    for j in range(n):\n",
        "        v = A[:, j]\n",
        "\n",
        "        for i in range(j):\n",
        "            R[i, j] = Q[:, i].T @ v\n",
        "            v = v - R[i, j] * Q[:, i]\n",
        "\n",
        "        R[j, j] = np.sqrt(v.T @ v) #norm of v\n",
        "\n",
        "        Q[:, j] = v / R[j, j]\n",
        "\n",
        "    return Q, R"
      ],
      "metadata": {
        "id": "0SyItsDBEP9q"
      },
      "execution_count": 4,
      "outputs": []
    },
    {
      "cell_type": "markdown",
      "source": [
        "## **Direct solver Ax=b**"
      ],
      "metadata": {
        "id": "yhoBdK59Dc5T"
      }
    },
    {
      "cell_type": "code",
      "source": [
        "def backwards_substitution(R: np.ndarray, b: np.ndarray) -> np.ndarray:\n",
        "    # backwards substitution algorithm\n",
        "    _, n = R.shape\n",
        "    x = np.zeros(n)\n",
        "    x[n-1] = b[n-1] / R[(n-1, n-1)]\n",
        "    for i in range(n-2, -1, -1):\n",
        "        x[i] = b[i]\n",
        "        for j in range(i+1, n):\n",
        "            x[i] = x[i] - R[i, j] * x[j]\n",
        "        x[i] = x[i] / R[i, i]\n",
        "\n",
        "    return x\n",
        "\n",
        "def direct_solver(A: np.ndarray, b: np.ndarray) -> np.ndarray:\n",
        "\n",
        "    Q, R = modified_gram_schmidt_QR_factorization(A)\n",
        "\n",
        "    # Q.T = Q^-1 since Q is orthogonal\n",
        "    return backwards_substitution(R, Q.T @ b)"
      ],
      "metadata": {
        "id": "v5oD-fx7EahR"
      },
      "execution_count": 5,
      "outputs": []
    },
    {
      "cell_type": "markdown",
      "source": [
        "## **QR eigenvalue algorithm**"
      ],
      "metadata": {
        "id": "QzB9yYaJDwTI"
      }
    },
    {
      "cell_type": "code",
      "source": [
        "def rayleigh_quotient(A: np.ndarray, x: np.ndarray) -> float:\n",
        "    return (x.T @ (A @ x)) / (x.T @ x)\n",
        "\n",
        "\n",
        "def qr_algorithm(A: np.ndarray, k: int) -> Tuple[np.ndarray, np.ndarray]:\n",
        "    n = A.shape[0]\n",
        "    U = np.identity(n)\n",
        "\n",
        "\n",
        "    for i in range(k):\n",
        "        Q, R = modified_gram_schmidt_QR_factorization(A)\n",
        "        A = R @ Q\n",
        "        U = U @ Q\n",
        "\n",
        "    return A, U\n"
      ],
      "metadata": {
        "id": "NTGUHn1OEd2N"
      },
      "execution_count": 6,
      "outputs": []
    },
    {
      "cell_type": "markdown",
      "metadata": {
        "id": "SsQLT38gVbn_"
      },
      "source": [
        "\n",
        "\n",
        "```\n",
        "# Detta formeras som kod\n",
        "```\n",
        "\n",
        "# **Results**"
      ]
    },
    {
      "cell_type": "markdown",
      "metadata": {
        "id": "RLwlnOzuV-Cd"
      },
      "source": [
        "Present the results. If the result is an algorithm that you have described under the *Methods* section, you can present the data from verification and performance tests in this section. If the result is the output from a computational experiment this is where you present a selection of that data."
      ]
    },
    {
      "cell_type": "markdown",
      "source": [
        "## **Sparse matrix-vector product**"
      ],
      "metadata": {
        "id": "77mpJZUDEpXy"
      }
    },
    {
      "cell_type": "code",
      "source": [
        "n = 6\n",
        "A = np.random.randint(0, 10, size=(n,n))\n",
        "x = np.random.randint(0, 10, size=(n,))\n",
        "sparse_A = SparseMatrix(A)\n",
        "\n",
        "# Test 1\n",
        "Ax = A @ x\n",
        "sparse_Ax = sparse_matrix_vector_product(sparse_A, x)\n",
        "diff = np.linalg.norm(Ax - sparse_Ax)\n",
        "\n",
        "print(f\"A:\\n{A}\")\n",
        "print(f\"x: {x}\")\n",
        "print(f\"Ax: {Ax}\")\n",
        "print(f\"sparse_Ax: {sparse_Ax}\")\n",
        "print(f\"norm of difference: {diff}\")"
      ],
      "metadata": {
        "colab": {
          "base_uri": "https://localhost:8080/"
        },
        "id": "rjOaGUtrFb01",
        "outputId": "8a8dccee-bd75-4524-a7f2-0891bd599c3a"
      },
      "execution_count": 7,
      "outputs": [
        {
          "output_type": "stream",
          "name": "stdout",
          "text": [
            "A:\n",
            "[[7 4 6 7 0 3]\n",
            " [0 9 2 8 5 3]\n",
            " [8 9 1 5 7 0]\n",
            " [8 3 1 5 6 9]\n",
            " [0 9 1 5 6 4]\n",
            " [4 3 6 6 5 6]]\n",
            "x: [9 0 7 2 1 5]\n",
            "Ax: [134  50  96 140  43 125]\n",
            "sparse_Ax: [134.  50.  96. 140.  43. 125.]\n",
            "norm of difference: 0.0\n"
          ]
        }
      ]
    },
    {
      "cell_type": "markdown",
      "source": [
        "## **QR factorization**"
      ],
      "metadata": {
        "id": "vCajXVOmEtYX"
      }
    },
    {
      "cell_type": "code",
      "source": [
        "def TEST_modified_gram_schmidt_QR_factorization():\n",
        "    A = np.array( [[2, -1],\n",
        "               [-1, 2]] )\n",
        "\n",
        "    _, n = A.shape\n",
        "    assert A.shape == (n, n)\n",
        "\n",
        "    Q, R = modified_gram_schmidt_QR_factorization(A)\n",
        "\n",
        "    # test 1\n",
        "    assert np.allclose(R, np.triu(R))\n",
        "\n",
        "    # test 2\n",
        "    assert np.allclose(Q.T @ Q, np.identity(n))\n",
        "\n",
        "    # test 3\n",
        "    assert np.allclose(A, Q @ R)\n",
        "\n",
        "\n",
        "\n",
        "TEST_modified_gram_schmidt_QR_factorization() #throws assertion error if any testcase did not pass\n",
        "print(\"All tests passed\")"
      ],
      "metadata": {
        "colab": {
          "base_uri": "https://localhost:8080/"
        },
        "id": "c5tJw4L-FlHt",
        "outputId": "307bbe9a-e65d-4bbd-d173-a48f0da5d75a"
      },
      "execution_count": 8,
      "outputs": [
        {
          "output_type": "stream",
          "name": "stdout",
          "text": [
            "All tests passed\n"
          ]
        }
      ]
    },
    {
      "cell_type": "markdown",
      "source": [
        "## **Direct solver Ax=b**"
      ],
      "metadata": {
        "id": "eBhXoRFFEvJu"
      }
    },
    {
      "cell_type": "code",
      "source": [
        "def TEST_direct_solver():\n",
        "    A = np.array( [[2, -1],\n",
        "               [-1, 2]] )\n",
        "\n",
        "    b = np.array( [1, 0] )\n",
        "\n",
        "    TEST_modified_gram_schmidt_QR_factorization()\n",
        "\n",
        "    _, n = A.shape\n",
        "    assert A.shape == (n, n)\n",
        "    assert b.shape == (n, )\n",
        "\n",
        "    x = direct_solver(A, b)\n",
        "    assert x.shape == (n, )\n",
        "\n",
        "    # test 1\n",
        "    assert np.allclose(A @ x, b)\n",
        "\n",
        "    # test 2\n",
        "    y = np.array( [5, 7] )\n",
        "    b = A @ y\n",
        "    x = direct_solver(A, b)\n",
        "    assert np.allclose(x, y)\n",
        "\n",
        "\n",
        "TEST_direct_solver() #throws assertion error if any testcase did not pass\n",
        "print(\"All tests passed\")"
      ],
      "metadata": {
        "colab": {
          "base_uri": "https://localhost:8080/"
        },
        "id": "XiHPmKRBFn3E",
        "outputId": "6bd67d10-1e36-44b6-ca85-1a169a0b774e"
      },
      "execution_count": 9,
      "outputs": [
        {
          "output_type": "stream",
          "name": "stdout",
          "text": [
            "All tests passed\n"
          ]
        }
      ]
    },
    {
      "cell_type": "markdown",
      "source": [
        "## **QR eigenvalue algorithm**"
      ],
      "metadata": {
        "id": "rfJ7CXNhExwa"
      }
    },
    {
      "cell_type": "code",
      "source": [
        "# Test 1\n",
        "n = 3\n",
        "A = np.random.randint(0, 10, size=(n, n)) #TODO, check if qr_algorithm works for any square matrix\n",
        "\n",
        "A2, U = qr_algorithm(A, 1000)\n",
        "\n",
        "print(\"Test 1\")\n",
        "for i in range(n):\n",
        "    lambda_i = A2[i, i]\n",
        "    det = np.linalg.det(A - (lambda_i * np.identity(n)))\n",
        "    print(f\"det(A - lambda_{i+1} * I) = {det}\")\n",
        "\n",
        "print(\"\\nTest 2\")\n",
        "for i in range(n):\n",
        "    lambda_i = A2[i, i]\n",
        "    v_i = U[:, i]\n",
        "    norm = np.linalg.norm(A @ v_i - lambda_i * v_i)\n",
        "    print(f\"||A * v_{i+1} - lambda_{i+1} * v_{i+1}|| = {norm}\")\n"
      ],
      "metadata": {
        "colab": {
          "base_uri": "https://localhost:8080/"
        },
        "id": "-YSI6LQ_Fqic",
        "outputId": "12c07ee3-74e3-4c72-a881-7d48fe9d23e8"
      },
      "execution_count": 10,
      "outputs": [
        {
          "output_type": "stream",
          "name": "stdout",
          "text": [
            "Test 1\n",
            "det(A - lambda_1 * I) = -3.6914743172244234e-13\n",
            "det(A - lambda_2 * I) = -4.0865660294043553e-14\n",
            "det(A - lambda_3 * I) = 1.4032109348778375e-30\n",
            "\n",
            "Test 2\n",
            "||A * v_1 - lambda_1 * v_1|| = 9.607118501968132e-15\n",
            "||A * v_2 - lambda_2 * v_2|| = 3.000000000000002\n",
            "||A * v_3 - lambda_3 * v_3|| = 12.27057756846608\n"
          ]
        }
      ]
    },
    {
      "cell_type": "markdown",
      "metadata": {
        "id": "_4GLBv0zWr7m"
      },
      "source": [
        "# **Discussion**"
      ]
    },
    {
      "cell_type": "markdown",
      "metadata": {
        "id": "6bcsDSoRXHZe"
      },
      "source": [
        "Summarize your results and your conclusions. Were the results expected or surprising. Do your results have implications outside the particular problem investigated in this report?"
      ]
    }
  ]
}