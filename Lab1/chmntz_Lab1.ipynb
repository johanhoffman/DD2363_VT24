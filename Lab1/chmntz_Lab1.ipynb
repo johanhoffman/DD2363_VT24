{
  "nbformat": 4,
  "nbformat_minor": 0,
  "metadata": {
    "colab": {
      "provenance": [],
      "authorship_tag": "ABX9TyNbJ3GRocAT5iCl46mQ7WHN",
      "include_colab_link": true
    },
    "kernelspec": {
      "name": "python3",
      "display_name": "Python 3"
    },
    "language_info": {
      "name": "python"
    }
  },
  "cells": [
    {
      "cell_type": "markdown",
      "metadata": {
        "id": "view-in-github",
        "colab_type": "text"
      },
      "source": [
        "<a href=\"https://colab.research.google.com/github/johanhoffman/DD2363_VT24/blob/chmntz_Lab1/Lab1/chmntz_Lab1.ipynb\" target=\"_parent\"><img src=\"https://colab.research.google.com/assets/colab-badge.svg\" alt=\"Open In Colab\"/></a>"
      ]
    },
    {
      "cell_type": "markdown",
      "source": [
        "# **Lab 1: Matrix factorization**\n",
        "Carl **Chemnitz**"
      ],
      "metadata": {
        "id": "oHNEQeeSy-pd"
      }
    },
    {
      "cell_type": "markdown",
      "source": [
        "# **Abstract**\n"
      ],
      "metadata": {
        "id": "8Ix_n1wjzyFd"
      }
    },
    {
      "cell_type": "markdown",
      "source": [
        "# **Set up environment**\n",
        "To have access to the neccessary modules you have to run this cell."
      ],
      "metadata": {
        "id": "NMtD_A1-0M5E"
      }
    },
    {
      "cell_type": "code",
      "source": [
        "from google.colab import files\n",
        "\n",
        "import numpy as np\n",
        "import scipy.sparse\n",
        "import math"
      ],
      "metadata": {
        "id": "42WdEwvr0yWu"
      },
      "execution_count": 310,
      "outputs": []
    },
    {
      "cell_type": "markdown",
      "source": [
        "# **Introduction**\n",
        "\n",
        "## **Mandatory assignment**\n",
        "1. Function: **sparse matrix-vector product**\n",
        "**Input**: vector $x$, sparse (real, quadratic) matrix $A$: CRS arrays val, col_idx, row_ptr.\\\n",
        "**Output**: matrix-vector product $b=Ax$.\\\n",
        "**Test**: verify accuracy against dense matrix-vector product.\n",
        "\n",
        "2. Function: QR factorization\n",
        "**Input**: (real, quadratic, invertible) matrix $A$.\\\n",
        "**Output**: orthogonal matrix $Q$, upper traingular matrix $R$, such that $A=QR$.\\\n",
        "**Test**: $R$ upper traingular, Forbenius norms $||Q^TQ-I||_F$, $||QR-A||_F$.\n",
        "\n",
        "3. Function: direct solver $Ax=b$\n",
        "**Input**: (real, quadratic) matrix $A$, vector $b$.\\\n",
        "**Output**: vector $x=A^{-1}b$.\\\n",
        "**Test**: residual $||Ax-b||$, and $||x-y||$ where $y$ is a manufactured solution $b=Ay$.\\"
      ],
      "metadata": {
        "id": "Q2EhuZ111cMp"
      }
    },
    {
      "cell_type": "markdown",
      "source": [
        "# **Method**\n",
        "The implementation of each assignment."
      ],
      "metadata": {
        "id": "QOxdR6NS6cBc"
      }
    },
    {
      "cell_type": "markdown",
      "source": [
        "## Sparse matrix-vector product\n",
        "A sparse matrix is a matrix were most of its elements are zero. To optimize memory and efficiency of matrix-vector multiplication, *compressed row storage* data structures can be used. It consists of three arrays.\n",
        "* `val`, the non-zero values.\n",
        "* `col_idx`, their respective column indices.\n",
        "* `row_ptr`, pointers to the start of each row.\n",
        "\n",
        "`sparse_matrix_vector_product` was implemented based on algorithm **5.9** from Chapter 5 of Methods in Computational Science, and adjusted to 0-indexing."
      ],
      "metadata": {
        "id": "seSgHU_s6oB5"
      }
    },
    {
      "cell_type": "code",
      "source": [
        "def sparse_matrix_vector_product (val, col_idx, row_ptr, x) -> np.array:\n",
        "    b = np.zeros(len(row_ptr)-1)\n",
        "    for i in range(len(row_ptr)-1):\n",
        "        for j in range(row_ptr[i], row_ptr[i+1]):\n",
        "            b[i] += val[j] * x[col_idx[j]]\n",
        "    return b\n"
      ],
      "metadata": {
        "id": "9EV4DX6j-m37"
      },
      "execution_count": 311,
      "outputs": []
    },
    {
      "cell_type": "markdown",
      "source": [
        "The standard (dense) matrix-vector multiplication algorithm was implemented based on algorithm **3.2** from Chapter 3 of Methods in Computational Science."
      ],
      "metadata": {
        "id": "A-sdRRAukA2b"
      }
    },
    {
      "cell_type": "code",
      "source": [
        "def matrix_vector_product (A, x) -> np.array:\n",
        "    b = np.zeros(len(x))\n",
        "    for i in range(0, len(A[:,0])):\n",
        "        for j in range(0, len(x)):\n",
        "            b[i] += A[i,j] * x[j]\n",
        "    return b"
      ],
      "metadata": {
        "id": "s4eW_VMPV_JV"
      },
      "execution_count": 312,
      "outputs": []
    },
    {
      "cell_type": "markdown",
      "source": [
        "Random sparse matrices and vectors were constructed and multiplied using `sparse_matrix_vector_product` and `matrix_vector_product`, and then compared."
      ],
      "metadata": {
        "id": "H298EchgwDwU"
      }
    },
    {
      "cell_type": "code",
      "source": [
        "for i in range(5):\n",
        "    A = scipy.sparse.random(i+5, i+5, density=0.3, format='csr')\n",
        "    x = np.random.rand(i+5)\n",
        "\n",
        "    sparse_b = sparse_matrix_vector_product(A.data, A.indices, A.indptr, x)\n",
        "    dense_b = matrix_vector_product(A.todense(), x)\n",
        "    print(f\"Test {i},   Verification {'success' if (dense_b == sparse_b).all() else 'failure'}\")\n"
      ],
      "metadata": {
        "colab": {
          "base_uri": "https://localhost:8080/"
        },
        "id": "ZnrKpvMklIzH",
        "outputId": "e13fcf38-6154-4517-8c13-ccfad8eece7d"
      },
      "execution_count": 313,
      "outputs": [
        {
          "output_type": "stream",
          "name": "stdout",
          "text": [
            "Test 0,   Verification success\n",
            "Test 1,   Verification success\n",
            "Test 2,   Verification success\n",
            "Test 3,   Verification success\n",
            "Test 4,   Verification success\n"
          ]
        }
      ]
    },
    {
      "cell_type": "markdown",
      "source": [
        "## QR factorization"
      ],
      "metadata": {
        "id": "9bqRyWgNwg0N"
      }
    }
  ]
}