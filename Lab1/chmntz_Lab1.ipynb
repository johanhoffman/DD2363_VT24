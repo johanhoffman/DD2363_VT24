{
  "nbformat": 4,
  "nbformat_minor": 0,
  "metadata": {
    "colab": {
      "provenance": [],
      "toc_visible": true,
      "authorship_tag": "ABX9TyNekaRvUcQNH5yEp+AmYkfk",
      "include_colab_link": true
    },
    "kernelspec": {
      "name": "python3",
      "display_name": "Python 3"
    },
    "language_info": {
      "name": "python"
    }
  },
  "cells": [
    {
      "cell_type": "markdown",
      "metadata": {
        "id": "view-in-github",
        "colab_type": "text"
      },
      "source": [
        "<a href=\"https://colab.research.google.com/github/johanhoffman/DD2363_VT24/blob/chmntz_Lab1/Lab1/chmntz_Lab1.ipynb\" target=\"_parent\"><img src=\"https://colab.research.google.com/assets/colab-badge.svg\" alt=\"Open In Colab\"/></a>"
      ]
    },
    {
      "cell_type": "markdown",
      "source": [
        "# **Lab 1: Matrix factorization**\n",
        "Carl **Chemnitz**"
      ],
      "metadata": {
        "id": "oHNEQeeSy-pd"
      }
    },
    {
      "cell_type": "markdown",
      "source": [
        "# **Abstract**\n",
        "In this lab, 4 techniques and methods of solving systems of linear equations were implemented in Python along with tests to verify their accuracy.\n",
        "\n",
        "The methods implemented were *sparse matrix multiplication*, *modfied Gram-Schmidt QR factorization*, *direct solver using backward substitution* and *least square*.\n",
        "\n",
        "All methods performed according to expectation."
      ],
      "metadata": {
        "id": "8Ix_n1wjzyFd"
      }
    },
    {
      "cell_type": "markdown",
      "source": [
        "# **Set up environment**\n",
        "To have access to the neccessary modules you have to run this cell."
      ],
      "metadata": {
        "id": "NMtD_A1-0M5E"
      }
    },
    {
      "cell_type": "code",
      "source": [
        "from google.colab import files\n",
        "\n",
        "import numpy as np\n",
        "import scipy.sparse\n",
        "import random as rd\n",
        "import matplotlib.pyplot as plt"
      ],
      "metadata": {
        "id": "42WdEwvr0yWu"
      },
      "execution_count": 140,
      "outputs": []
    },
    {
      "cell_type": "markdown",
      "source": [
        "# **Introduction**\n",
        "This lab puts focus on understanding and implementing various techniques and methods for solving systems of linear equations in the form of $Ax=b$. Specifically, direct solution methods, based on factorization of $A$ into product of matrices that are more optimized to handle (invert).\n",
        "\n",
        "$Ax=b$ is simply solved by inverting $A$, yielding $x=A^{-1}b$. However, not all matrices are easy to invert, which is why direct methods factorizes $A$ into product matrices that are more easily invertable, such as orthogonal, triangular and diagonal matrices.\n",
        "\n",
        "Gram-Schmidt QR factorization is one technique of factorizing a square matrix $A$ into an orthogonal matrix product $Q$ and an upper triangular matrix product $R$. These product matrices are more easily invertable. In this lab, a modified version of Gram-Schmidt was implemented to avoid accumulate round-off errors.\n",
        "\n",
        "Some matrices are considered *sparse*, consisting of mostly $0$s. To avoid wasting computational power when operating such matrices, sparse matrix algorithm can be used. In this lab, a data structure named  *compressed row storage* is used as it stores the nonzero components in a much more compressed and efficient mannar than regular matrices.\n",
        "\n",
        "There are some systems of linear equations that have inconsistent solution, i.e. no solutions. Examples could be recorded data. A fitted solution could be constructed by minimizing the errors. This technique is called least-squares.\n",
        "\n",
        "## **Mandatory assignment**\n",
        "\n",
        "\n",
        "1. Function: **sparse matrix-vector product**\n",
        "\n",
        "**Input**: vector $x$, sparse (real, quadratic) matrix $A$: CRS arrays val, col_idx, row_ptr.\\\n",
        "**Output**: matrix-vector product $b=Ax$.\\\n",
        "**Test**: verify accuracy against dense matrix-vector product.\n",
        "\n",
        "\n",
        "\n",
        "2. Function: QR factorization\n",
        "\n",
        "**Input**: (real, quadratic, invertible) matrix $A$.\\\n",
        "**Output**: orthogonal matrix $Q$, upper traingular matrix $R$, such that $A=QR$.\\\n",
        "**Test**: $R$ upper traingular, Forbenius norms $||Q^TQ-I||_F$, $||QR-A||_F$.\n",
        "\n",
        "\n",
        "\n",
        "3. Function: direct solver $Ax=b$\n",
        "\n",
        "\n",
        "\n",
        "**Input**: (real, quadratic) matrix $A$, vector $b$.\\\n",
        "**Output**: vector $x=A^{-1}b$.\\\n",
        "**Test**: residual $||Ax-b||$, and $||x-y||$ where $y$ is a manufactured solution $b=Ay$.\n",
        "\n",
        "## **Extra assignment**\n",
        "4. Function: **least squares problem $Ax=b$**\n",
        "**Input**: rectangular matrix $A$, vector $b$.\\\n",
        "**Output**: vector $x$.\\\n",
        "**Test**: residual $||Ax-b||$."
      ],
      "metadata": {
        "id": "Q2EhuZ111cMp"
      }
    },
    {
      "cell_type": "markdown",
      "source": [
        "# **Method**\n",
        "The implementation of each assignment."
      ],
      "metadata": {
        "id": "QOxdR6NS6cBc"
      }
    },
    {
      "cell_type": "markdown",
      "source": [
        "## Sparse matrix-vector product\n",
        "A sparse matrix is a matrix were most of its elements are zero. To optimize memory and efficiency of matrix-vector multiplication, *compressed row storage* data structures can be used. It consists of three arrays.\n",
        "* `val`, the non-zero values.\n",
        "* `col_idx`, their respective column indices.\n",
        "* `row_ptr`, pointers to the start of each row.\n",
        "\n",
        "`sparse_matrix_vector_product` was implemented based on algorithm **5.9** from Chapter 5 of Methods in Computational Science, and adjusted to 0-indexing."
      ],
      "metadata": {
        "id": "seSgHU_s6oB5"
      }
    },
    {
      "cell_type": "code",
      "source": [
        "def sparse_matrix_vector_product (val, col_idx, row_ptr, x) -> np.array:\n",
        "    b = np.zeros(len(row_ptr)-1)\n",
        "    for i in range(len(row_ptr)-1):\n",
        "        for j in range(row_ptr[i], row_ptr[i+1]):\n",
        "            b[i] += val[j] * x[col_idx[j]]\n",
        "    return b\n"
      ],
      "metadata": {
        "id": "9EV4DX6j-m37"
      },
      "execution_count": 141,
      "outputs": []
    },
    {
      "cell_type": "markdown",
      "source": [
        "The standard (dense) matrix-vector multiplication algorithm was implemented based on algorithm **3.2** from Chapter 3 of Methods in Computational Science."
      ],
      "metadata": {
        "id": "A-sdRRAukA2b"
      }
    },
    {
      "cell_type": "code",
      "source": [
        "def matrix_vector_product (A, x) -> np.array:\n",
        "    n = len(x)\n",
        "    b = np.zeros(n)\n",
        "\n",
        "    for i in range(len(A[:,0])):\n",
        "        for j in range(0, n):\n",
        "            b[i] += A[i,j] * x[j]\n",
        "    return b"
      ],
      "metadata": {
        "id": "s4eW_VMPV_JV"
      },
      "execution_count": 142,
      "outputs": []
    },
    {
      "cell_type": "markdown",
      "source": [
        "Random sparse matrices and vectors were constructed and multiplied using `sparse_matrix_vector_product` and `matrix_vector_product`, and then compared."
      ],
      "metadata": {
        "id": "H298EchgwDwU"
      }
    },
    {
      "cell_type": "code",
      "source": [
        "for i in range(5):\n",
        "    A = scipy.sparse.random(i+5, i+5, density=0.3, format='csr')\n",
        "    x = np.random.rand(i+5)\n",
        "\n",
        "    sparse_b = sparse_matrix_vector_product(A.data, A.indices, A.indptr, x)\n",
        "    dense_b = matrix_vector_product(A.todense(), x)\n",
        "    print(f\"Test {i},   Verification {'success' if (dense_b == sparse_b).all() else 'failure'}\")\n"
      ],
      "metadata": {
        "colab": {
          "base_uri": "https://localhost:8080/"
        },
        "id": "ZnrKpvMklIzH",
        "outputId": "baae376a-538b-4865-a99e-e90d7ccb0df5"
      },
      "execution_count": 143,
      "outputs": [
        {
          "output_type": "stream",
          "name": "stdout",
          "text": [
            "Test 0,   Verification success\n",
            "Test 1,   Verification success\n",
            "Test 2,   Verification success\n",
            "Test 3,   Verification success\n",
            "Test 4,   Verification success\n"
          ]
        }
      ]
    },
    {
      "cell_type": "code",
      "source": [
        "%%timeit\n",
        "sparse_matrix_vector_product(A.data, A.indices, A.indptr, x)"
      ],
      "metadata": {
        "colab": {
          "base_uri": "https://localhost:8080/"
        },
        "id": "AmCo4yNFI329",
        "outputId": "c910a354-7429-4805-cf0e-aa3b1143b361"
      },
      "execution_count": 144,
      "outputs": [
        {
          "output_type": "stream",
          "name": "stdout",
          "text": [
            "20.3 µs ± 1.15 µs per loop (mean ± std. dev. of 7 runs, 10000 loops each)\n"
          ]
        }
      ]
    },
    {
      "cell_type": "code",
      "source": [
        "%%timeit\n",
        "matrix_vector_product(A.todense(), x)"
      ],
      "metadata": {
        "colab": {
          "base_uri": "https://localhost:8080/"
        },
        "id": "NB7eM8sdI9Jd",
        "outputId": "d39a4f70-9ec5-4dce-a11b-6e1a947ba400"
      },
      "execution_count": 145,
      "outputs": [
        {
          "output_type": "stream",
          "name": "stdout",
          "text": [
            "107 µs ± 28.3 µs per loop (mean ± std. dev. of 7 runs, 10000 loops each)\n"
          ]
        }
      ]
    },
    {
      "cell_type": "markdown",
      "source": [
        "## QR factorization\n",
        "A decomposition of a square matrix $A$ into an orthogonal matrix $Q$ and an upper triangular matrix $R$.\n",
        "$$A=QR$$\n",
        "\n",
        "`modified_gram_schmidt_iteration` was implemented according to algorithm **5.3** from *Methods of Computational Science*."
      ],
      "metadata": {
        "id": "9bqRyWgNwg0N"
      }
    },
    {
      "cell_type": "code",
      "source": [
        "def modified_gram_schmidt_iteration(A) -> np.array:\n",
        "    n = A.shape[0]\n",
        "    Q = np.zeros(A.shape)\n",
        "    R = np.zeros(A.shape)\n",
        "\n",
        "    for j in range(0,n):\n",
        "        v_j = A[:,j]\n",
        "        for i in range(0,j):\n",
        "            R[i,j] = Q[:,i] @ v_j\n",
        "            v_j = v_j - (R[i,j] * Q[:,i])\n",
        "        R[j,j] = np.linalg.norm(v_j)\n",
        "        Q[:,j] = v_j / R[j,j]\n",
        "    return Q, R"
      ],
      "metadata": {
        "id": "Wu3hvEe6xg71",
        "cellView": "code"
      },
      "execution_count": 146,
      "outputs": []
    },
    {
      "cell_type": "markdown",
      "source": [
        "$R$ is checked whether it is a upper triangular matrix or not by using numpy's `triu` and `allclose` functions which creates an upper triangular matrix and compares it to $R$.\n",
        "\n",
        "As discussed in the problem assignment, $Q^TQ=I$, thus $||Q^TQ-I||_F$ should be 0. We also know that $A=QR$, which means $||QR-A||_F$ also should be 0 as $Q$ and $R$ are factored from $A$."
      ],
      "metadata": {
        "id": "2zuVmq5fj73s"
      }
    },
    {
      "cell_type": "code",
      "source": [
        "A = np.random.random((4, 4))\n",
        "Q, R = modified_gram_schmidt_iteration(A)\n",
        "print(f\"R upper triangular test: {np.allclose(R, np.triu(R))}\")\n",
        "print(f\"||Q^T Q - I||_F=0: {np.allclose(np.identity(Q.shape[0]), Q.T @ Q)}\")\n",
        "print(f\"||Q R - A||_F=0: {np.allclose(Q @ R, A)}\")"
      ],
      "metadata": {
        "colab": {
          "base_uri": "https://localhost:8080/"
        },
        "id": "pam0pIfWex-w",
        "outputId": "0db4488d-9f90-4d5e-a22b-022e12c09a2f"
      },
      "execution_count": 147,
      "outputs": [
        {
          "output_type": "stream",
          "name": "stdout",
          "text": [
            "R upper triangular test: True\n",
            "||Q^T Q - I||_F=0: True\n",
            "||Q R - A||_F=0: True\n"
          ]
        }
      ]
    },
    {
      "cell_type": "markdown",
      "source": [
        "## Direct solver $Ax=b$\n",
        "For a nonsingular, square matrix $A$, in a system of linear equations, $Ax=b$, the solution $x$ can be expressed as $x=A^{-1}b$.\n",
        "\n",
        "A *direct method* is the technique of factorizing $A$ into matrix products that easy to invert, followed by the inversion of the factors. Orthogonal, diagonal and triangular matrices are easy to invert.\n",
        "\n",
        "`direct_solver` is a combination of algorithm **5.2** from *Methods in Scientific Computation* and the previously implemented `modified_gram_schmidt_iteration` to find the upper triangle $U$ using $A=QR=QU$.\n",
        "Backward substitution (algorithm **5.2**) is used invert the upper triangle matrix.\n",
        "The equation is rewritten as:\n",
        "\n",
        "$$Ax=b\\Rightarrow QUx=B\\Rightarrow x=R^{-1}Q^{-1}b$$\n",
        "Since $Q$ is an orthogonal matrix, we know that $Q^{-1}=Q^T$.\n",
        "$$Ax=b\\Rightarrow R^{-1}Q^Tb$$"
      ],
      "metadata": {
        "id": "n4VqIzELyvwz"
      }
    },
    {
      "cell_type": "code",
      "source": [
        "def direct_solver(A, b) -> np.array:\n",
        "    n = A.shape[0]\n",
        "    x = np.zeros(n)\n",
        "    Q, U = modified_gram_schmidt_iteration(A)\n",
        "    b = Q.T @ b\n",
        "\n",
        "    # Backward substitution(U, b)\n",
        "    x[n-1] = b[n-1] / U[n-1,n-1]\n",
        "    for i in range(n-1, 0, -1):\n",
        "        for j in range(i, n):\n",
        "            x[i-1] += U[i-1,j] * x[j]\n",
        "        x[i-1] = (b[i-1] - x[i-1]) / U[i-1,i-1]\n",
        "    return x\n"
      ],
      "metadata": {
        "id": "91qKY40w7ozc"
      },
      "execution_count": 148,
      "outputs": []
    },
    {
      "cell_type": "code",
      "source": [
        "A = np.random.random((6, 6))\n",
        "b = np.random.rand(6)\n",
        "\n",
        "x = direct_solver(A,b)\n",
        "residual = np.linalg.norm(A@x)\n",
        "print(f\"||Ax-b||=0: {np.allclose(A@x, b)}\")\n",
        "\n",
        "y = np.random.rand(6)\n",
        "x = direct_solver(A, A@y)\n",
        "print(f\"||x-y||=0: {np.allclose(x, y)}\")"
      ],
      "metadata": {
        "colab": {
          "base_uri": "https://localhost:8080/"
        },
        "id": "TlGHFCLqDhee",
        "outputId": "ccc204c0-a936-42bc-cc3e-2de055298f79"
      },
      "execution_count": 149,
      "outputs": [
        {
          "output_type": "stream",
          "name": "stdout",
          "text": [
            "||Ax-b||=0: True\n",
            "||x-y||=0: True\n"
          ]
        }
      ]
    },
    {
      "cell_type": "markdown",
      "source": [
        "## Least squares problem\n",
        "A least-squares solution is a approximate solution to an inconsistent equation $Ax=b$. By inconsistent equation, it means that there is no solution to $Ax=b$. It approximates the solution by minimizing the difference of $b-Ax$ as much as possible.\n",
        "\n",
        "An orthogonal projector $P$ can be used to project $b$ onto range$(A)$ to find an approximate solution to $Ax=b$. This gives that $Pb\\in\\text{range}(A)\\Rightarrow Pb=A \\hat{x} $ and projection error $b-Pb=b-A\\hat{x}\\in\\text{range}(A)^\\perp$.\n",
        "\n",
        "Since $\\text{range}(A)^\\perp=\\text{null}(A^T)$ we get\n",
        "$$A^T(b-A\\hat{x})=0⇔A^TA\\hat{x}=A^Tb$$\n",
        "\n",
        "More information can be found in 2.7 in *Methods for Scientific Computation*.\n",
        "\n",
        "If we use $A^TA\\hat{x}=A^Tb$ and our previous implementation of Gram-Schmidt, we can solve $\\hat{x}$. However, before we use Gram-Schmidt we must first modify the matrix and vector.\n",
        "$$\\begin{cases}\n",
        "A_\\text{new}=A_\\text{input}^TA_\\text{input} \\\\\n",
        "b_\\text{new}=A^T_\\text{input}b\n",
        "\\end{cases}$$\n",
        "**Note:** Any technique can be used to solve the equation, but the matrix and vector still have to be modified before the solving procedure."
      ],
      "metadata": {
        "id": "y2Nc5A5vW_rW"
      }
    },
    {
      "cell_type": "code",
      "source": [
        "def least_squares_problem(A, b) -> np.array:\n",
        "    matrix = A.T @ A\n",
        "    vector = A.T @ b\n",
        "    return direct_solver(matrix, vector)"
      ],
      "metadata": {
        "id": "6lGvxyzgNe1f"
      },
      "execution_count": 150,
      "outputs": []
    },
    {
      "cell_type": "markdown",
      "source": [
        "A random dataset with a trend was created to test the residual $||Ax-b||$. It was then also compared to Numpy's own function `np.linalg.lsqst`. This was done to determine if the implemented function was implemented correctly or not as the residual can be large depending on the dataset."
      ],
      "metadata": {
        "id": "5TF-vhH3Y9cN"
      }
    },
    {
      "cell_type": "code",
      "source": [
        "n = 100\n",
        "x, y = np.zeros(n), np.zeros(n)\n",
        "for i in range(n):\n",
        "    y[i] = rd.uniform(0 + (i / 10), 5 + (i / 10))\n",
        "    x[i] = i\n",
        "\n",
        "A = np.array([np.ones(len(x)), x])\n",
        "b = y\n",
        "plt.plot(x, y, 'bo')\n",
        "\n",
        "sol = least_squares_problem(A.T, b)\n",
        "y_fit = x * sol[1] + sol[0]\n",
        "plt.plot(x, y_fit, 'r--')\n",
        "plt.show()\n",
        "\n",
        "sol_np = np.linalg.lstsq(A.T, b, rcond=None)\n",
        "print(f\"||A_x-b|| : {np.linalg.norm(A.T@sol-b)}\")\n",
        "print(f\"Difference compared to np.linalg.lsqst: {np.linalg.norm(A.T@sol-b)-np.linalg.norm(A.T@sol_np[0]-b)}\")\n"
      ],
      "metadata": {
        "colab": {
          "base_uri": "https://localhost:8080/",
          "height": 465
        },
        "id": "GYjN9mOJY3UB",
        "outputId": "0fe6315c-e335-478e-d210-bce39ce87bd8"
      },
      "execution_count": 151,
      "outputs": [
        {
          "output_type": "display_data",
          "data": {
            "text/plain": [
              "<Figure size 640x480 with 1 Axes>"
            ],
            "image/png": "[encoded data removed]"
          },
          "metadata": {}
        },
        {
          "output_type": "stream",
          "name": "stdout",
          "text": [
            "||A_x-b|| : 14.064606299746691\n",
            "Difference compared to np.linalg.lsqst: 0.0\n"
          ]
        }
      ]
    },
    {
      "cell_type": "markdown",
      "source": [
        "# **Discussion**\n",
        "All methods and implementations performed as expected and passed all tests. The only outstadning results were from the `linear_squares_problem` implementation as the residual was rather high. It is not to say it is wrong as the unfitted data was randomly generated. As it does differ from the inbuilt function, it perfomed as expected."
      ],
      "metadata": {
        "id": "oX43f7ATJn_Y"
      }
    }
  ]
}