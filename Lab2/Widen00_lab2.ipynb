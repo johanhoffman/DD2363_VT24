{
  "nbformat": 4,
  "nbformat_minor": 0,
  "metadata": {
    "colab": {
      "provenance": [],
      "include_colab_link": true
    },
    "kernelspec": {
      "name": "python3",
      "display_name": "Python 3"
    },
    "language_info": {
      "name": "python"
    }
  },
  "cells": [
    {
      "cell_type": "markdown",
      "metadata": {
        "id": "view-in-github",
        "colab_type": "text"
      },
      "source": [
        "<a href=\"https://colab.research.google.com/github/johanhoffman/DD2363_VT24/blob/Widen00-Lab2/Lab2/Widen00_lab2.ipynb\" target=\"_parent\"><img src=\"https://colab.research.google.com/assets/colab-badge.svg\" alt=\"Open In Colab\"/></a>"
      ]
    },
    {
      "cell_type": "markdown",
      "source": [
        "# **Lab 2: Iterative Methods**\n",
        "**Joel Widén**"
      ],
      "metadata": {
        "id": "ZaEBrl-az9b3"
      }
    },
    {
      "cell_type": "markdown",
      "source": [
        "# **Abstract**"
      ],
      "metadata": {
        "id": "tGDtAfRV0OWa"
      }
    },
    {
      "cell_type": "markdown",
      "source": [
        "Short summary of the lab report. State the objectives, methods used, main results and conlusions."
      ],
      "metadata": {
        "id": "4Bh37nkE0YG2"
      }
    },
    {
      "cell_type": "markdown",
      "source": [
        "#**About the code**\n"
      ],
      "metadata": {
        "id": "mpJPf-Vw0Z6F"
      }
    },
    {
      "cell_type": "markdown",
      "source": [
        "This is a report in the course DD2363 Methods in Scientific Computing. The author of this file is Joel Widén, joelwid@kth.se."
      ],
      "metadata": {
        "id": "l55QIaTP2MFo"
      }
    },
    {
      "cell_type": "markdown",
      "source": [
        "# **Set up environment**"
      ],
      "metadata": {
        "id": "A3hd-IdH1enM"
      }
    },
    {
      "cell_type": "markdown",
      "source": [
        "This block is run to set up the environment."
      ],
      "metadata": {
        "id": "pI_pxuad1keF"
      }
    },
    {
      "cell_type": "code",
      "source": [
        "# Load neccessary modules.\n",
        "from google.colab import files\n",
        "\n",
        "import time\n",
        "import numpy as np\n",
        "\n",
        "#try:\n",
        "#    from dolfin import *; from mshr import *\n",
        "#except ImportError as e:\n",
        "#    !apt-get install -y -qq software-properties-common\n",
        "#    !add-apt-repository -y ppa:fenics-packages/fenics\n",
        "#    !apt-get update -qq\n",
        "#    !apt install -y --no-install-recommends fenics\n",
        "#    from dolfin import *; from mshr import *\n",
        "\n",
        "#import dolfin.common.plotting as fenicsplot\n",
        "\n",
        "from matplotlib import pyplot as plt\n",
        "from matplotlib import tri\n",
        "from matplotlib import axes\n",
        "from mpl_toolkits.mplot3d import Axes3D"
      ],
      "metadata": {
        "id": "1-wwwqjt1lNT"
      },
      "execution_count": 1,
      "outputs": []
    },
    {
      "cell_type": "markdown",
      "source": [
        "# **Introduction**"
      ],
      "metadata": {
        "id": "J35UZGP81vOW"
      }
    },
    {
      "cell_type": "markdown",
      "source": [
        "Numbered algorithms, equations and chapter references used in this report is from the DD2363 course book Methods in Computational Science by Johan Hoffman if not stated otherwise.\n",
        "\n",
        "**Assignment 1:** Function: Jacobi iteration for Ax=b\n",
        "\n",
        "* *Input:* matrix $A$, vector $b$\n",
        "* *Output:* vector $x$\n",
        "* *Test:* convergence of residual $|| Ax-b ||$, $|| x-y ||$ for manufactured/exact solution $y$\n",
        "\n",
        "**Assignment 2:** Function: Gauss-Seidel iteration for $Ax=b$\n",
        "\n",
        "* *Input:* matrix $A$, vector $b$\n",
        "* *Output:* vector $x$\n",
        "* *Test:* convergence of residual $|| Ax-b ||$, $|| x-y ||$ for manufactured/exact solution $y$\n",
        "\n",
        "**Assignment 3:** Function: Newton's method for scalar nonlinear equation $f(x)=0$\n",
        "\n",
        "* *Input:* scalar function $f(x)$\n",
        "* *Output:* real number $x$\n",
        "* *Test:* convergence of residual $|f(x)|$, $|x-y|$ for manufactured/exact solution $y$"
      ],
      "metadata": {
        "id": "JBNIypdp1wk4"
      }
    },
    {
      "cell_type": "markdown",
      "source": [
        "# **Method**"
      ],
      "metadata": {
        "id": "Nmy8HNIJ1ySM"
      }
    },
    {
      "cell_type": "markdown",
      "source": [
        "Methods and code here"
      ],
      "metadata": {
        "id": "Rp0GGvqO151y"
      }
    },
    {
      "cell_type": "code",
      "source": [
        "# Assignment 1\n",
        "# Jacobi iteration for Ax = b\n",
        "# Jacobi iteration is based on splitting the A = A_1 + A_2 where\n",
        "# A_1 = D = diag(A) and A_2 = A - D\n",
        "\n",
        "def jacobi_iteration(A, b):\n",
        "  m, n = np.shape(A)\n",
        "  x = np.zeros(n)\n",
        "  k = 20\n",
        "  x_matrix = np.zeros((k, len(x)))\n",
        "  r_vec = np.zeros(k)\n",
        "  for iter in range(k):\n",
        "    for i in range(0, n):\n",
        "      sum = 0\n",
        "      for j in range(0, n):\n",
        "        if j == i:\n",
        "          sum = sum\n",
        "        else:\n",
        "          sum = sum + A[i][j]*x[j]\n",
        "      x[i] = 1/A[i][i] * (b[i] - sum)\n",
        "    x_matrix[iter,:] = x\n",
        "    r = np.linalg.norm(A.dot(x)-b)\n",
        "    r_vec[iter] = r\n",
        "\n",
        "  return(x_matrix, r_vec)\n",
        "\n",
        "\n",
        "\n",
        "n = 4\n",
        "m = n\n",
        "# Should be diagonally dominant\n",
        "# Matrix is randomized with zeroes and ones\n",
        "# The maximum non diagonal sum in each row is n * 1 - 1\n",
        "max_non_diag = (n * 1) - 1\n",
        "# This means we must add an identity matrix with at least n * 1 - 1\n",
        "# on the diagonal according to example 7.6\n",
        "A = np.random.randint(2, size=(m, n)) + max_non_diag * np.eye(n)\n",
        "y = np.random.randint(3, size=n)\n",
        "b = A.dot(y)\n",
        "D = np.diag(np.diag(A))\n",
        "D_inv = np.linalg.inv(D)\n",
        "Mj = np.eye(n) - np.matmul(D_inv, A)\n",
        "conv_criterion = np.linalg.norm(Mj)\n",
        "\n",
        "print(\"Input matrix = \", A)\n",
        "print(\"Manufactured solution y = \", y)\n",
        "print(\"b = \", b)\n",
        "print(\"M = \", Mj)\n",
        "print(\"Convergence criterion = \", conv_criterion)\n",
        "\n",
        "x, r = jacobi_iteration(A, b)\n",
        "\n",
        "error_matrix = x - y\n",
        "error_vec = np.zeros_like(r)\n",
        "i = 0\n",
        "for error in error_matrix:\n",
        "  error_vec[i] = np.linalg.norm(error)\n",
        "  i += 1\n",
        "\n",
        "print(\"Error from manufactured solution y = \",error_vec)\n",
        "print(\"Result x = \", x[-1])\n",
        "print(\"Result residuals r = \", r)"
      ],
      "metadata": {
        "id": "T18t_NIq30pm",
        "outputId": "95ec0389-7564-42a4-ba4e-a71507b00fab",
        "colab": {
          "base_uri": "https://localhost:8080/"
        }
      },
      "execution_count": 122,
      "outputs": [
        {
          "output_type": "stream",
          "name": "stdout",
          "text": [
            "Input matrix =  [[3. 0. 0. 0.]\n",
            " [0. 3. 1. 1.]\n",
            " [1. 0. 3. 0.]\n",
            " [0. 1. 0. 4.]]\n",
            "Manufactured solution y =  [0 0 1 1]\n",
            "b =  [0. 2. 3. 4.]\n",
            "M =  [[ 0.          0.          0.          0.        ]\n",
            " [ 0.          0.         -0.33333333 -0.33333333]\n",
            " [-0.33333333  0.          0.          0.        ]\n",
            " [ 0.         -0.25        0.          0.        ]]\n",
            "Convergence criterion =  0.6291528696058958\n",
            "Error from manufactured solution y =  [6.87184271e-01 5.72653559e-02 4.77211299e-03 3.97676083e-04\n",
            " 3.31396736e-05 2.76163946e-06 2.30136622e-07 1.91780518e-08\n",
            " 1.59817093e-09 1.33180958e-10 1.10984543e-11 9.24812104e-13\n",
            " 7.70467405e-14 6.40859352e-15 5.29865820e-16 0.00000000e+00\n",
            " 0.00000000e+00 0.00000000e+00 0.00000000e+00 0.00000000e+00]\n",
            "Result x =  [0. 0. 1. 1.]\n",
            "Result residuals r =  [1.83333333e+00 1.52777778e-01 1.27314815e-02 1.06095679e-03\n",
            " 8.84130658e-05 7.36775549e-06 6.13979624e-07 5.11649683e-08\n",
            " 4.26374713e-09 3.55312224e-10 2.96096481e-11 2.46735965e-12\n",
            " 2.05613304e-13 1.68753900e-14 1.33226763e-15 0.00000000e+00\n",
            " 0.00000000e+00 0.00000000e+00 0.00000000e+00 0.00000000e+00]\n"
          ]
        }
      ]
    },
    {
      "cell_type": "markdown",
      "source": [
        "# **Results**"
      ],
      "metadata": {
        "id": "nKaQfj-a2Aaj"
      }
    },
    {
      "cell_type": "markdown",
      "source": [
        "Results here"
      ],
      "metadata": {
        "id": "kR-lguVL2BOG"
      }
    },
    {
      "cell_type": "markdown",
      "source": [
        "# **Discussion**"
      ],
      "metadata": {
        "id": "LYE-NAtd2CuB"
      }
    },
    {
      "cell_type": "markdown",
      "source": [
        "Discussion here"
      ],
      "metadata": {
        "id": "D3zwhxBJ2JFj"
      }
    }
  ]
}