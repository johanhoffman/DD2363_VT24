{
  "nbformat": 4,
  "nbformat_minor": 0,
  "metadata": {
    "colab": {
      "provenance": []
    },
    "kernelspec": {
      "name": "python3",
      "display_name": "Python 3"
    },
    "language_info": {
      "name": "python"
    }
  },
  "cells": [
    {
      "cell_type": "markdown",
      "source": [
        "# **Lab 2: Iterative Methods**\n",
        "**Joel Widén**"
      ],
      "metadata": {
        "id": "ZaEBrl-az9b3"
      }
    },
    {
      "cell_type": "markdown",
      "source": [
        "# **Abstract**"
      ],
      "metadata": {
        "id": "tGDtAfRV0OWa"
      }
    },
    {
      "cell_type": "markdown",
      "source": [
        "Short summary of the lab report. State the objectives, methods used, main results and conlusions."
      ],
      "metadata": {
        "id": "4Bh37nkE0YG2"
      }
    },
    {
      "cell_type": "markdown",
      "source": [
        "#**About the code**\n"
      ],
      "metadata": {
        "id": "mpJPf-Vw0Z6F"
      }
    },
    {
      "cell_type": "markdown",
      "source": [
        "This is a report in the course DD2363 Methods in Scientific Computing. The author of this file is Joel Widén, joelwid@kth.se."
      ],
      "metadata": {
        "id": "l55QIaTP2MFo"
      }
    },
    {
      "cell_type": "markdown",
      "source": [
        "# **Set up environment**"
      ],
      "metadata": {
        "id": "A3hd-IdH1enM"
      }
    },
    {
      "cell_type": "markdown",
      "source": [
        "This block is run to set up the environment."
      ],
      "metadata": {
        "id": "pI_pxuad1keF"
      }
    },
    {
      "cell_type": "code",
      "source": [
        "# Load neccessary modules.\n",
        "from google.colab import files\n",
        "\n",
        "import time\n",
        "import numpy as np\n",
        "\n",
        "#try:\n",
        "#    from dolfin import *; from mshr import *\n",
        "#except ImportError as e:\n",
        "#    !apt-get install -y -qq software-properties-common\n",
        "#    !add-apt-repository -y ppa:fenics-packages/fenics\n",
        "#    !apt-get update -qq\n",
        "#    !apt install -y --no-install-recommends fenics\n",
        "#    from dolfin import *; from mshr import *\n",
        "\n",
        "#import dolfin.common.plotting as fenicsplot\n",
        "\n",
        "from matplotlib import pyplot as plt\n",
        "from matplotlib import tri\n",
        "from matplotlib import axes\n",
        "from mpl_toolkits.mplot3d import Axes3D"
      ],
      "metadata": {
        "id": "1-wwwqjt1lNT"
      },
      "execution_count": 1,
      "outputs": []
    },
    {
      "cell_type": "markdown",
      "source": [
        "# **Introduction**"
      ],
      "metadata": {
        "id": "J35UZGP81vOW"
      }
    },
    {
      "cell_type": "markdown",
      "source": [
        "Numbered algorithms, equations and chapter references used in this report is from the DD2363 course book Methods in Computational Science by Johan Hoffman if not stated otherwise.\n",
        "\n",
        "**Assignment 1:** Function: Jacobi iteration for Ax=b\n",
        "\n",
        "* *Input:* matrix $A$, vector $b$\n",
        "* *Output:* vector $x$\n",
        "* *Test:* convergence of residual $|| Ax-b ||$, $|| x-y ||$ for manufactured/exact solution $y$\n",
        "\n",
        "**Assignment 2:** Function: Gauss-Seidel iteration for $Ax=b$\n",
        "\n",
        "* *Input:* matrix $A$, vector $b$\n",
        "* *Output:* vector $x$\n",
        "* *Test:* convergence of residual $|| Ax-b ||$, $|| x-y ||$ for manufactured/exact solution $y$\n",
        "\n",
        "**Assignment 3:** Function: Newton's method for scalar nonlinear equation $f(x)=0$\n",
        "\n",
        "* *Input:* scalar function $f(x)$\n",
        "* *Output:* real number $x$\n",
        "* *Test:* convergence of residual $|f(x)|$, $|x-y|$ for manufactured/exact solution $y$"
      ],
      "metadata": {
        "id": "JBNIypdp1wk4"
      }
    },
    {
      "cell_type": "markdown",
      "source": [
        "# **Method**"
      ],
      "metadata": {
        "id": "Nmy8HNIJ1ySM"
      }
    },
    {
      "cell_type": "markdown",
      "source": [
        "Methods and code here"
      ],
      "metadata": {
        "id": "Rp0GGvqO151y"
      }
    },
    {
      "cell_type": "code",
      "source": [
        "# Run this block to set up matrix for gauss seidel and jacobi iteration\n",
        "\n",
        "\n",
        "n = 50\n",
        "m = n\n",
        "# Should be diagonally dominant\n",
        "# Matrix is randomized with zeroes and ones\n",
        "# The maximum non diagonal sum in each row is n * 1 - 1\n",
        "max_non_diag = (n * 1) - 1\n",
        "# This means we must add an identity matrix with at least n * 1 - 1\n",
        "# on the diagonal according to example 7.6\n",
        "A = np.random.randint(2, size=(m, n)) + max_non_diag * np.eye(n)\n",
        "y = np.random.randint(3, size=n)\n",
        "b = A.dot(y)\n",
        "\n",
        "print(\"Input matrix = \", A)\n",
        "print(\"Manufactured solution y = \", y)\n",
        "print(\"b = \", b)"
      ],
      "metadata": {
        "id": "d7fHaFvc13lu",
        "outputId": "a0737b84-f3e6-49ea-81fe-5e58cfbc99eb",
        "colab": {
          "base_uri": "https://localhost:8080/"
        }
      },
      "execution_count": 77,
      "outputs": [
        {
          "output_type": "stream",
          "name": "stdout",
          "text": [
            "Input matrix =  [[50.  0.  0. ...  1.  1.  1.]\n",
            " [ 0. 49.  1. ...  1.  0.  1.]\n",
            " [ 0.  1. 49. ...  0.  1.  1.]\n",
            " ...\n",
            " [ 0.  0.  0. ... 49.  1.  1.]\n",
            " [ 1.  1.  0. ...  0. 49.  0.]\n",
            " [ 1.  1.  1. ...  1.  1. 49.]]\n",
            "Manufactured solution y =  [2 1 1 0 0 1 0 0 1 0 0 1 0 2 0 0 2 1 2 1 0 1 0 2 2 0 2 0 0 0 0 2 1 1 1 1 2\n",
            " 2 1 1 0 0 1 1 0 0 1 0 1 1]\n",
            "b =  [122.  66.  66.  24.  20.  72.  15.  17.  66.  25.  20.  76.  25. 115.\n",
            "  23.  20. 116.  69. 116.  72.  20.  67.  19. 120. 120.  22. 110.  14.\n",
            "  16.  21.  24. 121.  75.  68.  69.  67. 117. 118.  70.  69.  23.  20.\n",
            "  76.  66.  17.  21.  72.  19.  63.  67.]\n"
          ]
        }
      ]
    },
    {
      "cell_type": "code",
      "source": [
        "# Assignment 1\n",
        "# Jacobi iteration for Ax = b\n",
        "# Jacobi iteration is based on splitting the A = A_1 + A_2 where\n",
        "# A_1 = D = diag(A) and A_2 = A - D\n",
        "# Example 7.8 used from the book\n",
        "\n",
        "def jacobi_iteration(A, b):\n",
        "  m, n = np.shape(A)\n",
        "  x = np.zeros(n)\n",
        "  k = 20\n",
        "  x_matrix = np.zeros((k, len(x)))\n",
        "  r_vec = np.zeros(k)\n",
        "  for iter in range(k):\n",
        "    x_k = x\n",
        "    for i in range(0, n):\n",
        "      sum = 0\n",
        "      for j in range(0, n):\n",
        "        if j == i:\n",
        "          sum = sum\n",
        "        else:\n",
        "          sum += A[i][j]*x_k[j]\n",
        "      x[i] = 1/A[i][i] * (b[i] - sum)\n",
        "    x_matrix[iter,:] = x\n",
        "    r = np.linalg.norm(A.dot(x)-b)\n",
        "    r_vec[iter] = r\n",
        "  return(x, x_matrix, r_vec)\n",
        "\n",
        "D = np.diag(np.diag(A))\n",
        "D_inv = np.linalg.inv(D)\n",
        "Mj = np.eye(n) - np.matmul(D_inv, A)\n",
        "conv_criterion = np.linalg.norm(Mj)\n",
        "\n",
        "print(\"M = \", Mj)\n",
        "print(\"Convergence criterion = \", conv_criterion)\n",
        "\n",
        "x, x_matrix, r = jacobi_iteration(A, b)\n",
        "\n",
        "error_matrix = x_matrix - y\n",
        "error_vec = np.zeros_like(r)\n",
        "i = 0\n",
        "for error in error_matrix:\n",
        "  error_vec[i] = np.linalg.norm(error)\n",
        "  i += 1\n",
        "\n",
        "print(\"Error from manufactured solution y = \",error_vec)\n",
        "print(\"Result x = \", x)\n",
        "print(\"Result residuals r = \", r)\n",
        "\n",
        "error_vec_jacobi = error_vec\n",
        "residuals_jacobi = r"
      ],
      "metadata": {
        "id": "T18t_NIq30pm",
        "outputId": "e456c01a-a29b-4276-a3d1-b05f075ca82f",
        "colab": {
          "base_uri": "https://localhost:8080/"
        }
      },
      "execution_count": 78,
      "outputs": [
        {
          "output_type": "stream",
          "name": "stdout",
          "text": [
            "M =  [[ 0.00000000e+00  0.00000000e+00  0.00000000e+00 ... -2.00000000e-02\n",
            "  -2.00000000e-02 -2.00000000e-02]\n",
            " [ 0.00000000e+00  1.11022302e-16 -2.04081633e-02 ... -2.04081633e-02\n",
            "   0.00000000e+00 -2.04081633e-02]\n",
            " [ 0.00000000e+00 -2.04081633e-02  1.11022302e-16 ...  0.00000000e+00\n",
            "  -2.04081633e-02 -2.04081633e-02]\n",
            " ...\n",
            " [ 0.00000000e+00  0.00000000e+00  0.00000000e+00 ...  1.11022302e-16\n",
            "  -2.04081633e-02 -2.04081633e-02]\n",
            " [-2.04081633e-02 -2.04081633e-02  0.00000000e+00 ...  0.00000000e+00\n",
            "   1.11022302e-16  0.00000000e+00]\n",
            " [-2.04081633e-02 -2.04081633e-02 -2.04081633e-02 ... -2.04081633e-02\n",
            "  -2.04081633e-02  1.11022302e-16]]\n",
            "Convergence criterion =  0.7185658352870782\n",
            "Error from manufactured solution y =  [1.50960609e+00 1.88841250e-01 1.27223745e-02 2.09842799e-03\n",
            " 2.13895285e-04 1.90283007e-05 3.01995731e-06 2.25309408e-07\n",
            " 3.22487800e-08 3.66089765e-09 2.91301890e-10 4.85736885e-11\n",
            " 3.87073018e-12 4.90766278e-13 6.17235242e-14 4.69652179e-15\n",
            " 9.74719069e-16 6.32208300e-16 6.32208300e-16 6.32208300e-16]\n",
            "Result x =  [2.00000000e+00 1.00000000e+00 1.00000000e+00 0.00000000e+00\n",
            " 0.00000000e+00 1.00000000e+00 0.00000000e+00 0.00000000e+00\n",
            " 1.00000000e+00 0.00000000e+00 0.00000000e+00 1.00000000e+00\n",
            " 0.00000000e+00 2.00000000e+00 0.00000000e+00 0.00000000e+00\n",
            " 2.00000000e+00 1.00000000e+00 2.00000000e+00 1.00000000e+00\n",
            " 0.00000000e+00 1.00000000e+00 7.25043608e-17 2.00000000e+00\n",
            " 2.00000000e+00 0.00000000e+00 2.00000000e+00 0.00000000e+00\n",
            " 0.00000000e+00 0.00000000e+00 0.00000000e+00 2.00000000e+00\n",
            " 1.00000000e+00 1.00000000e+00 1.00000000e+00 1.00000000e+00\n",
            " 2.00000000e+00 2.00000000e+00 1.00000000e+00 1.00000000e+00\n",
            " 0.00000000e+00 0.00000000e+00 1.00000000e+00 1.00000000e+00\n",
            " 0.00000000e+00 0.00000000e+00 1.00000000e+00 0.00000000e+00\n",
            " 1.00000000e+00 1.00000000e+00]\n",
            "Result residuals r =  [9.40109461e+01 9.90038813e+00 6.96073226e-01 1.21868938e-01\n",
            " 1.05174086e-02 1.16663818e-03 1.62192382e-04 1.15538850e-05\n",
            " 1.90960955e-06 1.82585364e-07 1.75732791e-08 2.66529865e-09\n",
            " 1.92179378e-10 2.95591865e-11 3.15093359e-12 2.60924992e-13\n",
            " 5.42589062e-14 3.57043306e-14 3.57043306e-14 3.57043306e-14]\n"
          ]
        }
      ]
    },
    {
      "cell_type": "code",
      "source": [
        "# Assignment 2\n",
        "# Based on splitting into A_1 = L and A_2 = A - L\n",
        "# Example 7.9 used from the book\n",
        "\n",
        "def gauss_seidel_iteration(A, b):\n",
        "  m, n = np.shape(A)\n",
        "  x = np.zeros(n)\n",
        "  k = 20\n",
        "  x_matrix = np.zeros((k, len(x)))\n",
        "  r_vec = np.zeros(k)\n",
        "  for iter in range(k):\n",
        "    for i in range(0, n):\n",
        "      sum_1 = 0\n",
        "      sum_2 = 0\n",
        "      for j in range(0, i):\n",
        "        sum_1 += A[i][j]*x[j]\n",
        "      for j in range(i+1, n):\n",
        "        sum_2 += A[i][j]*x[j]\n",
        "      x[i] = 1/A[i][i] * (b[i] - sum_1 - sum_2)\n",
        "    x_matrix[iter,:] = x\n",
        "    r = np.linalg.norm(A.dot(x)-b)\n",
        "    r_vec[iter] = r\n",
        "  return(x, x_matrix, r_vec)\n",
        "\n",
        "L = np.tril(A)\n",
        "L_inv = np.linalg.inv(L)\n",
        "Mj = np.eye(n) - np.matmul(L_inv, A)\n",
        "conv_criterion = np.linalg.norm(Mj)\n",
        "\n",
        "print(\"M = \", Mj)\n",
        "print(\"Convergence criterion = \", conv_criterion)\n",
        "\n",
        "x, x_matrix, r_vec = gauss_seidel_iteration(A, b)\n",
        "\n",
        "error_matrix = x_matrix - y\n",
        "error_vec = np.zeros_like(r)\n",
        "i = 0\n",
        "for error in error_matrix:\n",
        "  error_vec[i] = np.linalg.norm(error)\n",
        "  i += 1\n",
        "\n",
        "print(\"Error from manufactured solution y = \",error_vec)\n",
        "print(\"Result x = \", x)\n",
        "print(\"Result residuals r = \", r)\n",
        "\n",
        "error_vec_gauss_seidel = error_vec\n",
        "residuals_gauss_seidel = r\n"
      ],
      "metadata": {
        "id": "qAScivOGtRcX",
        "outputId": "1484e5ef-7049-4728-9f76-4f74bb764126",
        "colab": {
          "base_uri": "https://localhost:8080/"
        }
      },
      "execution_count": 79,
      "outputs": [
        {
          "output_type": "stream",
          "name": "stdout",
          "text": [
            "M =  [[ 0.00000000e+00  0.00000000e+00  0.00000000e+00 ... -2.00000000e-02\n",
            "  -2.00000000e-02 -2.00000000e-02]\n",
            " [ 0.00000000e+00  1.11022302e-16 -2.04081633e-02 ... -2.04081633e-02\n",
            "   0.00000000e+00 -2.04081633e-02]\n",
            " [ 0.00000000e+00 -3.46944695e-18  4.16493128e-04 ...  4.16493128e-04\n",
            "  -2.04081633e-02 -1.99916701e-02]\n",
            " ...\n",
            " [-1.19262239e-18 -5.42101086e-19 -1.12403648e-04 ...  2.91489820e-03\n",
            "  -1.37787764e-02 -1.44343733e-02]\n",
            " [-3.46944695e-18  0.00000000e+00  3.61379298e-04 ...  3.00194883e-03\n",
            "   4.83207255e-03  4.13692570e-03]\n",
            " [ 0.00000000e+00  0.00000000e+00  3.26167400e-04 ...  4.76487649e-03\n",
            "   4.45151601e-03  4.18973446e-03]]\n",
            "Convergence criterion =  0.48009886504467425\n",
            "Error from manufactured solution y =  [1.50960609e+00 1.88841250e-01 1.27223745e-02 2.09842799e-03\n",
            " 2.13895285e-04 1.90283007e-05 3.01995731e-06 2.25309408e-07\n",
            " 3.22487800e-08 3.66089754e-09 2.91301809e-10 4.85736659e-11\n",
            " 3.87054729e-12 4.90523836e-13 6.16782515e-14 4.75159414e-15\n",
            " 8.45956043e-16 6.28201942e-16 6.28201942e-16 6.28201942e-16]\n",
            "Result x =  [2.00000000e+00 1.00000000e+00 1.00000000e+00 0.00000000e+00\n",
            " 0.00000000e+00 1.00000000e+00 0.00000000e+00 0.00000000e+00\n",
            " 1.00000000e+00 0.00000000e+00 0.00000000e+00 1.00000000e+00\n",
            " 0.00000000e+00 2.00000000e+00 0.00000000e+00 0.00000000e+00\n",
            " 2.00000000e+00 1.00000000e+00 2.00000000e+00 1.00000000e+00\n",
            " 0.00000000e+00 1.00000000e+00 0.00000000e+00 2.00000000e+00\n",
            " 2.00000000e+00 0.00000000e+00 2.00000000e+00 0.00000000e+00\n",
            " 0.00000000e+00 0.00000000e+00 0.00000000e+00 2.00000000e+00\n",
            " 1.00000000e+00 1.00000000e+00 1.00000000e+00 1.00000000e+00\n",
            " 2.00000000e+00 2.00000000e+00 1.00000000e+00 1.00000000e+00\n",
            " 9.06304510e-18 8.88178420e-18 1.00000000e+00 1.00000000e+00\n",
            " 4.53152255e-18 2.26576127e-18 1.00000000e+00 4.53152255e-18\n",
            " 1.00000000e+00 1.00000000e+00]\n",
            "Result residuals r =  [9.40109461e+01 9.90038813e+00 6.96073226e-01 1.21868938e-01\n",
            " 1.05174086e-02 1.16663818e-03 1.62192382e-04 1.15538850e-05\n",
            " 1.90960955e-06 1.82585364e-07 1.75732791e-08 2.66529865e-09\n",
            " 1.92179378e-10 2.95591865e-11 3.15093359e-12 2.60924992e-13\n",
            " 5.42589062e-14 3.57043306e-14 3.57043306e-14 3.57043306e-14]\n"
          ]
        }
      ]
    },
    {
      "cell_type": "markdown",
      "source": [
        "# **Results**"
      ],
      "metadata": {
        "id": "nKaQfj-a2Aaj"
      }
    },
    {
      "cell_type": "code",
      "source": [
        "# Plot results\n",
        "\n"
      ],
      "metadata": {
        "id": "kyrATsRI-UXw"
      },
      "execution_count": null,
      "outputs": []
    },
    {
      "cell_type": "markdown",
      "source": [
        "Results here"
      ],
      "metadata": {
        "id": "kR-lguVL2BOG"
      }
    },
    {
      "cell_type": "markdown",
      "source": [
        "# **Discussion**"
      ],
      "metadata": {
        "id": "LYE-NAtd2CuB"
      }
    },
    {
      "cell_type": "markdown",
      "source": [
        "Discussion here"
      ],
      "metadata": {
        "id": "D3zwhxBJ2JFj"
      }
    }
  ]
}