{
  "nbformat": 4,
  "nbformat_minor": 0,
  "metadata": {
    "colab": {
      "provenance": []
    },
    "kernelspec": {
      "name": "python3",
      "display_name": "Python 3"
    }
  },
  "cells": [
    {
      "cell_type": "markdown",
      "metadata": {
        "id": "view-in-github"
      },
      "source": [
        "<a href=\"https://colab.research.google.com/github/johanhoffman/DD2363_VT23/blob/main/template-report-lab-X.ipynb\" target=\"_parent\"><img src=\"https://colab.research.google.com/assets/colab-badge.svg\" alt=\"Open In Colab\"/></a>"
      ]
    },
    {
      "cell_type": "markdown",
      "metadata": {
        "id": "6RgtXlfYO_i7"
      },
      "source": [
        "# **Lab 2: Iterative methods**\n",
        "**Matteus Berg**"
      ]
    },
    {
      "cell_type": "markdown",
      "metadata": {
        "id": "9x_J5FVuPzbm"
      },
      "source": [
        "# **Abstract**"
      ]
    },
    {
      "cell_type": "markdown",
      "metadata": {
        "id": "6UFTSzW7P8kL"
      },
      "source": [
        "\n",
        "\n",
        "\n",
        "This lab reports implements the newton iteration for nonlinear scalar equations, the jacobi iteration and the gauss-seidel iteration. The results show that the algorithms that were implemented work as expected."
      ]
    },
    {
      "cell_type": "markdown",
      "metadata": {
        "id": "yJipbXtnjrJZ"
      },
      "source": []
    },
    {
      "cell_type": "markdown",
      "metadata": {
        "id": "OkT8J7uOWpT3"
      },
      "source": [
        "#**About the code**"
      ]
    },
    {
      "cell_type": "markdown",
      "metadata": {
        "id": "HmB2noTr1Oyo"
      },
      "source": [
        "\n",
        "\n",
        "```\n",
        "# Detta formeras som kod\n",
        "```\n",
        "\n",
        "The lab report is based on a template given by Johan Hoffman."
      ]
    },
    {
      "cell_type": "code",
      "metadata": {
        "id": "Pdll1Xc9WP0e",
        "colab": {
          "base_uri": "https://localhost:8080/",
          "height": 37
        },
        "outputId": "9e782dc7-4ad0-48f9-d45c-2200e83dec4d"
      },
      "source": [],
      "execution_count": null,
      "outputs": [
        {
          "output_type": "execute_result",
          "data": {
            "application/vnd.google.colaboratory.intrinsic+json": {
              "type": "string"
            },
            "text/plain": [
              "'KTH Royal Institute of Technology, Stockholm, Sweden.'"
            ]
          },
          "metadata": {},
          "execution_count": 1
        }
      ]
    },
    {
      "cell_type": "markdown",
      "metadata": {
        "id": "28xLGz8JX3Hh"
      },
      "source": [
        "# **Set up environment**"
      ]
    },
    {
      "cell_type": "markdown",
      "metadata": {
        "id": "D2PYNusD08Wa"
      },
      "source": [
        "To have access to the neccessary modules you have to run this cell. If you need additional modules, this is where you add them."
      ]
    },
    {
      "cell_type": "code",
      "metadata": {
        "id": "Xw7VlErAX7NS"
      },
      "source": [
        "# Load neccessary modules.\n",
        "from google.colab import files\n",
        "\n",
        "import time\n",
        "import numpy as np\n",
        "\n",
        "#try:\n",
        "#    from dolfin import *; from mshr import *\n",
        "#except ImportError as e:\n",
        "#    !apt-get install -y -qq software-properties-common\n",
        "#    !add-apt-repository -y ppa:fenics-packages/fenics\n",
        "#    !apt-get update -qq\n",
        "#    !apt install -y --no-install-recommends fenics\n",
        "#    from dolfin import *; from mshr import *\n",
        "\n",
        "#import dolfin.common.plotting as fenicsplot\n",
        "\n",
        "from matplotlib import pyplot as plt\n",
        "from matplotlib import tri\n",
        "from matplotlib import axes\n",
        "from mpl_toolkits.mplot3d import Axes3D"
      ],
      "execution_count": null,
      "outputs": []
    },
    {
      "cell_type": "markdown",
      "metadata": {
        "id": "gnO3lhAigLev"
      },
      "source": [
        "# **Introduction**"
      ]
    },
    {
      "cell_type": "markdown",
      "metadata": {
        "id": "l5zMzgPlRAF6"
      },
      "source": [
        "For the Jacobi and Gauss-Siedel iterations, we want to solve the following linear equation $Ax = b$. Where $A{\\in}C^{nxn}$ and $b,x{\\in}C^n$. We want to find x. This could be done by just calculating the inverse of $A$, but if this for some reason is not feasible, x can be calculated by an iterative method. Gauss-Seidel and Jacobi are two different such iterative methods.\n",
        "\n",
        "Newton's method for nonlinear scalar equations solves the equation $f(x) = 0$. Where f(x) is a nonlinear scalar function. It does this by iteratively converging on the correct solution for x.\n",
        "\n",
        "The problem investigated in this report is implementing these three methods.\n",
        "\n",
        "For all methods, I decided to have the tolerance be 0.05.\n",
        "\n"
      ]
    },
    {
      "cell_type": "markdown",
      "metadata": {
        "id": "jOQvukXZq5U5"
      },
      "source": [
        "# **Method**"
      ]
    },
    {
      "cell_type": "markdown",
      "metadata": {
        "id": "zF4iBj5VURZx"
      },
      "source": [
        "The three algorithms are written below in code. Tests are formulated for each method which can be run under the results.\n",
        "\n",
        "The implementation for the Jacobi and Gauss-Seidel iterations are implemented in accordance with equation 7.12 in the book.\n",
        "$x^{k+1} = x^{(k)} + {\\alpha}r^{(k)}$\n",
        "\n",
        "Where ${\\alpha} = 1$ and $r^{(k)}$ is equal to\n",
        "* $L^{-1}(b - Ax^{(k)})$ for Gauss-Seidel\n",
        "* $D^{-1}(b - Ax^{(k)})$ for Jacobi\n",
        "\n",
        "Where $D = diag(A)$ and $L$ is the lower triangular matrix of $A$."
      ]
    },
    {
      "cell_type": "code",
      "source": [
        "\n",
        "# Newton's method for scalar nonlinear equation f(x)=0\n",
        "def newtons_method(f, fprim, x0):\n",
        "    x = x0\n",
        "    while(abs(f(x)) > 0.05):\n",
        "        x = x - f(x)/fprim(x)\n",
        "    return x\n",
        "\n",
        "# Gauss seidel iteration\n",
        "def gauss_seidel(A: np.array, b: np.array):\n",
        "    x = np.zeros((A.shape[0], 1))\n",
        "    r = np.zeros((A.shape[0], 1))\n",
        "    L = np.zeros(A.shape)\n",
        "    L_inv = np.zeros(A.shape)\n",
        "    I = np.zeros(A.shape)\n",
        "    # generate L, L inverse and identity matrix\n",
        "    for i in range(A.shape[0]):\n",
        "        I[i,i] = 1\n",
        "        for j in range(A.shape[1] - (A.shape[1]-i-1)):\n",
        "            L[i,j] = A[i,j]\n",
        "    L_inv = np.linalg.inv(L)\n",
        "\n",
        "    while True:\n",
        "        r = np.matmul(A, x)\n",
        "        r = np.subtract(b, r)\n",
        "        r = np.matmul(L_inv, r)\n",
        "        x = np.add(x, r)\n",
        "        if (not (np.linalg.norm(r)/np.linalg.norm(b)) > 0.05):\n",
        "            break\n",
        "    return x\n",
        "\n",
        "# Jacobi iteration\n",
        "# We use the following formula to calculate the iteration matrix and vector\n",
        "# M_j = (I - D_inv * A)\n",
        "# c = D_inv * b\n",
        "def jacobi(A: np.array, b: np.array):\n",
        "    x = np.zeros((A.shape[0], 1))\n",
        "    r = np.zeros((A.shape[0], 1))\n",
        "    D = np.zeros(A.shape)\n",
        "    D_inv = np.zeros(A.shape)\n",
        "    I = np.zeros(A.shape)\n",
        "    # generate D, D inverse and identity matrix\n",
        "    for i in range(A.shape[0]):\n",
        "        D[i,i] = A[i,i]\n",
        "        D_inv[i,i] = 1/A[i,i]\n",
        "        I[i,i] = 1\n",
        "\n",
        "    while True:\n",
        "        r = np.matmul(A, x)\n",
        "        r = np.subtract(b, r)\n",
        "        r = np.matmul(D_inv, r)\n",
        "        x = np.add(x, r)\n",
        "        if (not (np.linalg.norm(r)/np.linalg.norm(b)) > 0.05):\n",
        "            break\n",
        "    return x\n"
      ],
      "metadata": {
        "id": "4a7_Ay3c5TN_"
      },
      "execution_count": null,
      "outputs": []
    },
    {
      "cell_type": "markdown",
      "metadata": {
        "id": "SsQLT38gVbn_"
      },
      "source": [
        "# **Results**"
      ]
    },
    {
      "cell_type": "code",
      "source": [
        "# Newton's method scalar nonlinear equation\n",
        "print(\"Newton: \", newtons_method(np.sin, np.cos, 1), \"\\n\")\n",
        "\n",
        "\n",
        "A = np.array([[4,2],[0,8]])\n",
        "b = np.array([[10],[5]])\n",
        "# Gauss Seidel\n",
        "print(\"Gauss:\\n\", gauss_seidel(A,b), \"\\n\")\n",
        "\n",
        "# Jacobi\n",
        "print(\"Jacobi:\\n\", jacobi(A,b), \"\\n\")\n"
      ],
      "metadata": {
        "id": "Jbhq279gzWcy",
        "colab": {
          "base_uri": "https://localhost:8080/"
        },
        "outputId": "f48b3cab-a645-4026-8fa2-ef0d1d6a220c"
      },
      "execution_count": null,
      "outputs": [
        {
          "output_type": "stream",
          "name": "stdout",
          "text": [
            "Newton:  -9.572191932508134e-05 \n",
            "\n",
            "Gauss:\n",
            " [[2.1875]\n",
            " [0.625 ]] \n",
            "\n",
            "Jacobi:\n",
            " [[2.1875]\n",
            " [0.625 ]] \n",
            "\n"
          ]
        }
      ]
    },
    {
      "cell_type": "markdown",
      "metadata": {
        "id": "RLwlnOzuV-Cd"
      },
      "source": [
        "Here above we see test input to the three functions.\n",
        "\n",
        "For solving the equation sin(x) = 0, newton's method generates a value really close to 0. This means that the iteration converges to the correct solution.\n",
        "\n",
        "For solving the following linear equation\n",
        "\\begin{gather}\n",
        "  \\begin{bmatrix}\n",
        "    4 & 2\\\\\n",
        "    0 & 8\n",
        "  \\end{bmatrix}\n",
        "  \\begin{bmatrix}\n",
        "    x_1\\\\\n",
        "    x_2\n",
        "  \\end{bmatrix}\n",
        "  =\n",
        "  \\begin{bmatrix}\n",
        "    10\\\\\n",
        "    5\n",
        "  \\end{bmatrix}\n",
        "\\end{gather}\n",
        "\n",
        "The Jacobi iteration and Gauss-Seidel iteration generates the solution\n",
        "$x = [2.1875, 0.625]^T$, which is correct."
      ]
    },
    {
      "cell_type": "markdown",
      "metadata": {
        "id": "_4GLBv0zWr7m"
      },
      "source": [
        "# **Discussion**"
      ]
    },
    {
      "cell_type": "markdown",
      "metadata": {
        "id": "6bcsDSoRXHZe"
      },
      "source": [
        "\n",
        "In conclusion, three algorithms have been implmented. These where\n",
        "* Newton's iteration for nonlinear scalar equations\n",
        "* Jacobi iteration\n",
        "* Gauss Seidel iteration\n",
        "\n",
        "All three algorithms worked as expected."
      ]
    }
  ]
}
