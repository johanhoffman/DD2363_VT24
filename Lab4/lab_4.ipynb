{
  "nbformat": 4,
  "nbformat_minor": 0,
  "metadata": {
    "colab": {
      "provenance": []
    },
    "kernelspec": {
      "name": "python3",
      "display_name": "Python 3"
    }
  },
  "cells": [
    {
      "cell_type": "markdown",
      "metadata": {
        "id": "6RgtXlfYO_i7"
      },
      "source": [
        "# **Lab 4: Integration**\n",
        "**Matteus Berg**"
      ]
    },
    {
      "cell_type": "markdown",
      "metadata": {
        "id": "9x_J5FVuPzbm"
      },
      "source": [
        "# **Abstract**"
      ]
    },
    {
      "cell_type": "markdown",
      "metadata": {
        "id": "6UFTSzW7P8kL"
      },
      "source": [
        "Three integration methods are implemented in this report:\n",
        "* 2-point Gauss quadrature\n",
        "* 3-point edge midpoint quadrature\n",
        "* Monte Carlo quadrature\n",
        "\n",
        "The integration methods are then verified by testing"
      ]
    },
    {
      "cell_type": "markdown",
      "metadata": {
        "id": "yJipbXtnjrJZ"
      },
      "source": []
    },
    {
      "cell_type": "markdown",
      "metadata": {
        "id": "OkT8J7uOWpT3"
      },
      "source": [
        "#**About the code**"
      ]
    },
    {
      "cell_type": "markdown",
      "metadata": {
        "id": "HmB2noTr1Oyo"
      },
      "source": [
        "Written by Matteus Berg. Template distributed by Johan Hoffman"
      ]
    },
    {
      "cell_type": "markdown",
      "metadata": {
        "id": "28xLGz8JX3Hh"
      },
      "source": [
        "# **Set up environment**"
      ]
    },
    {
      "cell_type": "markdown",
      "metadata": {
        "id": "D2PYNusD08Wa"
      },
      "source": [
        "To have access to the neccessary modules you have to run this cell. If you need additional modules, this is where you add them."
      ]
    },
    {
      "cell_type": "code",
      "metadata": {
        "id": "Xw7VlErAX7NS"
      },
      "source": [
        "# Load neccessary modules.\n",
        "from google.colab import files\n",
        "\n",
        "import math\n",
        "import time\n",
        "import numpy as np\n",
        "import random\n",
        "\n",
        "#try:\n",
        "#    from dolfin import *; from mshr import *\n",
        "#except ImportError as e:\n",
        "#    !apt-get install -y -qq software-properties-common\n",
        "#    !add-apt-repository -y ppa:fenics-packages/fenics\n",
        "#    !apt-get update -qq\n",
        "#    !apt install -y --no-install-recommends fenics\n",
        "#    from dolfin import *; from mshr import *\n",
        "\n",
        "#import dolfin.common.plotting as fenicsplot\n",
        "\n",
        "from matplotlib import pyplot as plt\n",
        "from matplotlib import tri\n",
        "from matplotlib import axes\n",
        "from mpl_toolkits.mplot3d import Axes3D"
      ],
      "execution_count": null,
      "outputs": []
    },
    {
      "cell_type": "markdown",
      "metadata": {
        "id": "gnO3lhAigLev"
      },
      "source": [
        "# **Introduction**"
      ]
    },
    {
      "cell_type": "markdown",
      "metadata": {
        "id": "l5zMzgPlRAF6"
      },
      "source": [
        "In this paper we implement three different quadrature methods. Quadratures are used to approximate integrals using a number of quadrature points. The quadratures that will be implemented are:\n",
        "1. 2-point gauss quadrature over a unit interval\n",
        "2. Three point edge midpoint quadrature over the reference triangle\n",
        "3. Monte carlo quadrature over the unit interval\n",
        "\n",
        "These three methods are implemented as functions. Tests are then formulated which call upon these functions. The tests are used to verify the correctness of the functions.\n",
        "\n"
      ]
    },
    {
      "cell_type": "markdown",
      "metadata": {
        "id": "jOQvukXZq5U5"
      },
      "source": [
        "# **Method**"
      ]
    },
    {
      "cell_type": "markdown",
      "metadata": {
        "id": "zF4iBj5VURZx"
      },
      "source": [
        "## 2-point Gauss quadrature\n",
        "\n",
        "On page 242 in the book, the 2-point gauss quadrature for the interval $[-1, 1]$ is defined:\n",
        "\n",
        "$\\int_{-1}^1 p(x)dx = p(x_0)w_0 + p(x_1)w_1$\n",
        "\n",
        "Where $w_0 = w_1 = 1$, $x_0 = 1/\\sqrt{3}$, and $x_1 = -1/\\sqrt{3}$.\n",
        "\n",
        "However, we want for the unit interval. So the above formula will not work. We will have to find our own function $\\phi(x)$ such that\n",
        "1. $\\int_0^1 \\phi(x) dx = 0$\n",
        "2. There exists q + 1 = 2 x-values in $[0, 1]$ where $\\phi(x)=0$. These will be our two quadrature points\n",
        "\n",
        "From page 241 in the book we then have the following derivation for a polynomial $p(x) \\in P^{2q + 1}([0, 1])$. That is, a polynomial of degree 3:\n",
        "\n",
        "$\\int_0^1 p(x) = \\int_0^1 \\phi(x)s(x)dx + \\int_0^1r(x) dx = \\int_0^1 r(x)dx = \\text{(from page 240 newton quotes quadratrature derivation)} = \\int_0^1 \\sum_{i=0}^q r(x_i)\\lambda_i(x)dx = \\sum_{i=0}^qr(x_i)\\int_0^1\\lambda_i(x)dx = \\sum_{i=0}^q p(x_i)w_i$\n",
        "\n",
        "Where $\\lambda_i$ is the i:th lagrange polynomial defined on page 194 in the book. Additionally, $p(x) = \\phi(x)s(x) + r(x)$\n",
        "\n",
        "With all of this in mind, the polynomial $-2x^2+2x-\\frac{1}{3}$ satisfies both criterions and will therefore be our $\\phi(x)$ function. Solving for $\\phi(x) = 0$ we get the following two solutions to use as our quadrature points: $x_0 = \\frac{1}{2} - \\frac{1}{\\sqrt{12}}, x_1 = \\frac{1}{2} + \\frac{1}{\\sqrt{12}}$.\n",
        "\n",
        "To get the weights $w_0$ and $w_1$ we calculate $\\int_0^1 \\lambda_0(x) dx$ and $\\int_0^1 \\lambda_1(x) dx$ respectively. For $w_0$ we get that\n",
        "\n",
        "$\\int_0^1 \\lambda_0(x) dx = \\int_0^1 \\frac{x-x_0}{x_0-x_1} dx = \\int_0^1 \\frac{x-\\frac{\\sqrt{12}+2}{2*\\sqrt{12}}}{\\frac{1}{2}+\\frac{1}{\\sqrt{12}}-\\frac{1}{2} + \\frac{1}{\\sqrt{12}}} dx = \\frac{1}{2}$\n",
        "\n",
        "We get that $w_1$ also is equal to $\\frac{1}{2}$.\n",
        "\n",
        "In summary, the final 2-point gauss quadrature is $\\int_0^1p(x)dx = p(x_0)w_0 + p(x_1)w_1$\n",
        "\n",
        "Where $w_0 = w_1 = \\frac{1}{2}, x_0 = \\frac{1}{2} - \\frac{1}{\\sqrt{12}}, x_1 = \\frac{1}{2} + \\frac{1}{\\sqrt{12}}$\n",
        "\n",
        "## 3-point edge midpoint quadrature over a reference triangle\n",
        "For this function we get from the book on page 243 that the weights $w_0, w_1$ and $w_2$ are all equal to $1/6$. Furthermore, the book describes the quadrature points being the \"midpoints of the three edges of the reference triangle\". Meaning we get that $x_0=(0,\\frac{1}{2}), x_1 =(\\frac{1}{2}, 0), x_2=(\\frac{1}{2}, \\frac{1}{2})$.\n",
        "\n",
        "As usual we have $q+1$ quadrature points, meaning that $q=2$. Since we are now integrating in both x and y, we get a double integral. Integrating over the reference triangle can be described with $\\int_0^1 \\int_0^{1-y} p(x) dx dy$. So\n",
        "\n",
        "$\\int_0^1 \\int_0^{1-y} p(\\textbf{x}) dx dy = \\sum_{i=0}^2 p(\\textbf{x}_i)w_i = p(\\textbf{x}_0)w_0 + p(\\textbf{x}_1)w_1 + p(\\textbf{x}_2)w_2$\n",
        "\n",
        "## Monte Carlo quadrature over a unit interval\n",
        "Monte carlo integration is defined on page 268 in the book:\n",
        "\n",
        "$\\int_D g(x)dx \\approx \\frac{1}{n} \\sum_{i=1}^n g(x_i)|D|$\n",
        "\n",
        "Where $D$ is the domain, $n$ the amount of randomly sampled quadrature points and $x_i$ a sample point. This quadrature method uses randomisation to solve deterministic integrals."
      ]
    },
    {
      "cell_type": "code",
      "source": [
        "\n",
        "# 2 point gauss quadrature\n",
        "def twoPointGaussUnitInterval(p):\n",
        "  w0 = 1/2\n",
        "  w1 = 1/2\n",
        "  x0 = 1/2 - 1/math.sqrt(12)\n",
        "  x1 = 1/2 + 1/math.sqrt(12)\n",
        "  return p(x0)*w0 + p(x1)*w1\n",
        "\n",
        "def threeMidpointReferenceTriangle(p):\n",
        "  w0 = 1/6\n",
        "  w1 = 1/6\n",
        "  w2 = 1/6\n",
        "  x0 = np.array([0, 1/2])\n",
        "  x1 = np.array([1/2, 0])\n",
        "  x2 = np.array([1/2, 1/2])\n",
        "\n",
        "  return p(x0)*w0 + p(x1)*w1 + p(x2)*w2\n",
        "\n",
        "def monteCarloUnitInterval(p, n):\n",
        "  a = 0\n",
        "  b = 1\n",
        "  D = b - a\n",
        "  x = np.zeros(n)\n",
        "  random.seed(28)\n",
        "  sum = 0\n",
        "\n",
        "  for i in range(0, n):\n",
        "    x[i] = random.uniform(a, b)\n",
        "    sum = sum + p(x[i]) * D\n",
        "  return sum/n\n",
        "\n",
        "\n",
        "# test 2-point gauss quadrature over unit interval\n",
        "poly = lambda x : x*x*x + x*x\n",
        "print(\"2-point Gauss quadrature test for function p(x) = x^3 + x^2\")\n",
        "print(\"Expected result: \", 7/12)\n",
        "print(\"Actual result: \", twoPointGaussUnitInterval(poly))\n",
        "print(\" \")\n",
        "# test 3-point midpoint quadrature over reference triangle\n",
        "poly = lambda x : x[0]*x[0] + x[1]*x[1] + x[0]*x[1] + x[0] + x[1]\n",
        "print(\"3-point midpoint quadrature test for function p(xhat) = x^2 + y^2 + xy + x + y\")\n",
        "print(\"Expected result: \", 13/24)\n",
        "print(\"Actual result: \", threeMidpointReferenceTriangle(poly))\n",
        "print(\" \")\n",
        "\n",
        "# test monte carlo quadrature over unit interval\n",
        "poly = lambda x : x*x*x\n",
        "print(\"monte carlo quadrature convergence test for function p(x) = x^3\")\n",
        "print(\"Expected result: \", 1/4)\n",
        "print(\"Result for 1/sqrt(n) = 0. <=> n=2        \", monteCarloUnitInterval(poly, 2))\n",
        "print(\"Result for 1/sqrt(n) = 0.0 <=> n=100:    \", monteCarloUnitInterval(poly, 100))\n",
        "print(\"Result for 1/sqrt(n) = 0.00 <=> n=10 000:\", monteCarloUnitInterval(poly, 10000))\n"
      ],
      "metadata": {
        "id": "Yi5x-z7EU5b-",
        "colab": {
          "base_uri": "https://localhost:8080/"
        },
        "outputId": "5f2c5413-faeb-4254-b14c-e5ba2006999f"
      },
      "execution_count": null,
      "outputs": [
        {
          "output_type": "stream",
          "name": "stdout",
          "text": [
            "2-point Gauss quadrature test for function p(x) = x^3 + x^2\n",
            "Expected result:  0.5833333333333334\n",
            "Actual result:  0.5833333333333333\n",
            " \n",
            "3-point midpoint quadrature test for function p(xhat) = x^2 + y^2 + xy + x + y\n",
            "Expected result:  0.5416666666666666\n",
            "Actual result:  0.5416666666666666\n",
            " \n",
            "monte carlo quadrature convergence test for function p(x) = x^3\n",
            "Expected result:  0.25\n",
            "Result for 1/sqrt(n) = 0. <=> n=2         0.0018408728170225975\n",
            "Result for 1/sqrt(n) = 0.0 <=> n=100:     0.2064294825726514\n",
            "Result for 1/sqrt(n) = 0.00 <=> n=10 000: 0.2502733386457965\n"
          ]
        }
      ]
    },
    {
      "cell_type": "markdown",
      "metadata": {
        "id": "SsQLT38gVbn_"
      },
      "source": [
        "# **Results**"
      ]
    },
    {
      "cell_type": "markdown",
      "metadata": {
        "id": "RLwlnOzuV-Cd"
      },
      "source": [
        "From running the code in the method. We can se that\n",
        "1. 2-point gauss quadrature precisely approximates a 3rd degree polynomial p(x) in the unit interval\n",
        "2. 3-point midpoint quadrature precisely approximates a 2nd degree polynomial p(x,y)\n",
        "3. Monte carlo quadrature converges to the exact integral value with the rate $\\frac{1}{\\sqrt{n}}$. Where $n$ is the amount of sampled quadrature points"
      ]
    },
    {
      "cell_type": "markdown",
      "metadata": {
        "id": "_4GLBv0zWr7m"
      },
      "source": [
        "# **Discussion**\n"
      ]
    },
    {
      "cell_type": "markdown",
      "metadata": {
        "id": "6bcsDSoRXHZe"
      },
      "source": [
        "All implemented algorithms behaved as expected. Running the monte carlo integral for n = 10^8 to further verify the convergence rate was attempted. However, the execution time became longer than 10 seconds then, so that test was exempted from the code."
      ]
    }
  ]
}
