{
  "nbformat": 4,
  "nbformat_minor": 0,
  "metadata": {
    "colab": {
      "provenance": [],
      "gpuType": "T4",
      "authorship_tag": "ABX9TyNg5N8ddbK/DgoaGyAZ1mrQ",
      "include_colab_link": true
    },
    "kernelspec": {
      "name": "python3",
      "display_name": "Python 3"
    },
    "language_info": {
      "name": "python"
    },
    "accelerator": "GPU"
  },
  "cells": [
    {
      "cell_type": "markdown",
      "metadata": {
        "id": "view-in-github",
        "colab_type": "text"
      },
      "source": [
        "<a href=\"https://colab.research.google.com/github/johanhoffman/DD2363_VT24/blob/chmntz_Lab4/Lab4/chmntz_Lab4.ipynb\" target=\"_parent\"><img src=\"https://colab.research.google.com/assets/colab-badge.svg\" alt=\"Open In Colab\"/></a>"
      ]
    },
    {
      "cell_type": "markdown",
      "source": [
        "# **Lab 4: Integration**\n",
        "Carl **Chemnitz**"
      ],
      "metadata": {
        "id": "oHNEQeeSy-pd"
      }
    },
    {
      "cell_type": "markdown",
      "source": [
        "# **Abstract**\n",
        "This lab is about numerical intergration, *quadrature*, an important field of computational mathematics. This lab discusses and implements the Gauss quadrature rule and Monte Carlo integration."
      ],
      "metadata": {
        "id": "8Ix_n1wjzyFd"
      }
    },
    {
      "cell_type": "markdown",
      "source": [
        "# **Set up environment**\n",
        "To have access to the neccessary modules you have to run this cell."
      ],
      "metadata": {
        "id": "NMtD_A1-0M5E"
      }
    },
    {
      "cell_type": "code",
      "source": [
        "from google.colab import files\n",
        "\n",
        "import numpy as np\n",
        "import scipy as sp\n",
        "import math\n",
        "import matplotlib.pyplot as plt\n",
        "\n",
        "from typing import Callable\n",
        "from sympy import integrate, Symbol\n",
        "\n",
        "X = Symbol('x')\n",
        "Y = Symbol('y')"
      ],
      "metadata": {
        "id": "42WdEwvr0yWu"
      },
      "execution_count": 1,
      "outputs": []
    },
    {
      "cell_type": "markdown",
      "source": [
        "# **Introduction**\n",
        "\n",
        "Integration is an important field of calculus and often describes some density over an interval. In numerical analysis *quadratures* is the numerical approximation of integrals. All numerical methods that approximates an integral follows the *quadrature rule*,\n",
        "\\begin{equation}\n",
        "    \\int_{a}^{b}f(x)dx\\approx\\sum_{i=0}^{n}f(x_i)w_i,\n",
        "    \\tag{11.2}\n",
        "\\end{equation}\n",
        "with $n+1$ quadrature points $x_i\\in[a,b]$ and quadrature weights $w_i\\in R$, as given in *Methods in Computational Science*, Theorem (11.2).\n",
        "\n",
        "Gauss quadrature is a quadrature rule that gives exact results for polynomial integrals up to degree $2n+1$. Gauss quadrature rule defined on the interval $[-1,1]$.\n",
        "\n",
        "Stochastic methods are methods that are based on random sampling. One such method is Monte Carlo intergration."
      ],
      "metadata": {
        "id": "Q2EhuZ111cMp"
      }
    },
    {
      "cell_type": "markdown",
      "source": [
        "# **Method**"
      ],
      "metadata": {
        "id": "QOxdR6NS6cBc"
      }
    },
    {
      "cell_type": "markdown",
      "source": [
        "## 2-point Gauss quadrature over a unit interval\n",
        "The 2-point Gauss rule on the interval $[-1,1]$ is defined as\n",
        "$$\\int_{-1}^{1}f(x)dx\\approx f(x_0)w_0+f(x_1)w_1.$$\n",
        "To integrate over an arbitrary interval $[a,b]$, we need to construct a map transformation function,\n",
        "$$g:[a,b]\\rightarrow[-1,1].$$\n",
        "This gives us the function\n",
        "$$\\int_{a}^{b}f(x)dx\\approx\\frac{b-a}{2}\\sum_{i=0}^{1}f(\\frac{b-a}{2}x_i+\\frac{a+b}{2})w_i,$$\n",
        "for the interval $[a,b]$. Example 11.3 in *Methods in Computational Science*, the weights are given as $w_0=w_1=1$ and $x_0=1/\\sqrt{3}$ and $x_1=-1/\\sqrt{3}$. This gives that he 2-point quadrature over an interval $[a,b]$ is\n",
        "$$\\int_a^bf(x)dx\\approx\\frac{b-a}{2}\\Big(f(\\frac{b-a}{2}(\\frac{1}{\\sqrt{3}})+\\frac{a+b}{2})+f(\\frac{b-a}{2}(-\\frac{1}{\\sqrt{3}})+\\frac{a+b}{2})\\Big)$$\n",
        "\n",
        "To avoid computing $1/\\sqrt{3}$, the value was approximated instead, $1/\\sqrt{3}=0.57735026919$."
      ],
      "metadata": {
        "id": "opZXGvu9uupZ"
      }
    },
    {
      "cell_type": "code",
      "source": [
        "def gauss_2_quad(f: Callable, a: float, b: float) -> float:\n",
        "    # 1 / sqrt(3) ≈ 0.57735026919\n",
        "    # w1 = w2 = 1\n",
        "    wfx1 = f(0.5 * ((b - a) * (0.57735026919) + (b + a)))\n",
        "    wfx2 = f(0.5 * ((b - a) * (-0.57735026919) + (b + a)))\n",
        "    return 0.5 * (b - a) * (wfx1 + wfx2)"
      ],
      "metadata": {
        "id": "SKa3EWxxW-41"
      },
      "execution_count": 2,
      "outputs": []
    },
    {
      "cell_type": "markdown",
      "source": [
        "## 3-point edge midpoint quadrature over a reference triangle\n",
        "3-point edge midpoint quadrature over a reference triangle is an 3-point Gauss quadrature with the weights $w_0=w_1=w_2=1/6$ and with the quadrature points $(x_i,y_i)$ at the midpoints of the edges of the reference triangle.\n",
        "$$\\int_{\\triangle_r}f(x,y)dxdy\\approx\\sum_{i=0}^{2}f(x_i,y_i)w_i.$$\n",
        "The reference triangle is defined as $\\triangle_r=([1,0],[0,1],[0,0])$, thus it follows that the midpoints $(x_i,y_i)=\\Big((\\frac12,0),(0,\\frac12),(\\frac12,\\frac12)\\Big)$, which gives\n",
        "$$\\int_{\\triangle_r}f(x,y)dxdy\\approx \\frac16f(\\frac12,0)+\\frac16f(0,\\frac12)+\\frac16f(\\frac12,\\frac12)=\\frac16\\Big(f(\\frac12,0)+f(0,\\frac12)+f(\\frac12,\\frac12)\\Big)$$"
      ],
      "metadata": {
        "id": "pxXckGSRu5BJ"
      }
    },
    {
      "cell_type": "code",
      "source": [
        "def edge_midpoint_3_point(f: Callable) -> float:\n",
        "    wfx1 = 0.16666666667 * f(0.5, 0.0)\n",
        "    wfx2 = 0.16666666667 * f(0.0, 0.5)\n",
        "    wfx3 = 0.16666666667 * f(0.5, 0.5)\n",
        "    return wfx1 + wfx2 + wfx3"
      ],
      "metadata": {
        "id": "vS46SwdkqFxB"
      },
      "execution_count": 3,
      "outputs": []
    },
    {
      "cell_type": "markdown",
      "source": [
        "## Monte Carlo quadrature over a unit interval\n",
        "\n",
        "Monte Carlo intergration is an randomized algorithm to approximate the integral\n",
        "$$\\int_Df(x)dx,$$\n",
        "where $D$ is a subset of $R^d$. It approximates the integral by selecting random quadrature points and computing the mean. It is based on the *law of large numbers*, for large $n$, the mean approaches the expected value\n",
        "$$g=\\frac{1}{n}\\sum_{i=1}^{n}f(x_i),\\hspace{1em}E[g]=\\frac{1}{|D|}\\int_Df(x)dx.$$\n",
        "Monte Carlo integration is defined as\n",
        "$$\\int_{D}f(x)dx\\approx\\frac{|D|}{n}\\sum_{i=0}^{n}f(x_i)=\\frac{1}{n}\\sum_{i=0}^{n}f(x_i)|D|.$$"
      ],
      "metadata": {
        "id": "Bt9szejJu-el"
      }
    },
    {
      "cell_type": "code",
      "source": [
        "def monte_carlo_int(f: Callable, a: float, b: float, n: int = 10000) -> float:\n",
        "    sum = 0\n",
        "    for i in range(n):\n",
        "        x_i = np.random.uniform(a, b)\n",
        "        sum += f(x_i)\n",
        "    return (b - a) / n * sum"
      ],
      "metadata": {
        "id": "75xhY2gDkSLM"
      },
      "execution_count": 4,
      "outputs": []
    },
    {
      "cell_type": "markdown",
      "source": [
        "## Monte Carlo quadrature over a reference triangle\n",
        "\n",
        "To apply Monte Carlo integration over a reference triangle we need to construct an algorithm to sample random point on the triangle. In this lab, I implemented an algorithm described in [this paper](zhttps://www.cs.princeton.edu/~funk/tog02.pdf) (section 4.2). It gives a random sample point that is inside three given points that define a triangle."
      ],
      "metadata": {
        "id": "ahceYMNYIAMP"
      }
    },
    {
      "cell_type": "code",
      "source": [
        "def triangle_sampling(A: np.array, B: np.array, C: np.array) -> np.array:\n",
        "    r = np.random.uniform(0, 1)\n",
        "    s = np.random.uniform(0, 1)\n",
        "    eps_a = 1.0 - np.sqrt(s)\n",
        "    eps_b = (1.0 - r) * np.sqrt(s)\n",
        "    eps_c = r * np.sqrt(s)\n",
        "    x_i = eps_a * A[0] + eps_b * B[0] + eps_c * C[0]\n",
        "    y_i = eps_a * A[1] + eps_b * B[1] + eps_c * C[1]\n",
        "    return np.array([x_i, y_i])"
      ],
      "metadata": {
        "id": "7PdkrWEcSswi"
      },
      "execution_count": 5,
      "outputs": []
    },
    {
      "cell_type": "markdown",
      "source": [
        "When applying Monte Carlo integration over a reference triangle, the function is defined as\n",
        "$$\\int_{\\triangle}f(x,y)dydx\\approx\\frac{\\text{Area}(\\triangle)}{n}\\sum_{i=0}^{n}f(x_i,y_i),$$\n",
        "as given in section 9 of [this paper](https://people.sc.fsu.edu/~jburkardt/presentations/cg_lab_monte_carlo_triangles.pdf)."
      ],
      "metadata": {
        "id": "uxbpxpZXUlx1"
      }
    },
    {
      "cell_type": "code",
      "source": [
        "def monte_carlo_int_triangle(f: Callable, A: np.array, B: np.array, C: np.array, n: int = 50000) -> float:\n",
        "    sum = 0\n",
        "    # a = np.sqrt((B[0] - C[0])**2 + (B[1] - C[1])**2)\n",
        "    # b = np.sqrt((A[0] - C[0])**2 + (A[1] - C[1])**2)\n",
        "    # c = np.sqrt((A[0] - B[0])**2 + (A[1] - B[1])**2)\n",
        "    # s = (a + b + c) / 2\n",
        "    # area = np.sqrt(s * (s - a) * (s - b) * (s - c)) # Herons formula\n",
        "    area = 0.5\n",
        "    for i in range(n):\n",
        "        p = triangle_sampling(A, B, C)\n",
        "        sum += f(p[0], p[1])\n",
        "    return area * sum / n"
      ],
      "metadata": {
        "id": "lTHRxFG7ZRR6"
      },
      "execution_count": 6,
      "outputs": []
    },
    {
      "cell_type": "markdown",
      "source": [
        "# **Tests**"
      ],
      "metadata": {
        "id": "jNXufPszg7K7"
      }
    },
    {
      "cell_type": "markdown",
      "source": [
        "## 2-point Gauss quadrature over a unit interval\n",
        "We define a random cubic polynomial $ax^3+bx^2+cx+d$."
      ],
      "metadata": {
        "id": "phLmedMeg9JO"
      }
    },
    {
      "cell_type": "code",
      "source": [
        "c = np.random.randint(10, size=4)\n",
        "f = lambda x : c[3]*x**3 + c[2]*x**2 + c[1]*x + c[0]"
      ],
      "metadata": {
        "id": "dYaopsf4hEB8"
      },
      "execution_count": 7,
      "outputs": []
    },
    {
      "cell_type": "markdown",
      "source": [
        "We compare the approximation from the implemented algorithm and the built-in `scipy.integrate.quad` to check if the implementation yields the expected result."
      ],
      "metadata": {
        "id": "cCCXQc0DiajP"
      }
    },
    {
      "cell_type": "code",
      "source": [
        "assert np.allclose(gauss_2_quad(f, 0, 1), sp.integrate.quad(f, 0, 1)[0])\n",
        "print(\"'gauss_2_quad' was implemented successfully\")"
      ],
      "metadata": {
        "id": "sDWkDy-Xkhx6",
        "colab": {
          "base_uri": "https://localhost:8080/"
        },
        "outputId": "956ffc24-cb5b-4864-dd47-07e9e4230c25"
      },
      "execution_count": 8,
      "outputs": [
        {
          "output_type": "stream",
          "name": "stdout",
          "text": [
            "'gauss_2_quad' was implemented successfully\n"
          ]
        }
      ]
    },
    {
      "cell_type": "markdown",
      "source": [
        "## 3-point edge midpoint quadrature over a reference triangle\n",
        "We define a function\n",
        "$$f(x,y)=ax^2+bx^2+cxy+dx+ey+g,$$\n",
        "and integrate it, which yields\n",
        "\\begin{align*}\n",
        "\\int_{\\triangle}f(x,y)dydx\n",
        "& =\\int_0^1\\int_0^{1-x}f(x,y)dydx \\\\\n",
        "& =\\int_0^1\\int_0^{1-x}ax^2+bx^2+cxy+dx+ey+g\\hspace{0.5em}dydx\n",
        "\\end{align*}"
      ],
      "metadata": {
        "id": "KTA2cGVLrPHy"
      }
    },
    {
      "cell_type": "code",
      "source": [
        "c = np.random.randint(10, size=6)\n",
        "f = lambda x, y : c[5]*x**2 + c[4]*y**2 + c[3]*x*y + c[2]*x + c[1]*y + c[0]"
      ],
      "metadata": {
        "id": "oJaii3A3rX2W"
      },
      "execution_count": 9,
      "outputs": []
    },
    {
      "cell_type": "markdown",
      "source": [
        "We check if the algorithm yields an approximation that approaches the exact solution."
      ],
      "metadata": {
        "id": "RoONMY3YdzXl"
      }
    },
    {
      "cell_type": "code",
      "source": [
        "exact = float(integrate(c[5]*X**2 + c[4]*Y**2 + c[3]*X*Y + c[2]*X + c[1]*Y + c[0], (Y, 0, 1-X), (X, 0, 1)))\n",
        "assert np.allclose(edge_midpoint_3_point(f), exact)\n",
        "print(\"'edge_midpoint_3_point' was implemented successfully\")"
      ],
      "metadata": {
        "id": "4bshfsw5rZqP",
        "colab": {
          "base_uri": "https://localhost:8080/"
        },
        "outputId": "c3d9ce60-b6d5-47c2-bbc1-781dea40f51c"
      },
      "execution_count": 10,
      "outputs": [
        {
          "output_type": "stream",
          "name": "stdout",
          "text": [
            "'edge_midpoint_3_point' was implemented successfully\n"
          ]
        }
      ]
    },
    {
      "cell_type": "markdown",
      "source": [
        "## Monte-Carlo quadrature over a unit interval\n",
        "We create random polynomial $f(x)=ax^2+bx+c$."
      ],
      "metadata": {
        "id": "vE6VtkRAoPuP"
      }
    },
    {
      "cell_type": "code",
      "source": [
        "c = np.random.randint(10, size=3)\n",
        "f = lambda x : c[2]*x**2 + c[1]*x + c[0]\n",
        "exact = sp.integrate.quad(f, 0, 1)[0]"
      ],
      "metadata": {
        "id": "42nJ5DiroVWM"
      },
      "execution_count": 11,
      "outputs": []
    },
    {
      "cell_type": "markdown",
      "source": [
        "We calculate the error $|\\frac{|D|}{n}\\sum_{i=0}^{n}f(x_i)-\\int_{D}f(x)dx|$ for a range of quadrature points $n$ and then plot the error alongside the $1/\\sqrt{n}$ to verify the convergance rate."
      ],
      "metadata": {
        "id": "CBneR7mcjJ9j"
      }
    },
    {
      "cell_type": "code",
      "source": [
        "err = []\n",
        "quad_points = range(100, 100100, 1000)\n",
        "for n in quad_points:\n",
        "    err.append(abs(monte_carlo_int(f, 0, 1, n) - exact))\n",
        "plt.plot(quad_points, err)\n",
        "plt.plot(quad_points, 1 / np.sqrt(quad_points))\n",
        "plt.show()"
      ],
      "metadata": {
        "id": "grilIL7VppCu",
        "colab": {
          "base_uri": "https://localhost:8080/",
          "height": 430
        },
        "outputId": "37bfba1e-f6ee-4b37-fea8-894180645366"
      },
      "execution_count": 12,
      "outputs": [
        {
          "output_type": "display_data",
          "data": {
            "text/plain": [
              "<Figure size 640x480 with 1 Axes>"
            ],
            "image/png": "[encoded data removed]"
          },
          "metadata": {}
        }
      ]
    },
    {
      "cell_type": "markdown",
      "source": [
        "## Monte Carlo quadrature over a reference triangle\n",
        "We create random polynomial $f(x,y)=ax^2+bx^2+cxy+dx+ey+g$."
      ],
      "metadata": {
        "id": "_S2-Y3nGK52C"
      }
    },
    {
      "cell_type": "code",
      "source": [
        "c = np.random.randint(10, size=6)\n",
        "f = lambda x, y : c[5]*x**2 + c[4]*y**2 + c[3]*x*y + c[2]*x + c[1]*y + c[0]\n",
        "exact = float(integrate(c[5]*X**2 + c[4]*Y**2 + c[3]*X*Y + c[2]*X + c[1]*Y + c[0], (Y, 0, 1-X), (X, 0, 1)))"
      ],
      "metadata": {
        "id": "dVjLlU_pK9Pm"
      },
      "execution_count": 13,
      "outputs": []
    },
    {
      "cell_type": "markdown",
      "source": [
        "We calculate the error $|\\frac{\\text{Area}(\\triangle)}{n}\\sum_{i=0}^{n}f(x_i,y_i)-\\int_{D}f(x,y)dydx|$ for a range of quadrature points $n$ and then plot the error over quadrature points alongside the $1/\\sqrt{n}$ to verify the convergance rate.\n",
        "We use the previous exact solution that was calculated in previous test,\n",
        "\\begin{align*}\n",
        "\\int_{\\triangle}f(x,y)dydx\n",
        "& =\\int_0^1\\int_0^{1-x}f(x,y)dydx \\\\\n",
        "& =\\int_0^1\\int_0^{1-x}ax^2+bx^2+cxy+dx+ey+g\\hspace{0.5em}dydx\n",
        "\\end{align*}"
      ],
      "metadata": {
        "id": "fc59Wk5YmQuW"
      }
    },
    {
      "cell_type": "code",
      "source": [
        "err = []\n",
        "quad_points = range(100, 100100, 1000)\n",
        "for n in quad_points:\n",
        "    err.append(abs(monte_carlo_int_triangle(f, [1, 0], [0, 1], [0, 0], n) - exact))\n",
        "plt.plot(quad_points, err)\n",
        "plt.plot(quad_points, 1 / np.sqrt(quad_points))\n",
        "plt.show()"
      ],
      "metadata": {
        "id": "z3OVcf72Vc0k",
        "colab": {
          "base_uri": "https://localhost:8080/",
          "height": 430
        },
        "outputId": "468eed27-4849-4ff0-a763-81d0de67b4d8"
      },
      "execution_count": 14,
      "outputs": [
        {
          "output_type": "display_data",
          "data": {
            "text/plain": [
              "<Figure size 640x480 with 1 Axes>"
            ],
            "image/png": "[encoded data removed]"
          },
          "metadata": {}
        }
      ]
    },
    {
      "cell_type": "markdown",
      "source": [
        "# **Discussion**\n",
        "The Gauss quadrature rule gives approximates that are very close\n",
        "to exact solution, which is expected. However, the Monte Carlo algorithm was much less accurate than I expected. In this lab, I have difficulty to see the benefits that Stochastic methods are supposed to have when solving deterministic computational problems. However, they did follow the convergence rate. They could probably have benefitted majorly by implementing parallelization in the algorithm. This is possible as we are taking random point that are not dependant on any other point sampled previously. Although, a uniform distribution is still important.\n",
        "\n",
        "Monte Carlo intergration requires uniform distributed random quadrature points $x_i$, thus `random.uniform` had to be used when implementing the algorithms."
      ],
      "metadata": {
        "id": "oX43f7ATJn_Y"
      }
    }
  ]
}