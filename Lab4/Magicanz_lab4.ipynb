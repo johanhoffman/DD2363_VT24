{
  "nbformat": 4,
  "nbformat_minor": 0,
  "metadata": {
    "colab": {
      "provenance": []
    },
    "kernelspec": {
      "name": "python3",
      "display_name": "Python 3"
    }
  },
  "cells": [
    {
      "cell_type": "markdown",
      "metadata": {
        "id": "view-in-github"
      },
      "source": [
        "<a href=\"https://colab.research.google.com/github/johanhoffman/DD2363_VT23/blob/main/template-report-lab-X.ipynb\" target=\"_parent\"><img src=\"https://colab.research.google.com/assets/colab-badge.svg\" alt=\"Open In Colab\"/></a>"
      ]
    },
    {
      "cell_type": "markdown",
      "metadata": {
        "id": "6RgtXlfYO_i7"
      },
      "source": [
        "# **Lab 4: Integration**\n",
        "**Teo Nordström**"
      ]
    },
    {
      "cell_type": "markdown",
      "metadata": {
        "id": "9x_J5FVuPzbm"
      },
      "source": [
        "# **Abstract**"
      ]
    },
    {
      "cell_type": "markdown",
      "metadata": {
        "id": "yJipbXtnjrJZ"
      },
      "source": [
        "This file contains the solutions to the three mandatory problems from Lab4 in DD2363, in addition to the solution to one of the optional problems. It is based upon pseudocode and info found in *Methods in Computational Science* by Johan Hoffman (2021)"
      ]
    },
    {
      "cell_type": "markdown",
      "metadata": {
        "id": "OkT8J7uOWpT3"
      },
      "source": [
        "#**About the code**"
      ]
    },
    {
      "cell_type": "markdown",
      "metadata": {
        "id": "HmB2noTr1Oyo"
      },
      "source": [
        "A short statement on who is the author of the file, and if the code is distributed under a certain license."
      ]
    },
    {
      "cell_type": "code",
      "metadata": {
        "id": "Pdll1Xc9WP0e",
        "colab": {
          "base_uri": "https://localhost:8080/",
          "height": 35
        },
        "outputId": "b8f8a2c6-f462-4add-81bb-fd03737f124e"
      },
      "source": [
        "\"\"\"This file is based on a template for lab reports in the course\"\"\"\n",
        "\"\"\"DD2363 Methods in Scientific Computing, \"\"\"\n",
        "\"\"\"KTH Royal Institute of Technology, Stockholm, Sweden.\"\"\"\n",
        "\n",
        "# TEMPLATE INFO:\n",
        "# Copyright (C) 2020 Johan Hoffman (jhoffman@kth.se)\n",
        "\n",
        "# This file is part of the course DD2365 Advanced Computation in Fluid Mechanics\n",
        "# KTH Royal Institute of Technology, Stockholm, Sweden\n",
        "#\n",
        "# This is free software: you can redistribute it and/or modify\n",
        "# it under the terms of the GNU Lesser General Public License as published by\n",
        "# the Free Software Foundation, either version 3 of the License, or\n",
        "# (at your option) any later version.\n",
        "\n",
        "# This template is maintained by Johan Hoffman\n",
        "# Please report problems to jhoffman@kth.se\n",
        "\n",
        "# CODE INFO:\n",
        "# Code written by Teo Nordström 2024, no license."
      ],
      "execution_count": 22,
      "outputs": [
        {
          "output_type": "execute_result",
          "data": {
            "text/plain": [
              "'KTH Royal Institute of Technology, Stockholm, Sweden.'"
            ],
            "application/vnd.google.colaboratory.intrinsic+json": {
              "type": "string"
            }
          },
          "metadata": {},
          "execution_count": 22
        }
      ]
    },
    {
      "cell_type": "markdown",
      "metadata": {
        "id": "28xLGz8JX3Hh"
      },
      "source": [
        "# **Set up environment**"
      ]
    },
    {
      "cell_type": "markdown",
      "metadata": {
        "id": "D2PYNusD08Wa"
      },
      "source": [
        "These are the neccessary modules for everything in this file to work."
      ]
    },
    {
      "cell_type": "code",
      "metadata": {
        "id": "Xw7VlErAX7NS"
      },
      "source": [
        "from google.colab import files\n",
        "\n",
        "import numpy as np\n",
        "\n",
        "from matplotlib import pyplot as plt\n"
      ],
      "execution_count": 23,
      "outputs": []
    },
    {
      "cell_type": "markdown",
      "metadata": {
        "id": "gnO3lhAigLev"
      },
      "source": [
        "# **Introduction**"
      ]
    },
    {
      "cell_type": "markdown",
      "metadata": {
        "id": "l5zMzgPlRAF6"
      },
      "source": [
        "All solutions will be partially or entirely based upon the book *Methods in Computational Science* by Johan Hoffman (2021). In the text, it will be referred to as the \"course book\".\n",
        "\n",
        "# 2-Point Gauss Quadrature Over Unit Interval\n",
        "Gauss Quadrature is a method for numerical integration that can be used to approximate or solve integrations of functions. The gauss quadrature in specific uses Gauss points from the Legendre polynomials which enables it to used $q$ points to exactly solve any integrals with degree of up to $2q - 1$. It works on an interval $[-1, 1]$ meaning we have to change the interval to get results for a unit interval ($[0, 1]$). For a specifically 2-point Gauss Quadrature we can exactly solve up to cubic integrals, and for this we have to use the Gauss points $\\frac{1}{\\sqrt{3}}$ and $-\\frac{1}{\\sqrt{3}}$ together with the weights $w_0 = w_1 = 1$.\n",
        "\n",
        "# 3-Point Edge Midpoint Quadrature Over a Reference Triangle\n",
        "The 3-point edge midpoint quadrature is a method of using the Gauss rule to find integrals in 2D triangles, specifically in this case on the reference triangle. We can see from example 11.5 and figure 11.3 in the course book how this is supposed to be set up, with the quadrature points as the midpoints of the lines ($(\\frac{1}{2}, 0), (0, \\frac{1}{2}), (\\frac{1}{2}, \\frac{1}{2})$ for the reference triangle) and weights for each being $\\frac{1}{6}$.\n",
        "\n",
        "\n",
        "# Monte Carlo Quadrature Over a Unit Interval\n",
        "\n",
        "\n",
        "# Least-Squares Problem (bonus)\n",
        "\n",
        "\n"
      ]
    },
    {
      "cell_type": "markdown",
      "metadata": {
        "id": "jOQvukXZq5U5"
      },
      "source": [
        "# **Method**"
      ]
    },
    {
      "cell_type": "markdown",
      "metadata": {
        "id": "zF4iBj5VURZx"
      },
      "source": [
        "# 2-Point Gauss Quadrature Over Unit Interval\n",
        "In what is probably the shortest solution to any problem in this course, we have the 2-Point Gauss Quadrature over the Unit Interval. Coming in at a whopping two lines, this implementation uses a coordinate mapping $F:[-1, 1]\\rightarrow [0, 1]$ where $F(x) = \\frac{1 + x}{2}$. We translate the limits, gauss points and weights using this mapping, and multiply the results by the Jacobian $\\frac{1}{2}$ :to get the final function."
      ]
    },
    {
      "cell_type": "code",
      "source": [
        "def gauss_quadrature(f):\n",
        "    return f((1 + 1 / 3**(1/2)) / 2) / 2 + f((1 - 1 / 3**(1/2)) / 2) / 2\n",
        "\n",
        "\n",
        "def gs_f(x):\n",
        "    return x**3 + x**2 + x\n",
        "\n",
        "\n",
        "print(gauss_quadrature(gs_f))"
      ],
      "metadata": {
        "colab": {
          "base_uri": "https://localhost:8080/"
        },
        "id": "s_EGvvispQuP",
        "outputId": "dd2b3778-7cd3-485b-a02d-1ea2035c982c"
      },
      "execution_count": 24,
      "outputs": [
        {
          "output_type": "stream",
          "name": "stdout",
          "text": [
            "1.0833333333333333\n"
          ]
        }
      ]
    },
    {
      "cell_type": "markdown",
      "source": [
        "#3-Point Edge Midpoint Quadrature Over a Reference Triangle\n",
        "In a twist of fate this implementation was EVEN SHORTER. With midpoints at easy points for a reference triangle, we only have to add the function value of the three points together and multiply them with their weights, but since all three have the same weight $\\frac{1}{6}$ we can just divide the sum by $6$ to get the integral over the reference triangle."
      ],
      "metadata": {
        "id": "egnKCwCGvQj5"
      }
    },
    {
      "cell_type": "code",
      "source": [
        "def edge_midpoint_quadrature(f):\n",
        "    return (f(0, 0.5) + f(0.5, 0) + f(0.5, 0.5)) / 6\n",
        "\n",
        "\n",
        "def em_f(x, y):\n",
        "    return x**2 + y**2 + x*y + x + y + 1\n",
        "\n",
        "\n",
        "print(edge_midpoint_quadrature(em_f))"
      ],
      "metadata": {
        "colab": {
          "base_uri": "https://localhost:8080/"
        },
        "id": "0pAJtD9Kv4bn",
        "outputId": "6d347a64-af3b-4fca-bfcb-66f8ef526f81"
      },
      "execution_count": 25,
      "outputs": [
        {
          "output_type": "stream",
          "name": "stdout",
          "text": [
            "1.0416666666666667\n"
          ]
        }
      ]
    },
    {
      "cell_type": "markdown",
      "source": [
        "# Monte Carlo Quadrature Over a Unit Interval\n",
        "\n",
        "Monte Carlo Quadrature is a probabilistic way of figuring out the integral of a function. To find the integral over a unit interval you essentially just test a bunch of places from within the range and then divide the sum of all of these values by the amount of probed places. This is done on the form $\\int_a^b f(x)dx ≈ \\frac{1}{n} \\sum_{i=1}^n f(x_i)|D|$ where $|D| = |b - a|$ which in our case means $|D| = 1$."
      ],
      "metadata": {
        "id": "M6FR-GNhzsPT"
      }
    },
    {
      "cell_type": "code",
      "source": [
        "def monte_carlo_quadrature(f, points=256):\n",
        "    func_sum = 0\n",
        "    for i in range(points):\n",
        "        x = np.random.uniform(0, 1)\n",
        "        func_sum += f(x)\n",
        "    return func_sum / points\n",
        "\n",
        "\n",
        "def mc_f(x):\n",
        "    return x**3 + x**2 + x + 1\n",
        "\n",
        "\n",
        "print(monte_carlo_quadrature(mc_f))"
      ],
      "metadata": {
        "colab": {
          "base_uri": "https://localhost:8080/"
        },
        "id": "XIULzY2Y2C7O",
        "outputId": "2cc32b64-9d39-4c2f-827c-b27966e0bf1b"
      },
      "execution_count": 27,
      "outputs": [
        {
          "output_type": "stream",
          "name": "stdout",
          "text": [
            "2.088548285897071\n"
          ]
        }
      ]
    },
    {
      "cell_type": "markdown",
      "source": [
        "# Monte Carlo Quadrature Over a Reference Triangle (bonus)\n",
        "\n",
        "Monte Carlo Quadrature Over a Reference Triangle is a variant of the same function over the unit interval, with the difference being that we now have to check the function in two dimensions. We have to make sure to check so that the chosen coordinates are inside of the triangle, if they are not we fold the square upon itself so all positions within the unit square have a position in the triangle, without changing the probability of any specific point to be chosen. Because of this however we have to divide each function value in half, since the unit square has an area double the size of the reference triangle."
      ],
      "metadata": {
        "id": "yP5CY3YJ2m4c"
      }
    },
    {
      "cell_type": "code",
      "source": [
        "def monte_carlo_quadrature_ref_triangle(f, points=256):\n",
        "    func_sum = 0\n",
        "    for i in range(points):\n",
        "        x = np.random.uniform(0, 1)\n",
        "        y = np.random.uniform(0, 1)\n",
        "        if x + y > 1:\n",
        "            func_sum += f(1-y, 1-x) / 2\n",
        "        else:\n",
        "            func_sum += f(x, y) / 2\n",
        "    return func_sum / points\n",
        "\n",
        "\n",
        "def mcr_f(x, y):\n",
        "    return x**2 + y**2 + x*y + x + y + 1\n",
        "\n",
        "\n",
        "print(monte_carlo_quadrature_ref_triangle(mcr_f))"
      ],
      "metadata": {
        "id": "2FdxcPeL4QL-"
      },
      "execution_count": 25,
      "outputs": []
    },
    {
      "cell_type": "markdown",
      "metadata": {
        "id": "SsQLT38gVbn_"
      },
      "source": [
        "# **Results**"
      ]
    },
    {
      "cell_type": "markdown",
      "metadata": {
        "id": "RLwlnOzuV-Cd"
      },
      "source": [
        "In this section tests will be performed to verify that the solutions are correct\n",
        "\n",
        "# 2-Point Gauss Quadrature Over Unit Interval\n",
        "To test the 2-Point Gauss Quadrature we begin by creating a polynomial of degree 3 with 4 different constants $c_0, c_1, c_2, c_3 ∈ c$ on the form $c_0x^3 + c_1x^2 + c_2x + c_3$. The integral of this over the range $[0, 1]$ is $\\frac{c_0}{4} + \\frac{c_1}{3} + \\frac{c_2}{2} + c_3$ which will be what we test againt to see that the answers correspond. As is visible, we mostly get exact zeroes, though occasionally we get a value that can be chalked down to a rounding error or float precision error.  \n"
      ]
    },
    {
      "cell_type": "code",
      "source": [
        "def gq_test(iters):\n",
        "    for test in range(iters):\n",
        "        c = [np.random.rand() * 20 - 10 for _ in range(4)]\n",
        "\n",
        "        def f(x):\n",
        "            return c[0] * x**3 + c[1] * x**2 + c[2] * x + c[3]\n",
        "\n",
        "        integral = c[0] / 4 + c[1] / 3 + c[2] / 2 + c[3]\n",
        "\n",
        "        diff = np.abs(gauss_quadrature(f) - integral)\n",
        "\n",
        "        print(f\"Test {test+1}, Difference = {diff}\")\n",
        "\n",
        "\n",
        "gq_test(5)"
      ],
      "metadata": {
        "colab": {
          "base_uri": "https://localhost:8080/"
        },
        "id": "z5LMH60OBKsP",
        "outputId": "0457180a-567f-40c6-cdcc-76ab630a1d92"
      },
      "execution_count": 26,
      "outputs": [
        {
          "output_type": "stream",
          "name": "stdout",
          "text": [
            "Test 1, Difference = 0.0\n",
            "Test 2, Difference = 0.0\n",
            "Test 3, Difference = 0.0\n",
            "Test 4, Difference = 0.0\n",
            "Test 5, Difference = 4.440892098500626e-16\n"
          ]
        }
      ]
    },
    {
      "cell_type": "markdown",
      "source": [
        "\n",
        "# 3-point Edge Midpoint Quadrature Over a Reference Triangle\n",
        "To test this function we do essentially the same thing as in the previous section, but with 6 constants $c_0, c_1, c_2, c_3, c_4, c_5 ∈ c$ on the form $c_0x^2 + c_1y^2 + c_2xy + c_3x + c_4y + c_5$. This can be integrated to get that the integral for this over the reference triangle would be $\\frac{c_0}{12} + \\frac{c_1}{12} + \\frac{c_2}{24} + \\frac{c_3}{6} + \\frac{c_4}{6} + \\frac{c_5}{2}$. We compare this to the result from the function and see that it is equal, outside of occasional rounding or float precision errors."
      ],
      "metadata": {
        "id": "JJc3ibYgBMAt"
      }
    },
    {
      "cell_type": "code",
      "source": [
        "def em_test(iters):\n",
        "    for test in range(iters):\n",
        "        c = [np.random.rand() * 20 - 10 for _ in range(6)]\n",
        "\n",
        "        def f(x, y):\n",
        "            return c[0] * x**2 + c[1] * y**2 + c[2] * x * y + c[3] * x + c[4] * y + c[5]\n",
        "\n",
        "        integral = c[0] / 12 + c[1] / 12 + c[2] / 24 + c[3] / 6 + c[4] / 6 + c[5] / 2\n",
        "\n",
        "        diff = np.abs(edge_midpoint_quadrature(f) - integral)\n",
        "\n",
        "        print(f\"Test {test+1}, Difference = {diff}\")\n",
        "\n",
        "\n",
        "em_test(5)"
      ],
      "metadata": {
        "id": "PGIKfpRhBMSA"
      },
      "execution_count": 26,
      "outputs": []
    },
    {
      "cell_type": "markdown",
      "source": [
        "\n",
        "# Monte Carlo Quadrature Over a Unit Interval\n",
        "\n",
        "To test the Monte Carlo Quadrature implementation, we begin by generating a third degree polynomial together with its integral just as we did in the first problem. We then run the function and get the average difference of 10 times for each amount of sample points, from $1$ to $300$ points. We then place this together with the expected convergence rate $\\frac{1}{\\sqrt{n}}$ (where $n$ is the amount of points) to see if the function converges as expected. Looking at the results, we can clearly se that it does."
      ],
      "metadata": {
        "id": "hWIeJx6OBMhe"
      }
    },
    {
      "cell_type": "code",
      "source": [
        "def mc_test(iters):\n",
        "    c = [np.random.rand() * 20 - 10 for _ in range(4)]\n",
        "\n",
        "    def f(x):\n",
        "        return c[0] * x ** 3 + c[1] * x ** 2 + c[2] * x + c[3]\n",
        "\n",
        "    integral = c[0] / 4 + c[1] / 3 + c[2] / 2 + c[3]\n",
        "    n_pow = 1\n",
        "    differences = []\n",
        "    x_axis = []\n",
        "    y_sqrt_axis = []\n",
        "    for test in range(iters):\n",
        "        x_axis.append(n_pow)\n",
        "        diff = 0\n",
        "        for i in range(10):\n",
        "            diff += np.abs(monte_carlo_quadrature(f, n_pow) - integral)\n",
        "        diff /= 10\n",
        "        differences.append(diff)\n",
        "\n",
        "        y_sqrt_axis.append(differences[0] / n_pow**(1/2))\n",
        "\n",
        "        n_pow += 1\n",
        "\n",
        "    plt.yscale(\"log\")\n",
        "    plt.plot(x_axis, differences, label=\"Error of MC Function\")\n",
        "    plt.plot(x_axis, y_sqrt_axis, label=\"Expected Convergence 1/sqrt(x)\")\n",
        "    plt.xlabel(\"Points\")\n",
        "    plt.ylabel(\"Error\")\n",
        "    plt.legend()\n",
        "    plt.show()\n",
        "\n",
        "\n",
        "mc_test(300)"
      ],
      "metadata": {
        "id": "hge11-v_BMww"
      },
      "execution_count": 26,
      "outputs": []
    },
    {
      "cell_type": "markdown",
      "source": [
        "\n",
        "# Monte Carlo Quadrature Over a Reference Triangle (bonus)\n",
        "\n",
        "To test the implementation of Monte Carlo Quadrature over a reference triangle we do essentially the same thing as we did to test the one for the unit interval, but replacing the function with the one we got from the second problem (which also is a reference triangle problem). We can see here too that the convergence appears to strongly follow the expected value of $\\frac{1}{\\sqrt{n}}$."
      ],
      "metadata": {
        "id": "FSFS1_8FBQjB"
      }
    },
    {
      "cell_type": "code",
      "source": [],
      "metadata": {
        "id": "Kl64D32nBQzJ"
      },
      "execution_count": 26,
      "outputs": []
    },
    {
      "cell_type": "markdown",
      "metadata": {
        "id": "_4GLBv0zWr7m"
      },
      "source": [
        "# **Discussion**"
      ]
    },
    {
      "cell_type": "markdown",
      "metadata": {
        "id": "6bcsDSoRXHZe"
      },
      "source": [
        "The assignments for this week felt more manageable than they have the last few weeks which is a very nice thing, allows for more of a breather. The results are pretty much exactly how they would be expected to be, though the rounding errors are always annoying to deal with because to a point you cannot be entirely sure whether it is a computer problem or if its a problem with your implementation."
      ]
    }
  ]
}