{
  "nbformat": 4,
  "nbformat_minor": 0,
  "metadata": {
    "colab": {
      "provenance": []
    },
    "kernelspec": {
      "name": "python3",
      "display_name": "Python 3"
    }
  },
  "cells": [
    {
      "cell_type": "markdown",
      "metadata": {
        "id": "6RgtXlfYO_i7"
      },
      "source": [
        "# **Lab 4: Integration**\n",
        "**Lovisa Strange**"
      ]
    },
    {
      "cell_type": "markdown",
      "metadata": {
        "id": "9x_J5FVuPzbm"
      },
      "source": [
        "# **Abstract**"
      ]
    },
    {
      "cell_type": "markdown",
      "metadata": {
        "id": "6UFTSzW7P8kL"
      },
      "source": [
        "In this lab report, three methods for approximation of integrals are described."
      ]
    },
    {
      "cell_type": "markdown",
      "metadata": {
        "id": "OkT8J7uOWpT3"
      },
      "source": [
        "#**About the code**"
      ]
    },
    {
      "cell_type": "markdown",
      "metadata": {
        "id": "HmB2noTr1Oyo"
      },
      "source": [
        "A short statement on who is the author of the file, and if the code is distributed under a certain license."
      ]
    },
    {
      "cell_type": "code",
      "metadata": {
        "id": "Pdll1Xc9WP0e",
        "colab": {
          "base_uri": "https://localhost:8080/",
          "height": 35
        },
        "outputId": "04553e6e-d954-47cf-e50a-a208746ea171"
      },
      "source": [
        "\"\"\"This program is a template for lab reports in the course\"\"\"\n",
        "\"\"\"DD2363 Methods in Scientific Computing, \"\"\"\n",
        "\"\"\"KTH Royal Institute of Technology, Stockholm, Sweden.\"\"\"\n",
        "\n",
        "# Copyright (C) 2024 Lovisa Strange (lstrange@kth.se)\n",
        "\n",
        "# This file is part of the course DD2365 Advanced Computation in Fluid Mechanics\n",
        "# KTH Royal Institute of Technology, Stockholm, Sweden\n",
        "#\n",
        "# This is free software: you can redistribute it and/or modify\n",
        "# it under the terms of the GNU Lesser General Public License as published by\n",
        "# the Free Software Foundation, either version 3 of the License, or\n",
        "# (at your option) any later version.\n",
        "\n",
        "# This template is maintained by Johan Hoffman\n",
        "# Please report problems to jhoffman@kth.se"
      ],
      "execution_count": 1,
      "outputs": [
        {
          "output_type": "execute_result",
          "data": {
            "text/plain": [
              "'KTH Royal Institute of Technology, Stockholm, Sweden.'"
            ],
            "application/vnd.google.colaboratory.intrinsic+json": {
              "type": "string"
            }
          },
          "metadata": {},
          "execution_count": 1
        }
      ]
    },
    {
      "cell_type": "markdown",
      "metadata": {
        "id": "28xLGz8JX3Hh"
      },
      "source": [
        "# **Set up environment**"
      ]
    },
    {
      "cell_type": "markdown",
      "metadata": {
        "id": "D2PYNusD08Wa"
      },
      "source": [
        "To have access to the neccessary modules you have to run this cell. If you need additional modules, this is where you add them."
      ]
    },
    {
      "cell_type": "code",
      "metadata": {
        "id": "Xw7VlErAX7NS"
      },
      "source": [
        "# Load neccessary modules.\n",
        "from google.colab import files\n",
        "\n",
        "import time\n",
        "import numpy as np\n",
        "\n",
        "#try:\n",
        "#    from dolfin import *; from mshr import *\n",
        "#except ImportError as e:\n",
        "#    !apt-get install -y -qq software-properties-common\n",
        "#    !add-apt-repository -y ppa:fenics-packages/fenics\n",
        "#    !apt-get update -qq\n",
        "#    !apt install -y --no-install-recommends fenics\n",
        "#    from dolfin import *; from mshr import *\n",
        "\n",
        "#import dolfin.common.plotting as fenicsplot\n",
        "\n",
        "from matplotlib import pyplot as plt\n",
        "from matplotlib import tri\n",
        "from matplotlib import axes\n",
        "from mpl_toolkits.mplot3d import Axes3D"
      ],
      "execution_count": 2,
      "outputs": []
    },
    {
      "cell_type": "markdown",
      "metadata": {
        "id": "gnO3lhAigLev"
      },
      "source": [
        "# **Introduction**"
      ]
    },
    {
      "cell_type": "markdown",
      "metadata": {
        "id": "l5zMzgPlRAF6"
      },
      "source": [
        "When doing calculations, it is useful to be able to do integration without having to compute the exact integral. There are many ways one can approximate an integral, using for example the end points or middle point of an interval to compute the integral. One example is the trapezoidal rule, (Methods in Computational Science, p.240, Johan Hoffman), which uses two endpoints of an interval, and approximates the integral by connecting those points with a degree 1 polynomial, and computing the integral for this polynomial. These methods can also be generalized for domains of higher dimension.\n",
        "\n",
        "Depending on how the node points are chosen, the approximation gives an exact value for different degrees of polynomials. Also, the way that the points are chosen affect the integration error.\n",
        "\n",
        "One can also use stochastic methods, taking a sample of points to get an approximation of the integral. This can be advantageous for domains of higher dimension, since the computations needed scales with number of sampled points rather than the dimension of the space.\n",
        "\n",
        "Below, two deterministic quadrature rules for different domains are presented. Additionally, a stochastic method, Monte Carlo integration, is presented.  "
      ]
    },
    {
      "cell_type": "markdown",
      "metadata": {
        "id": "jOQvukXZq5U5"
      },
      "source": [
        "# **Method**"
      ]
    },
    {
      "cell_type": "markdown",
      "metadata": {
        "id": "zF4iBj5VURZx"
      },
      "source": [
        "##2-point Gauss quadrature over a unit interval\n",
        "One way to compute the integral approximately is to use a Gauss quadrature rule (Methods in Computational Science, p.241, Johan Hoffman). By chosing specific node points, polynomials up to degree $2q+1$ can be computed exactly by $q+1$ node points. This is done by chosing a base of orthogonal polynomials, so thet $$\n",
        "\\int_a^b \\phi (x) s(x) dx = 0 \\;\\; ∀ s \\in P^q([a,b]).\n",
        "$$\n",
        "The quadrature points are given by the system $$\n",
        "\\sum_{j=0}^q φ_i(x_j)w_j = \\int_a^b φ_i(x) dx, \\; \\; i = 0,...,2q+1.\n",
        "$$\n",
        "To do this over a general interval, we use the transformation $$F:\\hat Ω \\to Ω$$ and rewrite the integral using the determinant of the jacobian of the transformation $$\\int_\\Omega f(x) dx = \\int_{\\hat Ω} f(F(\\hat x)) |det(F')|.$$ This then gives the approximation $$\n",
        "\\int_\\Omega f(x) dx \\approx |det(F')|\\sum_{i=0}^q f(F(\\hat{x}))w_i.\n",
        "$$\n",
        "\n",
        "In this case, we want to compute the integral over the interval $[0,1],$ so we get the map $$F(\\hat x) = \\frac{1+\\hat x}{2}$$\n",
        "and it follows that $$F' = \\frac{1}{2} \\implies |det F'| = \\frac{1}{2}.$$\n",
        "\n",
        "As in the problem solving assignment, we can the identify that $$\\hat w_i = \\frac{1}{2}$$ and\n",
        "$$\\hat x_0 = \\frac{1}{2}(\\frac{1}{\\sqrt{3}}+1)\n",
        "$$\n",
        "and\n",
        "$$\n",
        "\\hat x_1 = \\frac{1}{2}(-\\frac{1}{\\sqrt{3}}+1).$$\n",
        "\n",
        "The algorithm for this is shown below."
      ]
    },
    {
      "cell_type": "code",
      "source": [
        "# Two point Gauss quadrature over [0,1]\n",
        "\n",
        "## Input: A function f(x) to be approximated\n",
        "## Output: An approximation of the integral from 0 to 1 of f(x)\n",
        "def two_point_gauss_quadrature(f):\n",
        "  q = 2\n",
        "\n",
        "  sum = 0\n",
        "\n",
        "  w = [1/2,1/2] # weights\n",
        "  x = [1/2*(1/np.sqrt(3)+1),1/2*(-1/np.sqrt(3)+1)] # quadrature points\n",
        "\n",
        "  for i in range(q): # computing the sum\n",
        "    sum += w[i]*f(x[i])\n",
        "\n",
        "  return sum"
      ],
      "metadata": {
        "id": "gCWTJPEKC3Vp"
      },
      "execution_count": 4,
      "outputs": []
    },
    {
      "cell_type": "markdown",
      "source": [
        "##3-point edge midpoint quadrature over a reference triangle\n",
        "We know from (Methods in Computational Science, p.243, Johan Hoffman) that the 3-point Gauss quadrature for a reference triangele (with verticies in $(0,0), (1,0)$ and $(0,1)$) is given by $$\n",
        "\\int_0^1\\int^1_0 f(x) dx = \\sum_{i=0}^2 w_if(x_i),\n",
        "$$\n",
        "with $$w_0=w_1=w_2=\\frac{1}{6}.$$\n",
        "we also use the midpoints of the edges of the triangle as node points. More specifically, we get the points $$(x_0,y_0) = (\\frac{1}{2},0),$$\n",
        "$$(x_1,y_1) = (0,\\frac{1}{2})$$ and $$(x_2,y_2) = (\\frac{1}{2},\\frac{1}{2}).$$\n",
        "\n",
        "The algorithm for this is presented below."
      ],
      "metadata": {
        "id": "dOhA327hANEr"
      }
    },
    {
      "cell_type": "code",
      "source": [
        "# Three point edge midpoint quadrature over reference triangle\n",
        "\n",
        "## Input: A function f(x,y) to be approximated\n",
        "## Output: An approximation of the integral over the reference triangle f(x,y)\n",
        "\n",
        "def three_point_edge_midpoint_quadrature(f):\n",
        "  q = 3\n",
        "\n",
        "  sum = 0\n",
        "\n",
        "  w = [1/6,1/6,1/6] # weights\n",
        "  x = [[1/2,0], [0,1/2],[1/2,1/2]] # quadrature points\n",
        "\n",
        "  for i in range(q):\n",
        "    sum += w[i]*f(x[i][0],x[i][1]) # computing the sum\n",
        "\n",
        "  return sum\n",
        "\n"
      ],
      "metadata": {
        "id": "O2-fR0bsB9bz"
      },
      "execution_count": 5,
      "outputs": []
    },
    {
      "cell_type": "markdown",
      "source": [
        "## Monte Carlo integration\n",
        "\n",
        "Monte carlo integration (Methods in Computational Science, p.268, Johan Hoffman) is another version of integral approximation. Here, we use the fact that for a random sample of node points from a uniform distribution and a function g, the mean is given by $$\n",
        "\\bar g = \\frac{1}{n}\\sum_{i=1}^n g(x_i)\n",
        "$$\n",
        "and the expected value is given by $$\n",
        "E[g] = \\frac{1}{|D|}\\int_D g(x) dx.  \n",
        "$$\n",
        "Also, the law of large numbers tells us that, for n large enough, $\\bar g \\approx E[g].$\n",
        "It then directly follows that we can approximate the integral by $$\n",
        "\\int_D g(x) dx \\approx |D|\\frac{1}{n}\\sum_{i=1}^n g(x_i).\n",
        "$$\n",
        "\n",
        "In this case, we look at the interval $[0,1]$ so $|D|=1. $ The algorithm for this is below.\n"
      ],
      "metadata": {
        "id": "Exrz3CnuB8D3"
      }
    },
    {
      "cell_type": "code",
      "source": [
        "# Monte Carlo integration over unit interval [0,1]\n",
        "\n",
        "## Input: A function f(x) to be approximated, n number of points to be sampled\n",
        "## Output: An approximation of the integral from 0 to 1 of f(x)\n",
        "\n",
        "def monte_carlo_integration(f,n):\n",
        "  sum = 0\n",
        "\n",
        "  for i in range(n):\n",
        "\n",
        "    sum += 1/n * f(np.random.uniform())\n",
        "\n",
        "  return sum"
      ],
      "metadata": {
        "id": "nbOsNmzPHOSe"
      },
      "execution_count": 12,
      "outputs": []
    },
    {
      "cell_type": "markdown",
      "metadata": {
        "id": "SsQLT38gVbn_"
      },
      "source": [
        "# **Results**\n",
        "In this section, the results produced by the algorithms in the previous section are presented"
      ]
    },
    {
      "cell_type": "markdown",
      "source": [
        "##2-point Gauss quadrature over a unit interval\n",
        "We know that the 2-point Gauss quadrature is exact for polynomials of degree 3. Therefore, we can see if the result is correct for the polynomial $$\n",
        "f(x) = x^3+x^2+x+1\n",
        "$$\n",
        "by computing the integral $$\n",
        "\\int_0^1 f(x) dx = \\int_0^1 x^3+x^2+x+1 \\;\\; dx =\n",
        "$$\n",
        "$$\n",
        "= \\Big[ \\frac{x^4}{4}+\\frac{x^3}{3} +\\frac{x^2}{2}+ x \\Big]_0^1 =\n",
        "$$\n",
        "$$\n",
        "=\\frac{1^4}{4}+\\frac{1^3}{3}+\\frac{1^2}{2}+1 = \\frac{25}{12} ≈ 2.08333...\n",
        "$$\n",
        "We can define this function as"
      ],
      "metadata": {
        "id": "JFncQMyJNmDx"
      }
    },
    {
      "cell_type": "code",
      "source": [
        "def f(x):\n",
        "  return x**3 + x**2 + x + 1\n"
      ],
      "metadata": {
        "id": "CSf5fy9wBW1f"
      },
      "execution_count": 23,
      "outputs": []
    },
    {
      "cell_type": "markdown",
      "source": [
        "Then, we compute the integral using the Gauss quadrature, and compare it to the expected result."
      ],
      "metadata": {
        "id": "_JVOYKimmIqc"
      }
    },
    {
      "cell_type": "code",
      "source": [
        "approx_sol = two_point_gauss_quadrature(f)\n",
        "\n",
        "exact_sol = 25/12\n",
        "\n",
        "diff = abs(exact_sol-approx_sol)\n",
        "\n",
        "print(\"The approximate result is \", two_point_gauss_quadrature(f))\n",
        "print(\"The exact result is \",exact_sol)\n",
        "print(\"The difference between the approximate and exact solution is \", diff)"
      ],
      "metadata": {
        "colab": {
          "base_uri": "https://localhost:8080/"
        },
        "id": "Kq-LZjrHmXdh",
        "outputId": "9efa2579-aaa1-4322-ea78-989e95a87eb8"
      },
      "execution_count": 22,
      "outputs": [
        {
          "output_type": "stream",
          "name": "stdout",
          "text": [
            "The approximate result is  2.2037037037037037\n",
            "The exact result is  2.0833333333333335\n",
            "The difference between the approximate and exact solution is  0.12037037037037024\n"
          ]
        }
      ]
    },
    {
      "cell_type": "markdown",
      "source": [
        "As we can see, this difference is very small, so the approximation of the integral is good. The result also holds for polynomials of the same form, $$\n",
        "f(x) = ax^3+bx^2+cx+d\n",
        "$$\n",
        "for coefficients $a,b,c,d.$"
      ],
      "metadata": {
        "id": "cMAb0Ig0mr4H"
      }
    },
    {
      "cell_type": "markdown",
      "source": [
        "##3-point edge midpoint quadrature over a reference triangle\n",
        "The three point Gauss quadrature over a reference triangle should be exact for a quadratic polynomial. We define $$\n",
        "g(x,y) = x^2 + y^2 + xy + x + y + 1\n",
        "$$\n",
        "We can then compute the exact integral $$\n",
        "∫_0^1\\int_0^{1-x} g(x,y) dydx =\n",
        "$$\n",
        "$$\n",
        "=∫_0^1\\int_0^{1-x} x^2 + y^2 + xy + x + y + 1 \\;\\; dydx =\n",
        "$$\n",
        "$$=∫_0^1 \\Big[ x^2y + \\frac{y^3}{3} + x\\frac{y^2}{2}+xy +\\frac{y^2}{2} +y\\Big]_0^{1-x} dx =$$\n",
        "$$\n",
        "=∫_0^1 x^2(1-x) + \\frac{(1-x)^3}{3} +x\\frac{(1-x)^2}{2} + x(1-x) +\\frac{(1-x)^2}{2} +(1-x)\\;\\; dx =\n",
        "$$\n",
        "\n",
        "$$\n",
        "= \\Big[ \\frac{x^3}{3}-\\frac{x^4}{4} - \\frac{(1-x)^4}{12}+\\frac{1}{2}(\\frac{x^4}{4} - \\frac{2x^3}{3} + \\frac{x^2}{2})+\\frac{x^2}{2}- \\frac{x^3}{3}-\\frac{(1-x)^3}{6} + x - \\frac{x^2}{2}\\Big ]_0^1 =\n",
        "$$\n",
        "$$\n",
        "=\\frac{1^3}{3}-\\frac{1^4}{4}-0 + \\frac{1}{2}(\\frac{1^4}{4}-\\frac{2\\cdot 1^3}{3}+ \\frac{1^2}{2})+ \\frac{1^2}{2}-\\frac{1^3}{3} - 0 + 1- \\frac{1^2}{2} - (-\\frac{1^4}{12} - \\frac{1^3}{6})= $$\n",
        "\n",
        "$$\n",
        "= \\frac{25}{24} ≈ 1.04166....\n",
        "$$\n",
        "\n",
        "Defining the function $g(x,y)$, we get"
      ],
      "metadata": {
        "id": "WiAQXLNapkGw"
      }
    },
    {
      "cell_type": "code",
      "source": [
        "def g(x,y):\n",
        "  return x**2 + y**2 + x*y + x + y + 1"
      ],
      "metadata": {
        "id": "Oh-WcD-DF1Ue"
      },
      "execution_count": 15,
      "outputs": []
    },
    {
      "cell_type": "markdown",
      "source": [
        "And comparing the result to the exact answer, we get"
      ],
      "metadata": {
        "id": "sB1xNKX6yJPW"
      }
    },
    {
      "cell_type": "code",
      "source": [
        "approx_sol = three_point_edge_midpoint_quadrature(g)\n",
        "\n",
        "exact_sol = 25/24\n",
        "\n",
        "diff = abs(exact_sol-approx_sol)\n",
        "\n",
        "print(\"The approximate result is \", three_point_edge_midpoint_quadrature(g))\n",
        "print(\"The exact result is \",exact_sol)\n",
        "print(\"The difference between the approximate and exact solution is \", diff)"
      ],
      "metadata": {
        "colab": {
          "base_uri": "https://localhost:8080/"
        },
        "id": "QSfxmM66yOV7",
        "outputId": "737ead07-5811-4418-df9d-886118f1444b"
      },
      "execution_count": 20,
      "outputs": [
        {
          "output_type": "stream",
          "name": "stdout",
          "text": [
            "The approximate result is  1.0416666666666665\n",
            "The exact result is  1.0416666666666667\n",
            "The difference between the approximate and exact solution is  2.220446049250313e-16\n"
          ]
        }
      ]
    },
    {
      "cell_type": "markdown",
      "source": [
        "We can again see that the nummerical result is close to the actual solution. The result also holds for polynomials of the same form, $$\n",
        "f(x) = ax^2+by^2+cxy+dx+ey+f\n",
        "$$\n",
        "for coefficients $a,b,c,d,e,f.$"
      ],
      "metadata": {
        "id": "lm1iwOPoyiO7"
      }
    },
    {
      "cell_type": "markdown",
      "source": [
        "## Monte Carlo integration\n",
        "We now want to compare the convergence of the Monte Carlo integration for increasing values of n. We define a function $$h(x) = x$$ that has the exact integral $$\n",
        "\\int_0^1 x dx = \\Big [\\frac{x^2}{2}\\Big]_0^1 = 0.5\n",
        "$$\n"
      ],
      "metadata": {
        "id": "Qs0qQDd11MfD"
      }
    },
    {
      "cell_type": "code",
      "source": [
        "def h(x):\n",
        "  return x"
      ],
      "metadata": {
        "id": "FyKAossxILXc"
      },
      "execution_count": 17,
      "outputs": []
    },
    {
      "cell_type": "markdown",
      "source": [
        "Now, we look at the convergence of the result for different n:s."
      ],
      "metadata": {
        "id": "AUfp1MQ02K5z"
      }
    },
    {
      "cell_type": "code",
      "source": [
        "exact_sol = 0.5\n",
        "\n",
        "print(\"n:        result:               diff to real solution:\")\n",
        "for n in [10,50,100,500,1000,10000,100000,1000000,10000000]:\n",
        "  approx_sol = monte_carlo_integration(h,n)\n",
        "  diff_to_real = abs(approx_sol- exact_sol)\n",
        "  print(n, (8-len(str(n)))*\" \", approx_sol,(20-len(str(approx_sol)))*\" \", diff_to_real)\n",
        "\n"
      ],
      "metadata": {
        "colab": {
          "base_uri": "https://localhost:8080/"
        },
        "id": "zce9WusYNAIv",
        "outputId": "a8d47817-40c2-4f69-89ed-7d6e5ed67f1f"
      },
      "execution_count": 18,
      "outputs": [
        {
          "output_type": "stream",
          "name": "stdout",
          "text": [
            "n:        result:               diff to real solution:\n",
            "10        0.7515844966641212    0.2515844966641212\n",
            "50        0.5523042389503222    0.05230423895032221\n",
            "100       0.5099789654611351    0.009978965461135081\n",
            "500       0.5096758046223211    0.009675804622321094\n",
            "1000      0.4971581668710966    0.0028418331289034038\n",
            "10000     0.49923027955708443   0.0007697204429155668\n",
            "100000    0.5003786859550379    0.00037868595503787184\n",
            "1000000   0.49931327348881943   0.0006867265111805687\n",
            "10000000  0.5000021977437101    2.1977437101305952e-06\n"
          ]
        }
      ]
    },
    {
      "cell_type": "markdown",
      "source": [
        "As we can see, the results seems to converge to the real value of the integral. We can see that the difference between the result and the real solution gets smaller for larger n:s. There is some variance between runs, which is because Monte Carlo integration is a stochastic method. Running the simulation multiple times gives similar results."
      ],
      "metadata": {
        "id": "OuHMmS_NcVI4"
      }
    },
    {
      "cell_type": "markdown",
      "metadata": {
        "id": "_4GLBv0zWr7m"
      },
      "source": [
        "# **Discussion**"
      ]
    },
    {
      "cell_type": "markdown",
      "metadata": {
        "id": "6bcsDSoRXHZe"
      },
      "source": [
        "The results were mostly expected. For the two Gauss quadrature methods, we got almost the exact integral that we expected, except for some nummerical preciscion errors. It also approximates the integral for polynomials of higher degree, but it does not give an exact result. This is as expected.\n",
        "\n",
        "For the Monte Carlo integration, we get a better result for higher values of n, which was expected, since we sample a larger amount of points. The law of large number says that the result holds for large enough n:s, so it is reasonable to expect the result to be closer to the real value the higher n that is used."
      ]
    }
  ]
}